{
 "cells": [
  {
   "cell_type": "markdown",
   "metadata": {},
   "source": [
    "# LSTM"
   ]
  },
  {
   "cell_type": "markdown",
   "metadata": {},
   "source": [
    "### read .csv file"
   ]
  },
  {
   "cell_type": "code",
   "execution_count": 1,
   "metadata": {},
   "outputs": [],
   "source": [
    "import pandas as pd \n",
    "import numpy as np\n",
    "dataset = pd.read_csv('F.csv')"
   ]
  },
  {
   "cell_type": "markdown",
   "metadata": {},
   "source": [
    "### sort value according to date"
   ]
  },
  {
   "cell_type": "code",
   "execution_count": 2,
   "metadata": {
    "scrolled": true
   },
   "outputs": [],
   "source": [
    "dataset = dataset.sort_values('Date')"
   ]
  },
  {
   "cell_type": "markdown",
   "metadata": {},
   "source": [
    "### check empty field"
   ]
  },
  {
   "cell_type": "code",
   "execution_count": 3,
   "metadata": {
    "scrolled": true
   },
   "outputs": [
    {
     "data": {
      "text/plain": [
       "Date         0\n",
       "Open         0\n",
       "High         0\n",
       "Low          0\n",
       "Close        0\n",
       "Adj Close    0\n",
       "Volume       0\n",
       "dtype: int64"
      ]
     },
     "execution_count": 3,
     "metadata": {},
     "output_type": "execute_result"
    }
   ],
   "source": [
    "dataset.isnull().sum()"
   ]
  },
  {
   "cell_type": "markdown",
   "metadata": {},
   "source": [
    "### Used for date"
   ]
  },
  {
   "cell_type": "code",
   "execution_count": 4,
   "metadata": {},
   "outputs": [
    {
     "name": "stdout",
     "output_type": "stream",
     "text": [
      "5194   2020-08-25\n",
      "5195   2020-08-26\n",
      "5196   2020-08-27\n",
      "5197   2020-08-28\n",
      "5198   2020-08-31\n",
      "Name: Date, dtype: datetime64[ns]\n"
     ]
    }
   ],
   "source": [
    "date_old = dataset['Date'].copy()\n",
    "date_old = pd.to_datetime(date_old)\n",
    "#view the data of the last 5 days\n",
    "print(date_old.tail(5))"
   ]
  },
  {
   "cell_type": "code",
   "execution_count": 5,
   "metadata": {},
   "outputs": [
    {
     "name": "stdout",
     "output_type": "stream",
     "text": [
      "2020-09-01 00:00:00\n"
     ]
    }
   ],
   "source": [
    "from datetime import datetime\n",
    "import datetime\n",
    "lastDay = date_old.iloc[-1]\n",
    "lastNext = lastDay + datetime.timedelta(days=1)\n",
    "#print the next day that should be the first day of the predict 30 days\n",
    "print(lastNext)"
   ]
  },
  {
   "cell_type": "markdown",
   "metadata": {},
   "source": [
    "### obtain the date of next 30 days"
   ]
  },
  {
   "cell_type": "code",
   "execution_count": 6,
   "metadata": {},
   "outputs": [
    {
     "name": "stdout",
     "output_type": "stream",
     "text": [
      "                    0\n",
      "2020-09-01 2020-09-01\n",
      "2020-09-02 2020-09-02\n",
      "2020-09-03 2020-09-03\n",
      "2020-09-04 2020-09-04\n",
      "2020-09-05 2020-09-05\n"
     ]
    }
   ],
   "source": [
    "datelist = pd.date_range(lastNext, periods=30).tolist()\n",
    "datelist = pd.to_datetime(datelist)\n",
    "date_30 = datelist.copy()\n",
    "date_30 = date_30.to_frame()\n",
    "#print the first 5 days of the predicted 30 days\n",
    "print(date_30.head(5))"
   ]
  },
  {
   "cell_type": "markdown",
   "metadata": {},
   "source": [
    "### combine old date with new date"
   ]
  },
  {
   "cell_type": "code",
   "execution_count": 7,
   "metadata": {},
   "outputs": [
    {
     "name": "stdout",
     "output_type": "stream",
     "text": [
      "              0\n",
      "0    2000-01-03\n",
      "1    2000-01-04\n",
      "2    2000-01-05\n",
      "3    2000-01-06\n",
      "4    2000-01-07\n",
      "...         ...\n",
      "5224 2020-09-26\n",
      "5225 2020-09-27\n",
      "5226 2020-09-28\n",
      "5227 2020-09-29\n",
      "5228 2020-09-30\n",
      "\n",
      "[5229 rows x 1 columns]\n"
     ]
    }
   ],
   "source": [
    "combined_date = pd.concat([date_old,date_30],ignore_index=True)\n",
    "print(combined_date)"
   ]
  },
  {
   "cell_type": "markdown",
   "metadata": {},
   "source": [
    "### drop all column except 'Close'"
   ]
  },
  {
   "cell_type": "code",
   "execution_count": 8,
   "metadata": {},
   "outputs": [
    {
     "name": "stdout",
     "output_type": "stream",
     "text": [
      "[[28.782394]\n",
      " [27.820692]\n",
      " [27.923731]\n",
      " ...\n",
      " [ 6.91    ]\n",
      " [ 6.94    ]\n",
      " [ 6.82    ]]\n"
     ]
    }
   ],
   "source": [
    "close_all = dataset.loc[:, ['Close']].values\n",
    "visual = dataset[['Date', 'Close']].copy()\n",
    "visual['Date'] = pd.to_datetime(visual['Date'])\n",
    "visual.set_index('Date', inplace=True)\n",
    "print(close_all)"
   ]
  },
  {
   "cell_type": "markdown",
   "metadata": {},
   "source": [
    "### Visualisation"
   ]
  },
  {
   "cell_type": "code",
   "execution_count": 9,
   "metadata": {
    "scrolled": true
   },
   "outputs": [
    {
     "data": {
      "text/plain": [
       "Text(0.5, 0.98, 'Original Data')"
      ]
     },
     "execution_count": 9,
     "metadata": {},
     "output_type": "execute_result"
    },
    {
     "data": {
      "image/png": "[encoded data removed]",
      "text/plain": [
       "<Figure size 864x576 with 1 Axes>"
      ]
     },
     "metadata": {
      "needs_background": "light"
     },
     "output_type": "display_data"
    }
   ],
   "source": [
    "import numpy as np \n",
    "import matplotlib.pyplot as plt\n",
    "plt.figure(figsize=(12,8))\n",
    "plt.plot(visual)\n",
    "plt.xticks(fontsize=10)\n",
    "plt.yticks(fontsize=10)\n",
    "plt.xlabel('Date (year)', fontsize=15)\n",
    "plt.ylabel('Close', fontsize=15)\n",
    "plt.suptitle('Original Data', fontsize=20)"
   ]
  },
  {
   "cell_type": "markdown",
   "metadata": {},
   "source": [
    "### splitting dataset into front 80% for training and last 20% for testing"
   ]
  },
  {
   "cell_type": "code",
   "execution_count": 10,
   "metadata": {},
   "outputs": [],
   "source": [
    "training_size=int(len(close_all)*0.8)\n",
    "test_size=len(close_all)-training_size\n",
    "train_data,test_data=close_all[0:training_size,:],close_all[training_size:len(close_all),:1]"
   ]
  },
  {
   "cell_type": "code",
   "execution_count": 11,
   "metadata": {},
   "outputs": [
    {
     "data": {
      "text/plain": [
       "(4159, 1040)"
      ]
     },
     "execution_count": 11,
     "metadata": {},
     "output_type": "execute_result"
    }
   ],
   "source": [
    "training_size,test_size"
   ]
  },
  {
   "cell_type": "markdown",
   "metadata": {},
   "source": [
    "### Scale the training data within range of 0 to 1"
   ]
  },
  {
   "cell_type": "code",
   "execution_count": 12,
   "metadata": {},
   "outputs": [
    {
     "data": {
      "text/plain": [
       "array([[0.91441431],\n",
       "       [0.88246236],\n",
       "       [0.88588577],\n",
       "       ...,\n",
       "       [0.40500512],\n",
       "       [0.40600185],\n",
       "       [0.40965653]])"
      ]
     },
     "execution_count": 12,
     "metadata": {},
     "output_type": "execute_result"
    }
   ],
   "source": [
    "from sklearn.preprocessing import MinMaxScaler\n",
    "scaler = MinMaxScaler(feature_range = (0, 1))\n",
    "train_data = scaler.fit_transform(train_data)\n",
    "train_data"
   ]
  },
  {
   "cell_type": "markdown",
   "metadata": {},
   "source": [
    "### set the time step to 100 for training set and testing set"
   ]
  },
  {
   "cell_type": "code",
   "execution_count": 13,
   "metadata": {
    "scrolled": true
   },
   "outputs": [
    {
     "name": "stdout",
     "output_type": "stream",
     "text": [
      "(4058, 100)\n",
      "(4058,)\n"
     ]
    }
   ],
   "source": [
    "time_step = 100\n",
    "X_train_list, y_train_list = [], []\n",
    "for i in range(len(train_data)-time_step-1):\n",
    "    X_train_list.append(train_data[i:(i+time_step), 0])\n",
    "    y_train_list.append(train_data[i + time_step, 0])\n",
    "X_train, y_train = np.array(X_train_list),np.array(y_train_list)\n",
    "print(X_train.shape)\n",
    "print(y_train.shape)"
   ]
  },
  {
   "cell_type": "markdown",
   "metadata": {},
   "source": [
    "### reshape the data to fit in LSTM model"
   ]
  },
  {
   "cell_type": "code",
   "execution_count": 14,
   "metadata": {},
   "outputs": [],
   "source": [
    "X_train =X_train.reshape(X_train.shape[0],X_train.shape[1] , 1)\n",
    "#X_test = X_test.reshape(X_test.shape[0],X_test.shape[1] , 1)"
   ]
  },
  {
   "cell_type": "markdown",
   "metadata": {},
   "source": [
    "### LSTM modelling"
   ]
  },
  {
   "cell_type": "code",
   "execution_count": 15,
   "metadata": {},
   "outputs": [],
   "source": [
    "from tensorflow.keras.models import Sequential\n",
    "from tensorflow.keras.layers import Dense\n",
    "from tensorflow.keras.layers import LSTM"
   ]
  },
  {
   "cell_type": "code",
   "execution_count": 16,
   "metadata": {},
   "outputs": [],
   "source": [
    "model=Sequential()\n",
    "model.add(LSTM(150,return_sequences=True,input_shape=(time_step,1)))\n",
    "model.add(LSTM(100,return_sequences=True))\n",
    "model.add(LSTM(80))\n",
    "model.add(Dense(1))\n",
    "model.compile(loss='mean_squared_error',optimizer='adam')"
   ]
  },
  {
   "cell_type": "code",
   "execution_count": 17,
   "metadata": {
    "scrolled": false
   },
   "outputs": [
    {
     "name": "stdout",
     "output_type": "stream",
     "text": [
      "Model: \"sequential\"\n",
      "_________________________________________________________________\n",
      "Layer (type)                 Output Shape              Param #   \n",
      "=================================================================\n",
      "lstm (LSTM)                  (None, 100, 150)          91200     \n",
      "_________________________________________________________________\n",
      "lstm_1 (LSTM)                (None, 100, 100)          100400    \n",
      "_________________________________________________________________\n",
      "lstm_2 (LSTM)                (None, 80)                57920     \n",
      "_________________________________________________________________\n",
      "dense (Dense)                (None, 1)                 81        \n",
      "=================================================================\n",
      "Total params: 249,601\n",
      "Trainable params: 249,601\n",
      "Non-trainable params: 0\n",
      "_________________________________________________________________\n"
     ]
    }
   ],
   "source": [
    "model.summary()"
   ]
  },
  {
   "cell_type": "markdown",
   "metadata": {},
   "source": [
    "### fitting the training set into the model"
   ]
  },
  {
   "cell_type": "code",
   "execution_count": 18,
   "metadata": {
    "scrolled": true
   },
   "outputs": [
    {
     "name": "stdout",
     "output_type": "stream",
     "text": [
      "Epoch 1/100\n",
      "127/127 [==============================] - 34s 269ms/step - loss: 0.0045\n",
      "Epoch 2/100\n",
      "127/127 [==============================] - 53s 417ms/step - loss: 7.4535e-04\n",
      "Epoch 3/100\n",
      "127/127 [==============================] - 55s 434ms/step - loss: 5.6378e-04\n",
      "Epoch 4/100\n",
      "127/127 [==============================] - 73s 575ms/step - loss: 5.2191e-04\n",
      "Epoch 5/100\n",
      "127/127 [==============================] - 81s 641ms/step - loss: 4.7334e-04\n",
      "Epoch 6/100\n",
      "127/127 [==============================] - 88s 695ms/step - loss: 3.9961e-04\n",
      "Epoch 7/100\n",
      "127/127 [==============================] - 100s 787ms/step - loss: 4.1471e-04\n",
      "Epoch 8/100\n",
      "127/127 [==============================] - 105s 826ms/step - loss: 3.5195e-04\n",
      "Epoch 9/100\n",
      "127/127 [==============================] - 98s 772ms/step - loss: 3.0904e-04\n",
      "Epoch 10/100\n",
      "127/127 [==============================] - 104s 821ms/step - loss: 2.9738e-04\n",
      "Epoch 11/100\n",
      "127/127 [==============================] - 107s 841ms/step - loss: 3.0046e-04\n",
      "Epoch 12/100\n",
      "127/127 [==============================] - 101s 798ms/step - loss: 2.6723e-04\n",
      "Epoch 13/100\n",
      "127/127 [==============================] - 97s 767ms/step - loss: 2.3664e-04\n",
      "Epoch 14/100\n",
      "127/127 [==============================] - 100s 788ms/step - loss: 2.3799e-04\n",
      "Epoch 15/100\n",
      "127/127 [==============================] - 104s 821ms/step - loss: 2.3146e-04\n",
      "Epoch 16/100\n",
      "127/127 [==============================] - 102s 805ms/step - loss: 2.0947e-04\n",
      "Epoch 17/100\n",
      "127/127 [==============================] - 99s 782ms/step - loss: 1.8717e-04\n",
      "Epoch 18/100\n",
      "127/127 [==============================] - 104s 821ms/step - loss: 1.9771e-04\n",
      "Epoch 19/100\n",
      "127/127 [==============================] - 100s 786ms/step - loss: 1.7262e-04\n",
      "Epoch 20/100\n",
      "127/127 [==============================] - 104s 818ms/step - loss: 1.8583e-04\n",
      "Epoch 21/100\n",
      "127/127 [==============================] - 99s 780ms/step - loss: 1.6582e-04\n",
      "Epoch 22/100\n",
      "127/127 [==============================] - 100s 788ms/step - loss: 1.6612e-04\n",
      "Epoch 23/100\n",
      "127/127 [==============================] - 99s 779ms/step - loss: 1.5668e-04\n",
      "Epoch 24/100\n",
      "127/127 [==============================] - 100s 785ms/step - loss: 1.4044e-04\n",
      "Epoch 25/100\n",
      "127/127 [==============================] - 101s 799ms/step - loss: 1.6922e-04\n",
      "Epoch 26/100\n",
      "127/127 [==============================] - 101s 798ms/step - loss: 1.5205e-04\n",
      "Epoch 27/100\n",
      "127/127 [==============================] - 100s 789ms/step - loss: 1.4945e-04\n",
      "Epoch 28/100\n",
      "127/127 [==============================] - 104s 820ms/step - loss: 1.7570e-04\n",
      "Epoch 29/100\n",
      "127/127 [==============================] - 101s 799ms/step - loss: 1.4763e-04\n",
      "Epoch 30/100\n",
      "127/127 [==============================] - 100s 784ms/step - loss: 1.7256e-04\n",
      "Epoch 31/100\n",
      "127/127 [==============================] - 105s 825ms/step - loss: 1.3635e-04\n",
      "Epoch 32/100\n",
      "127/127 [==============================] - 97s 766ms/step - loss: 1.7037e-04\n",
      "Epoch 33/100\n",
      "127/127 [==============================] - 102s 801ms/step - loss: 1.5966e-04\n",
      "Epoch 34/100\n",
      "127/127 [==============================] - 101s 793ms/step - loss: 1.3654e-04\n",
      "Epoch 35/100\n",
      "127/127 [==============================] - 102s 800ms/step - loss: 1.4478e-04\n",
      "Epoch 36/100\n",
      "127/127 [==============================] - 103s 812ms/step - loss: 1.6983e-04\n",
      "Epoch 37/100\n",
      "127/127 [==============================] - 101s 795ms/step - loss: 1.2274e-04\n",
      "Epoch 38/100\n",
      "127/127 [==============================] - 104s 816ms/step - loss: 1.2105e-04\n",
      "Epoch 39/100\n",
      "127/127 [==============================] - 102s 803ms/step - loss: 1.3000e-04\n",
      "Epoch 40/100\n",
      "127/127 [==============================] - 100s 789ms/step - loss: 1.3968e-04\n",
      "Epoch 41/100\n",
      "127/127 [==============================] - 103s 809ms/step - loss: 1.7466e-04\n",
      "Epoch 42/100\n",
      "127/127 [==============================] - 102s 802ms/step - loss: 1.6094e-04\n",
      "Epoch 43/100\n",
      "127/127 [==============================] - 103s 808ms/step - loss: 1.2837e-04\n",
      "Epoch 44/100\n",
      "127/127 [==============================] - 101s 799ms/step - loss: 1.3806e-04\n",
      "Epoch 45/100\n",
      "127/127 [==============================] - 105s 830ms/step - loss: 1.5063e-04\n",
      "Epoch 46/100\n",
      "127/127 [==============================] - 104s 818ms/step - loss: 1.2360e-04\n",
      "Epoch 47/100\n",
      "127/127 [==============================] - 98s 773ms/step - loss: 1.3466e-04\n",
      "Epoch 48/100\n",
      "127/127 [==============================] - 98s 774ms/step - loss: 1.3543e-04\n",
      "Epoch 49/100\n",
      "127/127 [==============================] - 102s 800ms/step - loss: 1.3549e-04\n",
      "Epoch 50/100\n",
      "127/127 [==============================] - 95s 750ms/step - loss: 1.2552e-04\n",
      "Epoch 51/100\n",
      "127/127 [==============================] - 103s 813ms/step - loss: 1.4920e-04\n",
      "Epoch 52/100\n",
      "127/127 [==============================] - 103s 808ms/step - loss: 1.5213e-04\n",
      "Epoch 53/100\n",
      "127/127 [==============================] - 100s 784ms/step - loss: 1.5322e-04\n",
      "Epoch 54/100\n",
      "127/127 [==============================] - 98s 771ms/step - loss: 1.2881e-04\n",
      "Epoch 55/100\n",
      "127/127 [==============================] - 104s 815ms/step - loss: 1.3323e-04\n",
      "Epoch 56/100\n",
      "127/127 [==============================] - 95s 751ms/step - loss: 1.4955e-04\n",
      "Epoch 57/100\n",
      "127/127 [==============================] - 99s 783ms/step - loss: 1.4187e-04\n",
      "Epoch 58/100\n",
      "127/127 [==============================] - 100s 791ms/step - loss: 1.3609e-04\n",
      "Epoch 59/100\n",
      "127/127 [==============================] - 105s 825ms/step - loss: 1.3469e-04\n",
      "Epoch 60/100\n",
      "127/127 [==============================] - 101s 794ms/step - loss: 1.3230e-04\n",
      "Epoch 61/100\n",
      "127/127 [==============================] - 102s 805ms/step - loss: 1.3808e-04\n",
      "Epoch 62/100\n",
      "127/127 [==============================] - 100s 786ms/step - loss: 1.2362e-04\n",
      "Epoch 63/100\n",
      "127/127 [==============================] - 104s 816ms/step - loss: 1.4166e-04\n",
      "Epoch 64/100\n",
      "127/127 [==============================] - 101s 798ms/step - loss: 1.3984e-04\n",
      "Epoch 65/100\n",
      "127/127 [==============================] - 104s 816ms/step - loss: 1.2822e-04\n",
      "Epoch 66/100\n",
      "127/127 [==============================] - 99s 780ms/step - loss: 1.2206e-04\n",
      "Epoch 67/100\n",
      "127/127 [==============================] - 103s 813ms/step - loss: 1.1689e-04\n",
      "Epoch 68/100\n",
      "127/127 [==============================] - 99s 783ms/step - loss: 1.2054e-04\n",
      "Epoch 69/100\n",
      "127/127 [==============================] - 102s 803ms/step - loss: 1.2495e-04\n",
      "Epoch 70/100\n",
      "127/127 [==============================] - 99s 783ms/step - loss: 1.4328e-04\n",
      "Epoch 71/100\n",
      "127/127 [==============================] - 101s 796ms/step - loss: 1.5384e-04\n",
      "Epoch 72/100\n",
      "127/127 [==============================] - 99s 778ms/step - loss: 1.1912e-04\n",
      "Epoch 73/100\n",
      "127/127 [==============================] - 100s 791ms/step - loss: 1.2653e-04\n",
      "Epoch 74/100\n",
      "127/127 [==============================] - 101s 797ms/step - loss: 1.2316e-04\n",
      "Epoch 75/100\n",
      "127/127 [==============================] - 101s 798ms/step - loss: 1.2572e-04\n",
      "Epoch 76/100\n",
      "127/127 [==============================] - 101s 794ms/step - loss: 1.2053e-04\n",
      "Epoch 77/100\n",
      "127/127 [==============================] - 101s 794ms/step - loss: 1.2343e-04\n",
      "Epoch 78/100\n",
      "127/127 [==============================] - 98s 772ms/step - loss: 1.2258e-04\n",
      "Epoch 79/100\n",
      "127/127 [==============================] - 100s 789ms/step - loss: 1.3089e-04\n",
      "Epoch 80/100\n",
      "127/127 [==============================] - 101s 796ms/step - loss: 1.2037e-04\n",
      "Epoch 81/100\n",
      "127/127 [==============================] - 100s 789ms/step - loss: 1.3072e-04\n",
      "Epoch 82/100\n",
      "127/127 [==============================] - 102s 806ms/step - loss: 1.2973e-04\n",
      "Epoch 83/100\n",
      "127/127 [==============================] - 105s 830ms/step - loss: 1.2293e-04\n",
      "Epoch 84/100\n",
      "127/127 [==============================] - 101s 793ms/step - loss: 1.2158e-04\n",
      "Epoch 85/100\n",
      "127/127 [==============================] - 101s 792ms/step - loss: 1.2812e-04\n",
      "Epoch 86/100\n",
      "127/127 [==============================] - 101s 799ms/step - loss: 1.2384e-04\n",
      "Epoch 87/100\n",
      "127/127 [==============================] - 99s 776ms/step - loss: 1.2836e-04\n",
      "Epoch 88/100\n",
      "127/127 [==============================] - 94s 743ms/step - loss: 1.1794e-04\n",
      "Epoch 89/100\n",
      "127/127 [==============================] - 86s 680ms/step - loss: 1.2627e-04\n",
      "Epoch 90/100\n",
      "127/127 [==============================] - 85s 673ms/step - loss: 1.1918e-04\n",
      "Epoch 91/100\n"
     ]
    },
    {
     "name": "stdout",
     "output_type": "stream",
     "text": [
      "127/127 [==============================] - 89s 699ms/step - loss: 1.2413e-04\n",
      "Epoch 92/100\n",
      "127/127 [==============================] - 87s 686ms/step - loss: 1.1191e-04\n",
      "Epoch 93/100\n",
      "127/127 [==============================] - 88s 694ms/step - loss: 1.1862e-04\n",
      "Epoch 94/100\n",
      "127/127 [==============================] - 88s 695ms/step - loss: 1.3023e-04\n",
      "Epoch 95/100\n",
      "127/127 [==============================] - 94s 743ms/step - loss: 1.2479e-04\n",
      "Epoch 96/100\n",
      "127/127 [==============================] - 92s 725ms/step - loss: 1.4286e-04\n",
      "Epoch 97/100\n",
      "127/127 [==============================] - 86s 680ms/step - loss: 1.3082e-04\n",
      "Epoch 98/100\n",
      "127/127 [==============================] - 85s 665ms/step - loss: 1.1873e-04\n",
      "Epoch 99/100\n",
      "127/127 [==============================] - 89s 697ms/step - loss: 1.1968e-04\n",
      "Epoch 100/100\n",
      "127/127 [==============================] - 78s 613ms/step - loss: 1.1476e-04\n"
     ]
    },
    {
     "data": {
      "text/plain": [
       "<tensorflow.python.keras.callbacks.History at 0x1ca99a75d88>"
      ]
     },
     "execution_count": 18,
     "metadata": {},
     "output_type": "execute_result"
    }
   ],
   "source": [
    "model.fit(X_train,y_train,epochs=100,batch_size=32)"
   ]
  },
  {
   "cell_type": "markdown",
   "metadata": {},
   "source": [
    "### predict the training set"
   ]
  },
  {
   "cell_type": "code",
   "execution_count": 19,
   "metadata": {},
   "outputs": [],
   "source": [
    "train_predict=model.predict(X_train)"
   ]
  },
  {
   "cell_type": "markdown",
   "metadata": {},
   "source": [
    "### calculate the mean squared error between the actual result and predicted result"
   ]
  },
  {
   "cell_type": "code",
   "execution_count": 20,
   "metadata": {},
   "outputs": [
    {
     "data": {
      "text/plain": [
       "0.010324994890685321"
      ]
     },
     "execution_count": 20,
     "metadata": {},
     "output_type": "execute_result"
    }
   ],
   "source": [
    "import math\n",
    "from sklearn.metrics import mean_squared_error\n",
    "math.sqrt(mean_squared_error(y_train,train_predict))"
   ]
  },
  {
   "cell_type": "markdown",
   "metadata": {},
   "source": [
    "### predict the testing set"
   ]
  },
  {
   "cell_type": "code",
   "execution_count": 21,
   "metadata": {},
   "outputs": [
    {
     "data": {
      "text/plain": [
       "array([[0.40899204],\n",
       "       [0.41164999],\n",
       "       [0.41164999],\n",
       "       ...,\n",
       "       [0.18771771],\n",
       "       [0.18871444],\n",
       "       [0.18472752]])"
      ]
     },
     "execution_count": 21,
     "metadata": {},
     "output_type": "execute_result"
    }
   ],
   "source": [
    "test_data = scaler.transform(test_data)\n",
    "test_data"
   ]
  },
  {
   "cell_type": "code",
   "execution_count": 22,
   "metadata": {},
   "outputs": [
    {
     "name": "stdout",
     "output_type": "stream",
     "text": [
      "(939, 100)\n",
      "(939,)\n"
     ]
    }
   ],
   "source": [
    "X_test_list, y_test_list = [], []\n",
    "for i in range(len(test_data)-time_step-1):\n",
    "    X_test_list.append(test_data[i:(i+time_step), 0])\n",
    "    y_test_list.append(test_data[i + time_step, 0])\n",
    "X_test, y_test = np.array(X_test_list),np.array(y_test_list)\n",
    "print(X_test.shape)\n",
    "print(y_test.shape)"
   ]
  },
  {
   "cell_type": "code",
   "execution_count": 23,
   "metadata": {},
   "outputs": [],
   "source": [
    "X_test = X_test.reshape(X_test.shape[0],X_test.shape[1] , 1)"
   ]
  },
  {
   "cell_type": "code",
   "execution_count": 24,
   "metadata": {},
   "outputs": [],
   "source": [
    "test_predict=model.predict(X_test)"
   ]
  },
  {
   "cell_type": "code",
   "execution_count": 25,
   "metadata": {},
   "outputs": [
    {
     "data": {
      "text/plain": [
       "0.005951413685612218"
      ]
     },
     "execution_count": 25,
     "metadata": {},
     "output_type": "execute_result"
    }
   ],
   "source": [
    "math.sqrt(mean_squared_error(y_test,test_predict))"
   ]
  },
  {
   "cell_type": "markdown",
   "metadata": {},
   "source": [
    "### Visualisation of result of training set and testing set"
   ]
  },
  {
   "cell_type": "markdown",
   "metadata": {},
   "source": [
    "blue colour is original data\n",
    "\n",
    "orange colour is predicted value using training data\n",
    "\n",
    "green colour is predicted value using testing data"
   ]
  },
  {
   "cell_type": "code",
   "execution_count": 26,
   "metadata": {
    "scrolled": true
   },
   "outputs": [],
   "source": [
    "# visual is done at up. It shows all, so is equal to close_all\n",
    "# scale back to original form\n",
    "train_predict=scaler.inverse_transform(train_predict)\n",
    "test_predict=scaler.inverse_transform(test_predict)\n",
    "### Plotting \n",
    "# shift train predictions for plotting\n",
    "look_back=time_step\n",
    "trainPredictPlot = np.empty_like(close_all)\n",
    "trainPredictPlot[:, :] = np.nan\n",
    "trainPredictPlot[look_back:len(train_predict)+look_back, :] = train_predict\n",
    "# shift test predictions for plotting\n",
    "testPredictPlot = np.empty_like(close_all)\n",
    "testPredictPlot[:, :] = np.nan\n",
    "testPredictPlot[len(train_predict)+(look_back*2)+1:len(close_all)-1, :] = test_predict"
   ]
  },
  {
   "cell_type": "code",
   "execution_count": 27,
   "metadata": {},
   "outputs": [],
   "source": [
    "dt_train = pd.DataFrame(np.array(trainPredictPlot))\n",
    "visual_train = pd.concat([date_old,dt_train], axis=1, ignore_index=True)\n",
    "visual_train.set_index(visual_train.columns[0],inplace=True)"
   ]
  },
  {
   "cell_type": "code",
   "execution_count": 28,
   "metadata": {},
   "outputs": [],
   "source": [
    "dt_test = pd.DataFrame(np.array(testPredictPlot))\n",
    "visual_test = pd.concat([date_old,dt_test], axis=1, ignore_index=True)\n",
    "visual_test.set_index(visual_test.columns[0],inplace=True)"
   ]
  },
  {
   "cell_type": "code",
   "execution_count": 29,
   "metadata": {},
   "outputs": [
    {
     "data": {
      "text/plain": [
       "Text(0.5, 0.98, 'Original, Train and Test Data')"
      ]
     },
     "execution_count": 29,
     "metadata": {},
     "output_type": "execute_result"
    },
    {
     "data": {
      "image/png": "[encoded data removed]",
      "text/plain": [
       "<Figure size 864x576 with 1 Axes>"
      ]
     },
     "metadata": {
      "needs_background": "light"
     },
     "output_type": "display_data"
    }
   ],
   "source": [
    "# plot baseline and predictions\n",
    "plt.figure(figsize=(12,8))\n",
    "plt.plot(visual)\n",
    "plt.plot(visual_train)\n",
    "plt.plot(visual_test)\n",
    "#plt.show()\n",
    "plt.xticks(fontsize=10)\n",
    "plt.yticks(fontsize=10)\n",
    "plt.xlabel('Date (year)', fontsize=15)\n",
    "plt.ylabel('Close', fontsize=15)\n",
    "plt.suptitle('Original, Train and Test Data', fontsize=20)"
   ]
  },
  {
   "cell_type": "markdown",
   "metadata": {},
   "source": [
    "## Predict future 30 days"
   ]
  },
  {
   "cell_type": "markdown",
   "metadata": {},
   "source": [
    "### get the last 100 day for time step of the future day"
   ]
  },
  {
   "cell_type": "code",
   "execution_count": 30,
   "metadata": {},
   "outputs": [
    {
     "data": {
      "text/plain": [
       "1040"
      ]
     },
     "execution_count": 30,
     "metadata": {},
     "output_type": "execute_result"
    }
   ],
   "source": [
    "len(test_data)"
   ]
  },
  {
   "cell_type": "code",
   "execution_count": 31,
   "metadata": {},
   "outputs": [
    {
     "data": {
      "text/plain": [
       "(1, 100)"
      ]
     },
     "execution_count": 31,
     "metadata": {},
     "output_type": "execute_result"
    }
   ],
   "source": [
    "x_input=test_data[len(test_data)-time_step:].reshape(1,-1)\n",
    "x_input.shape"
   ]
  },
  {
   "cell_type": "code",
   "execution_count": 32,
   "metadata": {
    "scrolled": true
   },
   "outputs": [
    {
     "data": {
      "text/plain": [
       "[0.1365521771350855,\n",
       " 0.1295750585953366,\n",
       " 0.13389422721518116,\n",
       " 0.12525588997549206,\n",
       " 0.12226569631559966,\n",
       " 0.12824608363538442,\n",
       " 0.12359467127555185,\n",
       " 0.11661755273580293,\n",
       " 0.11661755273580293,\n",
       " 0.12060447761565943,\n",
       " 0.11993999013568338,\n",
       " 0.12990730233532463,\n",
       " 0.13688442087507352,\n",
       " 0.13289749599521702,\n",
       " 0.1272493524154203,\n",
       " 0.12160120883562359,\n",
       " 0.11960774639569532,\n",
       " 0.1232624275355638,\n",
       " 0.11993999013568338,\n",
       " 0.11993999013568338,\n",
       " 0.13223300851524095,\n",
       " 0.12824608363538442,\n",
       " 0.12359467127555185,\n",
       " 0.11495633403586272,\n",
       " 0.12060447761565943,\n",
       " 0.12093672135564751,\n",
       " 0.13455871469515723,\n",
       " 0.13422647095516918,\n",
       " 0.14053910201494202,\n",
       " 0.1451905143747746,\n",
       " 0.1458550018547507,\n",
       " 0.15216763291452348,\n",
       " 0.15848026397429632,\n",
       " 0.15249987665451153,\n",
       " 0.14784846429467893,\n",
       " 0.1531643641344876,\n",
       " 0.15416109535445177,\n",
       " 0.163796163814105,\n",
       " 0.17642142593365062,\n",
       " 0.20200419391272986,\n",
       " 0.20831682497250267,\n",
       " 0.19868175651284947,\n",
       " 0.18439527569336361,\n",
       " 0.16180270137417674,\n",
       " 0.17276674479378212,\n",
       " 0.1740957197537343,\n",
       " 0.17575693845367452,\n",
       " 0.16844757617393757,\n",
       " 0.16844757617393757,\n",
       " 0.16512513877405716,\n",
       " 0.16678635747399737,\n",
       " 0.16246718885415282,\n",
       " 0.15582231405439198,\n",
       " 0.15848026397429632,\n",
       " 0.1544933390944398,\n",
       " 0.15781577649432021,\n",
       " 0.16014148267423653,\n",
       " 0.1568190452743561,\n",
       " 0.15914475145427237,\n",
       " 0.163796163814105,\n",
       " 0.16147045763418869,\n",
       " 0.16047372641422455,\n",
       " 0.15216763291452348,\n",
       " 0.16080597015421258,\n",
       " 0.15947699519426042,\n",
       " 0.1694443073939017,\n",
       " 0.18206956951344733,\n",
       " 0.18605649439330385,\n",
       " 0.18406303195337556,\n",
       " 0.179411619593543,\n",
       " 0.18007610707351906,\n",
       " 0.18539200691332774,\n",
       " 0.19004341927316037,\n",
       " 0.18672098187327993,\n",
       " 0.18838220057322014,\n",
       " 0.19104015049312448,\n",
       " 0.18804995683323208,\n",
       " 0.18206956951344733,\n",
       " 0.17775040089360278,\n",
       " 0.18040835081350712,\n",
       " 0.18605649439330385,\n",
       " 0.18937893179318427,\n",
       " 0.18838220057322014,\n",
       " 0.18605649439330385,\n",
       " 0.19369810041302882,\n",
       " 0.19834951277286142,\n",
       " 0.19436258789300492,\n",
       " 0.19170463797310056,\n",
       " 0.1920368817130886,\n",
       " 0.19004341927316037,\n",
       " 0.18705322561326795,\n",
       " 0.18638873813329188,\n",
       " 0.18539200691332774,\n",
       " 0.179411619593543,\n",
       " 0.19004341927316037,\n",
       " 0.1887144443132082,\n",
       " 0.18472751943335167,\n",
       " 0.18771771309324406,\n",
       " 0.1887144443132082,\n",
       " 0.18472751943335167]"
      ]
     },
     "execution_count": 32,
     "metadata": {},
     "output_type": "execute_result"
    }
   ],
   "source": [
    "temp_input=list(x_input)\n",
    "temp_input=temp_input[0].tolist()\n",
    "temp_input"
   ]
  },
  {
   "cell_type": "markdown",
   "metadata": {},
   "source": [
    "### predict the future 30 days result"
   ]
  },
  {
   "cell_type": "code",
   "execution_count": 33,
   "metadata": {
    "scrolled": true
   },
   "outputs": [
    {
     "name": "stdout",
     "output_type": "stream",
     "text": [
      "[0.18720812]\n",
      "101\n",
      "1 day input [0.12957506 0.13389423 0.12525589 0.1222657  0.12824608 0.12359467\n",
      " 0.11661755 0.11661755 0.12060448 0.11993999 0.1299073  0.13688442\n",
      " 0.1328975  0.12724935 0.12160121 0.11960775 0.12326243 0.11993999\n",
      " 0.11993999 0.13223301 0.12824608 0.12359467 0.11495633 0.12060448\n",
      " 0.12093672 0.13455871 0.13422647 0.1405391  0.14519051 0.145855\n",
      " 0.15216763 0.15848026 0.15249988 0.14784846 0.15316436 0.1541611\n",
      " 0.16379616 0.17642143 0.20200419 0.20831682 0.19868176 0.18439528\n",
      " 0.1618027  0.17276674 0.17409572 0.17575694 0.16844758 0.16844758\n",
      " 0.16512514 0.16678636 0.16246719 0.15582231 0.15848026 0.15449334\n",
      " 0.15781578 0.16014148 0.15681905 0.15914475 0.16379616 0.16147046\n",
      " 0.16047373 0.15216763 0.16080597 0.159477   0.16944431 0.18206957\n",
      " 0.18605649 0.18406303 0.17941162 0.18007611 0.18539201 0.19004342\n",
      " 0.18672098 0.1883822  0.19104015 0.18804996 0.18206957 0.1777504\n",
      " 0.18040835 0.18605649 0.18937893 0.1883822  0.18605649 0.1936981\n",
      " 0.19834951 0.19436259 0.19170464 0.19203688 0.19004342 0.18705323\n",
      " 0.18638874 0.18539201 0.17941162 0.19004342 0.18871444 0.18472752\n",
      " 0.18771771 0.18871444 0.18472752 0.18720812]\n",
      "1 day output [[0.18951409]]\n",
      "2 day input [0.13389423 0.12525589 0.1222657  0.12824608 0.12359467 0.11661755\n",
      " 0.11661755 0.12060448 0.11993999 0.1299073  0.13688442 0.1328975\n",
      " 0.12724935 0.12160121 0.11960775 0.12326243 0.11993999 0.11993999\n",
      " 0.13223301 0.12824608 0.12359467 0.11495633 0.12060448 0.12093672\n",
      " 0.13455871 0.13422647 0.1405391  0.14519051 0.145855   0.15216763\n",
      " 0.15848026 0.15249988 0.14784846 0.15316436 0.1541611  0.16379616\n",
      " 0.17642143 0.20200419 0.20831682 0.19868176 0.18439528 0.1618027\n",
      " 0.17276674 0.17409572 0.17575694 0.16844758 0.16844758 0.16512514\n",
      " 0.16678636 0.16246719 0.15582231 0.15848026 0.15449334 0.15781578\n",
      " 0.16014148 0.15681905 0.15914475 0.16379616 0.16147046 0.16047373\n",
      " 0.15216763 0.16080597 0.159477   0.16944431 0.18206957 0.18605649\n",
      " 0.18406303 0.17941162 0.18007611 0.18539201 0.19004342 0.18672098\n",
      " 0.1883822  0.19104015 0.18804996 0.18206957 0.1777504  0.18040835\n",
      " 0.18605649 0.18937893 0.1883822  0.18605649 0.1936981  0.19834951\n",
      " 0.19436259 0.19170464 0.19203688 0.19004342 0.18705323 0.18638874\n",
      " 0.18539201 0.17941162 0.19004342 0.18871444 0.18472752 0.18771771\n",
      " 0.18871444 0.18472752 0.18720812 0.18951409]\n",
      "2 day output [[0.19179744]]\n",
      "3 day input [0.12525589 0.1222657  0.12824608 0.12359467 0.11661755 0.11661755\n",
      " 0.12060448 0.11993999 0.1299073  0.13688442 0.1328975  0.12724935\n",
      " 0.12160121 0.11960775 0.12326243 0.11993999 0.11993999 0.13223301\n",
      " 0.12824608 0.12359467 0.11495633 0.12060448 0.12093672 0.13455871\n",
      " 0.13422647 0.1405391  0.14519051 0.145855   0.15216763 0.15848026\n",
      " 0.15249988 0.14784846 0.15316436 0.1541611  0.16379616 0.17642143\n",
      " 0.20200419 0.20831682 0.19868176 0.18439528 0.1618027  0.17276674\n",
      " 0.17409572 0.17575694 0.16844758 0.16844758 0.16512514 0.16678636\n",
      " 0.16246719 0.15582231 0.15848026 0.15449334 0.15781578 0.16014148\n",
      " 0.15681905 0.15914475 0.16379616 0.16147046 0.16047373 0.15216763\n",
      " 0.16080597 0.159477   0.16944431 0.18206957 0.18605649 0.18406303\n",
      " 0.17941162 0.18007611 0.18539201 0.19004342 0.18672098 0.1883822\n",
      " 0.19104015 0.18804996 0.18206957 0.1777504  0.18040835 0.18605649\n",
      " 0.18937893 0.1883822  0.18605649 0.1936981  0.19834951 0.19436259\n",
      " 0.19170464 0.19203688 0.19004342 0.18705323 0.18638874 0.18539201\n",
      " 0.17941162 0.19004342 0.18871444 0.18472752 0.18771771 0.18871444\n",
      " 0.18472752 0.18720812 0.18951409 0.19179744]\n",
      "3 day output [[0.19414979]]\n",
      "4 day input [0.1222657  0.12824608 0.12359467 0.11661755 0.11661755 0.12060448\n",
      " 0.11993999 0.1299073  0.13688442 0.1328975  0.12724935 0.12160121\n",
      " 0.11960775 0.12326243 0.11993999 0.11993999 0.13223301 0.12824608\n",
      " 0.12359467 0.11495633 0.12060448 0.12093672 0.13455871 0.13422647\n",
      " 0.1405391  0.14519051 0.145855   0.15216763 0.15848026 0.15249988\n",
      " 0.14784846 0.15316436 0.1541611  0.16379616 0.17642143 0.20200419\n",
      " 0.20831682 0.19868176 0.18439528 0.1618027  0.17276674 0.17409572\n",
      " 0.17575694 0.16844758 0.16844758 0.16512514 0.16678636 0.16246719\n",
      " 0.15582231 0.15848026 0.15449334 0.15781578 0.16014148 0.15681905\n",
      " 0.15914475 0.16379616 0.16147046 0.16047373 0.15216763 0.16080597\n",
      " 0.159477   0.16944431 0.18206957 0.18605649 0.18406303 0.17941162\n",
      " 0.18007611 0.18539201 0.19004342 0.18672098 0.1883822  0.19104015\n",
      " 0.18804996 0.18206957 0.1777504  0.18040835 0.18605649 0.18937893\n",
      " 0.1883822  0.18605649 0.1936981  0.19834951 0.19436259 0.19170464\n",
      " 0.19203688 0.19004342 0.18705323 0.18638874 0.18539201 0.17941162\n",
      " 0.19004342 0.18871444 0.18472752 0.18771771 0.18871444 0.18472752\n",
      " 0.18720812 0.18951409 0.19179744 0.19414979]\n",
      "4 day output [[0.19648108]]\n",
      "5 day input [0.12824608 0.12359467 0.11661755 0.11661755 0.12060448 0.11993999\n",
      " 0.1299073  0.13688442 0.1328975  0.12724935 0.12160121 0.11960775\n",
      " 0.12326243 0.11993999 0.11993999 0.13223301 0.12824608 0.12359467\n",
      " 0.11495633 0.12060448 0.12093672 0.13455871 0.13422647 0.1405391\n",
      " 0.14519051 0.145855   0.15216763 0.15848026 0.15249988 0.14784846\n",
      " 0.15316436 0.1541611  0.16379616 0.17642143 0.20200419 0.20831682\n",
      " 0.19868176 0.18439528 0.1618027  0.17276674 0.17409572 0.17575694\n",
      " 0.16844758 0.16844758 0.16512514 0.16678636 0.16246719 0.15582231\n",
      " 0.15848026 0.15449334 0.15781578 0.16014148 0.15681905 0.15914475\n",
      " 0.16379616 0.16147046 0.16047373 0.15216763 0.16080597 0.159477\n",
      " 0.16944431 0.18206957 0.18605649 0.18406303 0.17941162 0.18007611\n",
      " 0.18539201 0.19004342 0.18672098 0.1883822  0.19104015 0.18804996\n",
      " 0.18206957 0.1777504  0.18040835 0.18605649 0.18937893 0.1883822\n",
      " 0.18605649 0.1936981  0.19834951 0.19436259 0.19170464 0.19203688\n",
      " 0.19004342 0.18705323 0.18638874 0.18539201 0.17941162 0.19004342\n",
      " 0.18871444 0.18472752 0.18771771 0.18871444 0.18472752 0.18720812\n",
      " 0.18951409 0.19179744 0.19414979 0.19648108]\n",
      "5 day output [[0.19873066]]\n",
      "6 day input [0.12359467 0.11661755 0.11661755 0.12060448 0.11993999 0.1299073\n",
      " 0.13688442 0.1328975  0.12724935 0.12160121 0.11960775 0.12326243\n",
      " 0.11993999 0.11993999 0.13223301 0.12824608 0.12359467 0.11495633\n",
      " 0.12060448 0.12093672 0.13455871 0.13422647 0.1405391  0.14519051\n",
      " 0.145855   0.15216763 0.15848026 0.15249988 0.14784846 0.15316436\n",
      " 0.1541611  0.16379616 0.17642143 0.20200419 0.20831682 0.19868176\n",
      " 0.18439528 0.1618027  0.17276674 0.17409572 0.17575694 0.16844758\n",
      " 0.16844758 0.16512514 0.16678636 0.16246719 0.15582231 0.15848026\n",
      " 0.15449334 0.15781578 0.16014148 0.15681905 0.15914475 0.16379616\n",
      " 0.16147046 0.16047373 0.15216763 0.16080597 0.159477   0.16944431\n",
      " 0.18206957 0.18605649 0.18406303 0.17941162 0.18007611 0.18539201\n",
      " 0.19004342 0.18672098 0.1883822  0.19104015 0.18804996 0.18206957\n",
      " 0.1777504  0.18040835 0.18605649 0.18937893 0.1883822  0.18605649\n",
      " 0.1936981  0.19834951 0.19436259 0.19170464 0.19203688 0.19004342\n",
      " 0.18705323 0.18638874 0.18539201 0.17941162 0.19004342 0.18871444\n",
      " 0.18472752 0.18771771 0.18871444 0.18472752 0.18720812 0.18951409\n",
      " 0.19179744 0.19414979 0.19648108 0.19873066]\n",
      "6 day output [[0.20087314]]\n",
      "7 day input [0.11661755 0.11661755 0.12060448 0.11993999 0.1299073  0.13688442\n",
      " 0.1328975  0.12724935 0.12160121 0.11960775 0.12326243 0.11993999\n",
      " 0.11993999 0.13223301 0.12824608 0.12359467 0.11495633 0.12060448\n",
      " 0.12093672 0.13455871 0.13422647 0.1405391  0.14519051 0.145855\n",
      " 0.15216763 0.15848026 0.15249988 0.14784846 0.15316436 0.1541611\n",
      " 0.16379616 0.17642143 0.20200419 0.20831682 0.19868176 0.18439528\n",
      " 0.1618027  0.17276674 0.17409572 0.17575694 0.16844758 0.16844758\n",
      " 0.16512514 0.16678636 0.16246719 0.15582231 0.15848026 0.15449334\n",
      " 0.15781578 0.16014148 0.15681905 0.15914475 0.16379616 0.16147046\n",
      " 0.16047373 0.15216763 0.16080597 0.159477   0.16944431 0.18206957\n",
      " 0.18605649 0.18406303 0.17941162 0.18007611 0.18539201 0.19004342\n",
      " 0.18672098 0.1883822  0.19104015 0.18804996 0.18206957 0.1777504\n",
      " 0.18040835 0.18605649 0.18937893 0.1883822  0.18605649 0.1936981\n",
      " 0.19834951 0.19436259 0.19170464 0.19203688 0.19004342 0.18705323\n",
      " 0.18638874 0.18539201 0.17941162 0.19004342 0.18871444 0.18472752\n",
      " 0.18771771 0.18871444 0.18472752 0.18720812 0.18951409 0.19179744\n",
      " 0.19414979 0.19648108 0.19873066 0.20087314]\n",
      "7 day output [[0.20290935]]\n",
      "8 day input [0.11661755 0.12060448 0.11993999 0.1299073  0.13688442 0.1328975\n",
      " 0.12724935 0.12160121 0.11960775 0.12326243 0.11993999 0.11993999\n",
      " 0.13223301 0.12824608 0.12359467 0.11495633 0.12060448 0.12093672\n",
      " 0.13455871 0.13422647 0.1405391  0.14519051 0.145855   0.15216763\n",
      " 0.15848026 0.15249988 0.14784846 0.15316436 0.1541611  0.16379616\n",
      " 0.17642143 0.20200419 0.20831682 0.19868176 0.18439528 0.1618027\n",
      " 0.17276674 0.17409572 0.17575694 0.16844758 0.16844758 0.16512514\n",
      " 0.16678636 0.16246719 0.15582231 0.15848026 0.15449334 0.15781578\n",
      " 0.16014148 0.15681905 0.15914475 0.16379616 0.16147046 0.16047373\n",
      " 0.15216763 0.16080597 0.159477   0.16944431 0.18206957 0.18605649\n",
      " 0.18406303 0.17941162 0.18007611 0.18539201 0.19004342 0.18672098\n",
      " 0.1883822  0.19104015 0.18804996 0.18206957 0.1777504  0.18040835\n",
      " 0.18605649 0.18937893 0.1883822  0.18605649 0.1936981  0.19834951\n",
      " 0.19436259 0.19170464 0.19203688 0.19004342 0.18705323 0.18638874\n",
      " 0.18539201 0.17941162 0.19004342 0.18871444 0.18472752 0.18771771\n",
      " 0.18871444 0.18472752 0.18720812 0.18951409 0.19179744 0.19414979\n",
      " 0.19648108 0.19873066 0.20087314 0.20290935]\n"
     ]
    },
    {
     "name": "stdout",
     "output_type": "stream",
     "text": [
      "8 day output [[0.20485462]]\n",
      "9 day input [0.12060448 0.11993999 0.1299073  0.13688442 0.1328975  0.12724935\n",
      " 0.12160121 0.11960775 0.12326243 0.11993999 0.11993999 0.13223301\n",
      " 0.12824608 0.12359467 0.11495633 0.12060448 0.12093672 0.13455871\n",
      " 0.13422647 0.1405391  0.14519051 0.145855   0.15216763 0.15848026\n",
      " 0.15249988 0.14784846 0.15316436 0.1541611  0.16379616 0.17642143\n",
      " 0.20200419 0.20831682 0.19868176 0.18439528 0.1618027  0.17276674\n",
      " 0.17409572 0.17575694 0.16844758 0.16844758 0.16512514 0.16678636\n",
      " 0.16246719 0.15582231 0.15848026 0.15449334 0.15781578 0.16014148\n",
      " 0.15681905 0.15914475 0.16379616 0.16147046 0.16047373 0.15216763\n",
      " 0.16080597 0.159477   0.16944431 0.18206957 0.18605649 0.18406303\n",
      " 0.17941162 0.18007611 0.18539201 0.19004342 0.18672098 0.1883822\n",
      " 0.19104015 0.18804996 0.18206957 0.1777504  0.18040835 0.18605649\n",
      " 0.18937893 0.1883822  0.18605649 0.1936981  0.19834951 0.19436259\n",
      " 0.19170464 0.19203688 0.19004342 0.18705323 0.18638874 0.18539201\n",
      " 0.17941162 0.19004342 0.18871444 0.18472752 0.18771771 0.18871444\n",
      " 0.18472752 0.18720812 0.18951409 0.19179744 0.19414979 0.19648108\n",
      " 0.19873066 0.20087314 0.20290935 0.20485462]\n",
      "9 day output [[0.20672908]]\n",
      "10 day input [0.11993999 0.1299073  0.13688442 0.1328975  0.12724935 0.12160121\n",
      " 0.11960775 0.12326243 0.11993999 0.11993999 0.13223301 0.12824608\n",
      " 0.12359467 0.11495633 0.12060448 0.12093672 0.13455871 0.13422647\n",
      " 0.1405391  0.14519051 0.145855   0.15216763 0.15848026 0.15249988\n",
      " 0.14784846 0.15316436 0.1541611  0.16379616 0.17642143 0.20200419\n",
      " 0.20831682 0.19868176 0.18439528 0.1618027  0.17276674 0.17409572\n",
      " 0.17575694 0.16844758 0.16844758 0.16512514 0.16678636 0.16246719\n",
      " 0.15582231 0.15848026 0.15449334 0.15781578 0.16014148 0.15681905\n",
      " 0.15914475 0.16379616 0.16147046 0.16047373 0.15216763 0.16080597\n",
      " 0.159477   0.16944431 0.18206957 0.18605649 0.18406303 0.17941162\n",
      " 0.18007611 0.18539201 0.19004342 0.18672098 0.1883822  0.19104015\n",
      " 0.18804996 0.18206957 0.1777504  0.18040835 0.18605649 0.18937893\n",
      " 0.1883822  0.18605649 0.1936981  0.19834951 0.19436259 0.19170464\n",
      " 0.19203688 0.19004342 0.18705323 0.18638874 0.18539201 0.17941162\n",
      " 0.19004342 0.18871444 0.18472752 0.18771771 0.18871444 0.18472752\n",
      " 0.18720812 0.18951409 0.19179744 0.19414979 0.19648108 0.19873066\n",
      " 0.20087314 0.20290935 0.20485462 0.20672908]\n",
      "10 day output [[0.2085516]]\n",
      "11 day input [0.1299073  0.13688442 0.1328975  0.12724935 0.12160121 0.11960775\n",
      " 0.12326243 0.11993999 0.11993999 0.13223301 0.12824608 0.12359467\n",
      " 0.11495633 0.12060448 0.12093672 0.13455871 0.13422647 0.1405391\n",
      " 0.14519051 0.145855   0.15216763 0.15848026 0.15249988 0.14784846\n",
      " 0.15316436 0.1541611  0.16379616 0.17642143 0.20200419 0.20831682\n",
      " 0.19868176 0.18439528 0.1618027  0.17276674 0.17409572 0.17575694\n",
      " 0.16844758 0.16844758 0.16512514 0.16678636 0.16246719 0.15582231\n",
      " 0.15848026 0.15449334 0.15781578 0.16014148 0.15681905 0.15914475\n",
      " 0.16379616 0.16147046 0.16047373 0.15216763 0.16080597 0.159477\n",
      " 0.16944431 0.18206957 0.18605649 0.18406303 0.17941162 0.18007611\n",
      " 0.18539201 0.19004342 0.18672098 0.1883822  0.19104015 0.18804996\n",
      " 0.18206957 0.1777504  0.18040835 0.18605649 0.18937893 0.1883822\n",
      " 0.18605649 0.1936981  0.19834951 0.19436259 0.19170464 0.19203688\n",
      " 0.19004342 0.18705323 0.18638874 0.18539201 0.17941162 0.19004342\n",
      " 0.18871444 0.18472752 0.18771771 0.18871444 0.18472752 0.18720812\n",
      " 0.18951409 0.19179744 0.19414979 0.19648108 0.19873066 0.20087314\n",
      " 0.20290935 0.20485462 0.20672908 0.2085516 ]\n",
      "11 day output [[0.21033692]]\n",
      "12 day input [0.13688442 0.1328975  0.12724935 0.12160121 0.11960775 0.12326243\n",
      " 0.11993999 0.11993999 0.13223301 0.12824608 0.12359467 0.11495633\n",
      " 0.12060448 0.12093672 0.13455871 0.13422647 0.1405391  0.14519051\n",
      " 0.145855   0.15216763 0.15848026 0.15249988 0.14784846 0.15316436\n",
      " 0.1541611  0.16379616 0.17642143 0.20200419 0.20831682 0.19868176\n",
      " 0.18439528 0.1618027  0.17276674 0.17409572 0.17575694 0.16844758\n",
      " 0.16844758 0.16512514 0.16678636 0.16246719 0.15582231 0.15848026\n",
      " 0.15449334 0.15781578 0.16014148 0.15681905 0.15914475 0.16379616\n",
      " 0.16147046 0.16047373 0.15216763 0.16080597 0.159477   0.16944431\n",
      " 0.18206957 0.18605649 0.18406303 0.17941162 0.18007611 0.18539201\n",
      " 0.19004342 0.18672098 0.1883822  0.19104015 0.18804996 0.18206957\n",
      " 0.1777504  0.18040835 0.18605649 0.18937893 0.1883822  0.18605649\n",
      " 0.1936981  0.19834951 0.19436259 0.19170464 0.19203688 0.19004342\n",
      " 0.18705323 0.18638874 0.18539201 0.17941162 0.19004342 0.18871444\n",
      " 0.18472752 0.18771771 0.18871444 0.18472752 0.18720812 0.18951409\n",
      " 0.19179744 0.19414979 0.19648108 0.19873066 0.20087314 0.20290935\n",
      " 0.20485462 0.20672908 0.2085516  0.21033692]\n",
      "12 day output [[0.21209502]]\n",
      "13 day input [0.1328975  0.12724935 0.12160121 0.11960775 0.12326243 0.11993999\n",
      " 0.11993999 0.13223301 0.12824608 0.12359467 0.11495633 0.12060448\n",
      " 0.12093672 0.13455871 0.13422647 0.1405391  0.14519051 0.145855\n",
      " 0.15216763 0.15848026 0.15249988 0.14784846 0.15316436 0.1541611\n",
      " 0.16379616 0.17642143 0.20200419 0.20831682 0.19868176 0.18439528\n",
      " 0.1618027  0.17276674 0.17409572 0.17575694 0.16844758 0.16844758\n",
      " 0.16512514 0.16678636 0.16246719 0.15582231 0.15848026 0.15449334\n",
      " 0.15781578 0.16014148 0.15681905 0.15914475 0.16379616 0.16147046\n",
      " 0.16047373 0.15216763 0.16080597 0.159477   0.16944431 0.18206957\n",
      " 0.18605649 0.18406303 0.17941162 0.18007611 0.18539201 0.19004342\n",
      " 0.18672098 0.1883822  0.19104015 0.18804996 0.18206957 0.1777504\n",
      " 0.18040835 0.18605649 0.18937893 0.1883822  0.18605649 0.1936981\n",
      " 0.19834951 0.19436259 0.19170464 0.19203688 0.19004342 0.18705323\n",
      " 0.18638874 0.18539201 0.17941162 0.19004342 0.18871444 0.18472752\n",
      " 0.18771771 0.18871444 0.18472752 0.18720812 0.18951409 0.19179744\n",
      " 0.19414979 0.19648108 0.19873066 0.20087314 0.20290935 0.20485462\n",
      " 0.20672908 0.2085516  0.21033692 0.21209502]\n",
      "13 day output [[0.21383189]]\n",
      "14 day input [0.12724935 0.12160121 0.11960775 0.12326243 0.11993999 0.11993999\n",
      " 0.13223301 0.12824608 0.12359467 0.11495633 0.12060448 0.12093672\n",
      " 0.13455871 0.13422647 0.1405391  0.14519051 0.145855   0.15216763\n",
      " 0.15848026 0.15249988 0.14784846 0.15316436 0.1541611  0.16379616\n",
      " 0.17642143 0.20200419 0.20831682 0.19868176 0.18439528 0.1618027\n",
      " 0.17276674 0.17409572 0.17575694 0.16844758 0.16844758 0.16512514\n",
      " 0.16678636 0.16246719 0.15582231 0.15848026 0.15449334 0.15781578\n",
      " 0.16014148 0.15681905 0.15914475 0.16379616 0.16147046 0.16047373\n",
      " 0.15216763 0.16080597 0.159477   0.16944431 0.18206957 0.18605649\n",
      " 0.18406303 0.17941162 0.18007611 0.18539201 0.19004342 0.18672098\n",
      " 0.1883822  0.19104015 0.18804996 0.18206957 0.1777504  0.18040835\n",
      " 0.18605649 0.18937893 0.1883822  0.18605649 0.1936981  0.19834951\n",
      " 0.19436259 0.19170464 0.19203688 0.19004342 0.18705323 0.18638874\n",
      " 0.18539201 0.17941162 0.19004342 0.18871444 0.18472752 0.18771771\n",
      " 0.18871444 0.18472752 0.18720812 0.18951409 0.19179744 0.19414979\n",
      " 0.19648108 0.19873066 0.20087314 0.20290935 0.20485462 0.20672908\n",
      " 0.2085516  0.21033692 0.21209502 0.21383189]\n",
      "14 day output [[0.21555041]]\n",
      "15 day input [0.12160121 0.11960775 0.12326243 0.11993999 0.11993999 0.13223301\n",
      " 0.12824608 0.12359467 0.11495633 0.12060448 0.12093672 0.13455871\n",
      " 0.13422647 0.1405391  0.14519051 0.145855   0.15216763 0.15848026\n",
      " 0.15249988 0.14784846 0.15316436 0.1541611  0.16379616 0.17642143\n",
      " 0.20200419 0.20831682 0.19868176 0.18439528 0.1618027  0.17276674\n",
      " 0.17409572 0.17575694 0.16844758 0.16844758 0.16512514 0.16678636\n",
      " 0.16246719 0.15582231 0.15848026 0.15449334 0.15781578 0.16014148\n",
      " 0.15681905 0.15914475 0.16379616 0.16147046 0.16047373 0.15216763\n",
      " 0.16080597 0.159477   0.16944431 0.18206957 0.18605649 0.18406303\n",
      " 0.17941162 0.18007611 0.18539201 0.19004342 0.18672098 0.1883822\n",
      " 0.19104015 0.18804996 0.18206957 0.1777504  0.18040835 0.18605649\n",
      " 0.18937893 0.1883822  0.18605649 0.1936981  0.19834951 0.19436259\n",
      " 0.19170464 0.19203688 0.19004342 0.18705323 0.18638874 0.18539201\n",
      " 0.17941162 0.19004342 0.18871444 0.18472752 0.18771771 0.18871444\n",
      " 0.18472752 0.18720812 0.18951409 0.19179744 0.19414979 0.19648108\n",
      " 0.19873066 0.20087314 0.20290935 0.20485462 0.20672908 0.2085516\n",
      " 0.21033692 0.21209502 0.21383189 0.21555041]\n",
      "15 day output [[0.21725151]]\n",
      "16 day input [0.11960775 0.12326243 0.11993999 0.11993999 0.13223301 0.12824608\n",
      " 0.12359467 0.11495633 0.12060448 0.12093672 0.13455871 0.13422647\n",
      " 0.1405391  0.14519051 0.145855   0.15216763 0.15848026 0.15249988\n",
      " 0.14784846 0.15316436 0.1541611  0.16379616 0.17642143 0.20200419\n",
      " 0.20831682 0.19868176 0.18439528 0.1618027  0.17276674 0.17409572\n",
      " 0.17575694 0.16844758 0.16844758 0.16512514 0.16678636 0.16246719\n",
      " 0.15582231 0.15848026 0.15449334 0.15781578 0.16014148 0.15681905\n",
      " 0.15914475 0.16379616 0.16147046 0.16047373 0.15216763 0.16080597\n",
      " 0.159477   0.16944431 0.18206957 0.18605649 0.18406303 0.17941162\n",
      " 0.18007611 0.18539201 0.19004342 0.18672098 0.1883822  0.19104015\n",
      " 0.18804996 0.18206957 0.1777504  0.18040835 0.18605649 0.18937893\n",
      " 0.1883822  0.18605649 0.1936981  0.19834951 0.19436259 0.19170464\n",
      " 0.19203688 0.19004342 0.18705323 0.18638874 0.18539201 0.17941162\n",
      " 0.19004342 0.18871444 0.18472752 0.18771771 0.18871444 0.18472752\n",
      " 0.18720812 0.18951409 0.19179744 0.19414979 0.19648108 0.19873066\n",
      " 0.20087314 0.20290935 0.20485462 0.20672908 0.2085516  0.21033692\n",
      " 0.21209502 0.21383189 0.21555041 0.21725151]\n"
     ]
    },
    {
     "name": "stdout",
     "output_type": "stream",
     "text": [
      "16 day output [[0.21893518]]\n",
      "17 day input [0.12326243 0.11993999 0.11993999 0.13223301 0.12824608 0.12359467\n",
      " 0.11495633 0.12060448 0.12093672 0.13455871 0.13422647 0.1405391\n",
      " 0.14519051 0.145855   0.15216763 0.15848026 0.15249988 0.14784846\n",
      " 0.15316436 0.1541611  0.16379616 0.17642143 0.20200419 0.20831682\n",
      " 0.19868176 0.18439528 0.1618027  0.17276674 0.17409572 0.17575694\n",
      " 0.16844758 0.16844758 0.16512514 0.16678636 0.16246719 0.15582231\n",
      " 0.15848026 0.15449334 0.15781578 0.16014148 0.15681905 0.15914475\n",
      " 0.16379616 0.16147046 0.16047373 0.15216763 0.16080597 0.159477\n",
      " 0.16944431 0.18206957 0.18605649 0.18406303 0.17941162 0.18007611\n",
      " 0.18539201 0.19004342 0.18672098 0.1883822  0.19104015 0.18804996\n",
      " 0.18206957 0.1777504  0.18040835 0.18605649 0.18937893 0.1883822\n",
      " 0.18605649 0.1936981  0.19834951 0.19436259 0.19170464 0.19203688\n",
      " 0.19004342 0.18705323 0.18638874 0.18539201 0.17941162 0.19004342\n",
      " 0.18871444 0.18472752 0.18771771 0.18871444 0.18472752 0.18720812\n",
      " 0.18951409 0.19179744 0.19414979 0.19648108 0.19873066 0.20087314\n",
      " 0.20290935 0.20485462 0.20672908 0.2085516  0.21033692 0.21209502\n",
      " 0.21383189 0.21555041 0.21725151 0.21893518]\n",
      "17 day output [[0.22060086]]\n",
      "18 day input [0.11993999 0.11993999 0.13223301 0.12824608 0.12359467 0.11495633\n",
      " 0.12060448 0.12093672 0.13455871 0.13422647 0.1405391  0.14519051\n",
      " 0.145855   0.15216763 0.15848026 0.15249988 0.14784846 0.15316436\n",
      " 0.1541611  0.16379616 0.17642143 0.20200419 0.20831682 0.19868176\n",
      " 0.18439528 0.1618027  0.17276674 0.17409572 0.17575694 0.16844758\n",
      " 0.16844758 0.16512514 0.16678636 0.16246719 0.15582231 0.15848026\n",
      " 0.15449334 0.15781578 0.16014148 0.15681905 0.15914475 0.16379616\n",
      " 0.16147046 0.16047373 0.15216763 0.16080597 0.159477   0.16944431\n",
      " 0.18206957 0.18605649 0.18406303 0.17941162 0.18007611 0.18539201\n",
      " 0.19004342 0.18672098 0.1883822  0.19104015 0.18804996 0.18206957\n",
      " 0.1777504  0.18040835 0.18605649 0.18937893 0.1883822  0.18605649\n",
      " 0.1936981  0.19834951 0.19436259 0.19170464 0.19203688 0.19004342\n",
      " 0.18705323 0.18638874 0.18539201 0.17941162 0.19004342 0.18871444\n",
      " 0.18472752 0.18771771 0.18871444 0.18472752 0.18720812 0.18951409\n",
      " 0.19179744 0.19414979 0.19648108 0.19873066 0.20087314 0.20290935\n",
      " 0.20485462 0.20672908 0.2085516  0.21033692 0.21209502 0.21383189\n",
      " 0.21555041 0.21725151 0.21893518 0.22060086]\n",
      "18 day output [[0.2222479]]\n",
      "19 day input [0.11993999 0.13223301 0.12824608 0.12359467 0.11495633 0.12060448\n",
      " 0.12093672 0.13455871 0.13422647 0.1405391  0.14519051 0.145855\n",
      " 0.15216763 0.15848026 0.15249988 0.14784846 0.15316436 0.1541611\n",
      " 0.16379616 0.17642143 0.20200419 0.20831682 0.19868176 0.18439528\n",
      " 0.1618027  0.17276674 0.17409572 0.17575694 0.16844758 0.16844758\n",
      " 0.16512514 0.16678636 0.16246719 0.15582231 0.15848026 0.15449334\n",
      " 0.15781578 0.16014148 0.15681905 0.15914475 0.16379616 0.16147046\n",
      " 0.16047373 0.15216763 0.16080597 0.159477   0.16944431 0.18206957\n",
      " 0.18605649 0.18406303 0.17941162 0.18007611 0.18539201 0.19004342\n",
      " 0.18672098 0.1883822  0.19104015 0.18804996 0.18206957 0.1777504\n",
      " 0.18040835 0.18605649 0.18937893 0.1883822  0.18605649 0.1936981\n",
      " 0.19834951 0.19436259 0.19170464 0.19203688 0.19004342 0.18705323\n",
      " 0.18638874 0.18539201 0.17941162 0.19004342 0.18871444 0.18472752\n",
      " 0.18771771 0.18871444 0.18472752 0.18720812 0.18951409 0.19179744\n",
      " 0.19414979 0.19648108 0.19873066 0.20087314 0.20290935 0.20485462\n",
      " 0.20672908 0.2085516  0.21033692 0.21209502 0.21383189 0.21555041\n",
      " 0.21725151 0.21893518 0.22060086 0.2222479 ]\n",
      "19 day output [[0.22387573]]\n",
      "20 day input [0.13223301 0.12824608 0.12359467 0.11495633 0.12060448 0.12093672\n",
      " 0.13455871 0.13422647 0.1405391  0.14519051 0.145855   0.15216763\n",
      " 0.15848026 0.15249988 0.14784846 0.15316436 0.1541611  0.16379616\n",
      " 0.17642143 0.20200419 0.20831682 0.19868176 0.18439528 0.1618027\n",
      " 0.17276674 0.17409572 0.17575694 0.16844758 0.16844758 0.16512514\n",
      " 0.16678636 0.16246719 0.15582231 0.15848026 0.15449334 0.15781578\n",
      " 0.16014148 0.15681905 0.15914475 0.16379616 0.16147046 0.16047373\n",
      " 0.15216763 0.16080597 0.159477   0.16944431 0.18206957 0.18605649\n",
      " 0.18406303 0.17941162 0.18007611 0.18539201 0.19004342 0.18672098\n",
      " 0.1883822  0.19104015 0.18804996 0.18206957 0.1777504  0.18040835\n",
      " 0.18605649 0.18937893 0.1883822  0.18605649 0.1936981  0.19834951\n",
      " 0.19436259 0.19170464 0.19203688 0.19004342 0.18705323 0.18638874\n",
      " 0.18539201 0.17941162 0.19004342 0.18871444 0.18472752 0.18771771\n",
      " 0.18871444 0.18472752 0.18720812 0.18951409 0.19179744 0.19414979\n",
      " 0.19648108 0.19873066 0.20087314 0.20290935 0.20485462 0.20672908\n",
      " 0.2085516  0.21033692 0.21209502 0.21383189 0.21555041 0.21725151\n",
      " 0.21893518 0.22060086 0.2222479  0.22387573]\n",
      "20 day output [[0.2254838]]\n",
      "21 day input [0.12824608 0.12359467 0.11495633 0.12060448 0.12093672 0.13455871\n",
      " 0.13422647 0.1405391  0.14519051 0.145855   0.15216763 0.15848026\n",
      " 0.15249988 0.14784846 0.15316436 0.1541611  0.16379616 0.17642143\n",
      " 0.20200419 0.20831682 0.19868176 0.18439528 0.1618027  0.17276674\n",
      " 0.17409572 0.17575694 0.16844758 0.16844758 0.16512514 0.16678636\n",
      " 0.16246719 0.15582231 0.15848026 0.15449334 0.15781578 0.16014148\n",
      " 0.15681905 0.15914475 0.16379616 0.16147046 0.16047373 0.15216763\n",
      " 0.16080597 0.159477   0.16944431 0.18206957 0.18605649 0.18406303\n",
      " 0.17941162 0.18007611 0.18539201 0.19004342 0.18672098 0.1883822\n",
      " 0.19104015 0.18804996 0.18206957 0.1777504  0.18040835 0.18605649\n",
      " 0.18937893 0.1883822  0.18605649 0.1936981  0.19834951 0.19436259\n",
      " 0.19170464 0.19203688 0.19004342 0.18705323 0.18638874 0.18539201\n",
      " 0.17941162 0.19004342 0.18871444 0.18472752 0.18771771 0.18871444\n",
      " 0.18472752 0.18720812 0.18951409 0.19179744 0.19414979 0.19648108\n",
      " 0.19873066 0.20087314 0.20290935 0.20485462 0.20672908 0.2085516\n",
      " 0.21033692 0.21209502 0.21383189 0.21555041 0.21725151 0.21893518\n",
      " 0.22060086 0.2222479  0.22387573 0.2254838 ]\n",
      "21 day output [[0.22707173]]\n",
      "22 day input [0.12359467 0.11495633 0.12060448 0.12093672 0.13455871 0.13422647\n",
      " 0.1405391  0.14519051 0.145855   0.15216763 0.15848026 0.15249988\n",
      " 0.14784846 0.15316436 0.1541611  0.16379616 0.17642143 0.20200419\n",
      " 0.20831682 0.19868176 0.18439528 0.1618027  0.17276674 0.17409572\n",
      " 0.17575694 0.16844758 0.16844758 0.16512514 0.16678636 0.16246719\n",
      " 0.15582231 0.15848026 0.15449334 0.15781578 0.16014148 0.15681905\n",
      " 0.15914475 0.16379616 0.16147046 0.16047373 0.15216763 0.16080597\n",
      " 0.159477   0.16944431 0.18206957 0.18605649 0.18406303 0.17941162\n",
      " 0.18007611 0.18539201 0.19004342 0.18672098 0.1883822  0.19104015\n",
      " 0.18804996 0.18206957 0.1777504  0.18040835 0.18605649 0.18937893\n",
      " 0.1883822  0.18605649 0.1936981  0.19834951 0.19436259 0.19170464\n",
      " 0.19203688 0.19004342 0.18705323 0.18638874 0.18539201 0.17941162\n",
      " 0.19004342 0.18871444 0.18472752 0.18771771 0.18871444 0.18472752\n",
      " 0.18720812 0.18951409 0.19179744 0.19414979 0.19648108 0.19873066\n",
      " 0.20087314 0.20290935 0.20485462 0.20672908 0.2085516  0.21033692\n",
      " 0.21209502 0.21383189 0.21555041 0.21725151 0.21893518 0.22060086\n",
      " 0.2222479  0.22387573 0.2254838  0.22707173]\n",
      "22 day output [[0.22863929]]\n",
      "23 day input [0.11495633 0.12060448 0.12093672 0.13455871 0.13422647 0.1405391\n",
      " 0.14519051 0.145855   0.15216763 0.15848026 0.15249988 0.14784846\n",
      " 0.15316436 0.1541611  0.16379616 0.17642143 0.20200419 0.20831682\n",
      " 0.19868176 0.18439528 0.1618027  0.17276674 0.17409572 0.17575694\n",
      " 0.16844758 0.16844758 0.16512514 0.16678636 0.16246719 0.15582231\n",
      " 0.15848026 0.15449334 0.15781578 0.16014148 0.15681905 0.15914475\n",
      " 0.16379616 0.16147046 0.16047373 0.15216763 0.16080597 0.159477\n",
      " 0.16944431 0.18206957 0.18605649 0.18406303 0.17941162 0.18007611\n",
      " 0.18539201 0.19004342 0.18672098 0.1883822  0.19104015 0.18804996\n",
      " 0.18206957 0.1777504  0.18040835 0.18605649 0.18937893 0.1883822\n",
      " 0.18605649 0.1936981  0.19834951 0.19436259 0.19170464 0.19203688\n",
      " 0.19004342 0.18705323 0.18638874 0.18539201 0.17941162 0.19004342\n",
      " 0.18871444 0.18472752 0.18771771 0.18871444 0.18472752 0.18720812\n",
      " 0.18951409 0.19179744 0.19414979 0.19648108 0.19873066 0.20087314\n",
      " 0.20290935 0.20485462 0.20672908 0.2085516  0.21033692 0.21209502\n",
      " 0.21383189 0.21555041 0.21725151 0.21893518 0.22060086 0.2222479\n",
      " 0.22387573 0.2254838  0.22707173 0.22863929]\n",
      "23 day output [[0.2301863]]\n",
      "24 day input [0.12060448 0.12093672 0.13455871 0.13422647 0.1405391  0.14519051\n",
      " 0.145855   0.15216763 0.15848026 0.15249988 0.14784846 0.15316436\n",
      " 0.1541611  0.16379616 0.17642143 0.20200419 0.20831682 0.19868176\n",
      " 0.18439528 0.1618027  0.17276674 0.17409572 0.17575694 0.16844758\n",
      " 0.16844758 0.16512514 0.16678636 0.16246719 0.15582231 0.15848026\n",
      " 0.15449334 0.15781578 0.16014148 0.15681905 0.15914475 0.16379616\n",
      " 0.16147046 0.16047373 0.15216763 0.16080597 0.159477   0.16944431\n",
      " 0.18206957 0.18605649 0.18406303 0.17941162 0.18007611 0.18539201\n",
      " 0.19004342 0.18672098 0.1883822  0.19104015 0.18804996 0.18206957\n",
      " 0.1777504  0.18040835 0.18605649 0.18937893 0.1883822  0.18605649\n",
      " 0.1936981  0.19834951 0.19436259 0.19170464 0.19203688 0.19004342\n",
      " 0.18705323 0.18638874 0.18539201 0.17941162 0.19004342 0.18871444\n",
      " 0.18472752 0.18771771 0.18871444 0.18472752 0.18720812 0.18951409\n",
      " 0.19179744 0.19414979 0.19648108 0.19873066 0.20087314 0.20290935\n",
      " 0.20485462 0.20672908 0.2085516  0.21033692 0.21209502 0.21383189\n",
      " 0.21555041 0.21725151 0.21893518 0.22060086 0.2222479  0.22387573\n",
      " 0.2254838  0.22707173 0.22863929 0.2301863 ]\n"
     ]
    },
    {
     "name": "stdout",
     "output_type": "stream",
     "text": [
      "24 day output [[0.23171268]]\n",
      "25 day input [0.12093672 0.13455871 0.13422647 0.1405391  0.14519051 0.145855\n",
      " 0.15216763 0.15848026 0.15249988 0.14784846 0.15316436 0.1541611\n",
      " 0.16379616 0.17642143 0.20200419 0.20831682 0.19868176 0.18439528\n",
      " 0.1618027  0.17276674 0.17409572 0.17575694 0.16844758 0.16844758\n",
      " 0.16512514 0.16678636 0.16246719 0.15582231 0.15848026 0.15449334\n",
      " 0.15781578 0.16014148 0.15681905 0.15914475 0.16379616 0.16147046\n",
      " 0.16047373 0.15216763 0.16080597 0.159477   0.16944431 0.18206957\n",
      " 0.18605649 0.18406303 0.17941162 0.18007611 0.18539201 0.19004342\n",
      " 0.18672098 0.1883822  0.19104015 0.18804996 0.18206957 0.1777504\n",
      " 0.18040835 0.18605649 0.18937893 0.1883822  0.18605649 0.1936981\n",
      " 0.19834951 0.19436259 0.19170464 0.19203688 0.19004342 0.18705323\n",
      " 0.18638874 0.18539201 0.17941162 0.19004342 0.18871444 0.18472752\n",
      " 0.18771771 0.18871444 0.18472752 0.18720812 0.18951409 0.19179744\n",
      " 0.19414979 0.19648108 0.19873066 0.20087314 0.20290935 0.20485462\n",
      " 0.20672908 0.2085516  0.21033692 0.21209502 0.21383189 0.21555041\n",
      " 0.21725151 0.21893518 0.22060086 0.2222479  0.22387573 0.2254838\n",
      " 0.22707173 0.22863929 0.2301863  0.23171268]\n",
      "25 day output [[0.23321849]]\n",
      "26 day input [0.13455871 0.13422647 0.1405391  0.14519051 0.145855   0.15216763\n",
      " 0.15848026 0.15249988 0.14784846 0.15316436 0.1541611  0.16379616\n",
      " 0.17642143 0.20200419 0.20831682 0.19868176 0.18439528 0.1618027\n",
      " 0.17276674 0.17409572 0.17575694 0.16844758 0.16844758 0.16512514\n",
      " 0.16678636 0.16246719 0.15582231 0.15848026 0.15449334 0.15781578\n",
      " 0.16014148 0.15681905 0.15914475 0.16379616 0.16147046 0.16047373\n",
      " 0.15216763 0.16080597 0.159477   0.16944431 0.18206957 0.18605649\n",
      " 0.18406303 0.17941162 0.18007611 0.18539201 0.19004342 0.18672098\n",
      " 0.1883822  0.19104015 0.18804996 0.18206957 0.1777504  0.18040835\n",
      " 0.18605649 0.18937893 0.1883822  0.18605649 0.1936981  0.19834951\n",
      " 0.19436259 0.19170464 0.19203688 0.19004342 0.18705323 0.18638874\n",
      " 0.18539201 0.17941162 0.19004342 0.18871444 0.18472752 0.18771771\n",
      " 0.18871444 0.18472752 0.18720812 0.18951409 0.19179744 0.19414979\n",
      " 0.19648108 0.19873066 0.20087314 0.20290935 0.20485462 0.20672908\n",
      " 0.2085516  0.21033692 0.21209502 0.21383189 0.21555041 0.21725151\n",
      " 0.21893518 0.22060086 0.2222479  0.22387573 0.2254838  0.22707173\n",
      " 0.22863929 0.2301863  0.23171268 0.23321849]\n",
      "26 day output [[0.23470373]]\n",
      "27 day input [0.13422647 0.1405391  0.14519051 0.145855   0.15216763 0.15848026\n",
      " 0.15249988 0.14784846 0.15316436 0.1541611  0.16379616 0.17642143\n",
      " 0.20200419 0.20831682 0.19868176 0.18439528 0.1618027  0.17276674\n",
      " 0.17409572 0.17575694 0.16844758 0.16844758 0.16512514 0.16678636\n",
      " 0.16246719 0.15582231 0.15848026 0.15449334 0.15781578 0.16014148\n",
      " 0.15681905 0.15914475 0.16379616 0.16147046 0.16047373 0.15216763\n",
      " 0.16080597 0.159477   0.16944431 0.18206957 0.18605649 0.18406303\n",
      " 0.17941162 0.18007611 0.18539201 0.19004342 0.18672098 0.1883822\n",
      " 0.19104015 0.18804996 0.18206957 0.1777504  0.18040835 0.18605649\n",
      " 0.18937893 0.1883822  0.18605649 0.1936981  0.19834951 0.19436259\n",
      " 0.19170464 0.19203688 0.19004342 0.18705323 0.18638874 0.18539201\n",
      " 0.17941162 0.19004342 0.18871444 0.18472752 0.18771771 0.18871444\n",
      " 0.18472752 0.18720812 0.18951409 0.19179744 0.19414979 0.19648108\n",
      " 0.19873066 0.20087314 0.20290935 0.20485462 0.20672908 0.2085516\n",
      " 0.21033692 0.21209502 0.21383189 0.21555041 0.21725151 0.21893518\n",
      " 0.22060086 0.2222479  0.22387573 0.2254838  0.22707173 0.22863929\n",
      " 0.2301863  0.23171268 0.23321849 0.23470373]\n",
      "27 day output [[0.23616865]]\n",
      "28 day input [0.1405391  0.14519051 0.145855   0.15216763 0.15848026 0.15249988\n",
      " 0.14784846 0.15316436 0.1541611  0.16379616 0.17642143 0.20200419\n",
      " 0.20831682 0.19868176 0.18439528 0.1618027  0.17276674 0.17409572\n",
      " 0.17575694 0.16844758 0.16844758 0.16512514 0.16678636 0.16246719\n",
      " 0.15582231 0.15848026 0.15449334 0.15781578 0.16014148 0.15681905\n",
      " 0.15914475 0.16379616 0.16147046 0.16047373 0.15216763 0.16080597\n",
      " 0.159477   0.16944431 0.18206957 0.18605649 0.18406303 0.17941162\n",
      " 0.18007611 0.18539201 0.19004342 0.18672098 0.1883822  0.19104015\n",
      " 0.18804996 0.18206957 0.1777504  0.18040835 0.18605649 0.18937893\n",
      " 0.1883822  0.18605649 0.1936981  0.19834951 0.19436259 0.19170464\n",
      " 0.19203688 0.19004342 0.18705323 0.18638874 0.18539201 0.17941162\n",
      " 0.19004342 0.18871444 0.18472752 0.18771771 0.18871444 0.18472752\n",
      " 0.18720812 0.18951409 0.19179744 0.19414979 0.19648108 0.19873066\n",
      " 0.20087314 0.20290935 0.20485462 0.20672908 0.2085516  0.21033692\n",
      " 0.21209502 0.21383189 0.21555041 0.21725151 0.21893518 0.22060086\n",
      " 0.2222479  0.22387573 0.2254838  0.22707173 0.22863929 0.2301863\n",
      " 0.23171268 0.23321849 0.23470373 0.23616865]\n",
      "28 day output [[0.2376134]]\n",
      "29 day input [0.14519051 0.145855   0.15216763 0.15848026 0.15249988 0.14784846\n",
      " 0.15316436 0.1541611  0.16379616 0.17642143 0.20200419 0.20831682\n",
      " 0.19868176 0.18439528 0.1618027  0.17276674 0.17409572 0.17575694\n",
      " 0.16844758 0.16844758 0.16512514 0.16678636 0.16246719 0.15582231\n",
      " 0.15848026 0.15449334 0.15781578 0.16014148 0.15681905 0.15914475\n",
      " 0.16379616 0.16147046 0.16047373 0.15216763 0.16080597 0.159477\n",
      " 0.16944431 0.18206957 0.18605649 0.18406303 0.17941162 0.18007611\n",
      " 0.18539201 0.19004342 0.18672098 0.1883822  0.19104015 0.18804996\n",
      " 0.18206957 0.1777504  0.18040835 0.18605649 0.18937893 0.1883822\n",
      " 0.18605649 0.1936981  0.19834951 0.19436259 0.19170464 0.19203688\n",
      " 0.19004342 0.18705323 0.18638874 0.18539201 0.17941162 0.19004342\n",
      " 0.18871444 0.18472752 0.18771771 0.18871444 0.18472752 0.18720812\n",
      " 0.18951409 0.19179744 0.19414979 0.19648108 0.19873066 0.20087314\n",
      " 0.20290935 0.20485462 0.20672908 0.2085516  0.21033692 0.21209502\n",
      " 0.21383189 0.21555041 0.21725151 0.21893518 0.22060086 0.2222479\n",
      " 0.22387573 0.2254838  0.22707173 0.22863929 0.2301863  0.23171268\n",
      " 0.23321849 0.23470373 0.23616865 0.23761339]\n",
      "29 day output [[0.23903826]]\n",
      "[[0.1872081160545349], [0.18951408565044403], [0.1917974352836609], [0.19414979219436646], [0.19648107886314392], [0.19873066246509552], [0.20087313652038574], [0.20290935039520264], [0.20485462248325348], [0.20672908425331116], [0.20855160057544708], [0.21033692359924316], [0.21209502220153809], [0.21383188664913177], [0.21555040776729584], [0.2172515094280243], [0.21893517673015594], [0.22060085833072662], [0.2222478985786438], [0.2238757312297821], [0.22548380494117737], [0.22707173228263855], [0.22863928973674774], [0.23018629848957062], [0.2317126840353012], [0.2332184910774231], [0.23470373451709747], [0.23616865277290344], [0.23761339485645294], [0.23903825879096985]]\n"
     ]
    }
   ],
   "source": [
    "from numpy import array\n",
    "\n",
    "lst_output=[]\n",
    "n_steps=time_step\n",
    "i=0\n",
    "while(i<30):\n",
    "    \n",
    "    if(len(temp_input)>time_step):\n",
    "        #print(temp_input)\n",
    "        x_input=np.array(temp_input[1:])\n",
    "        print(\"{} day input {}\".format(i,x_input))\n",
    "        x_input=x_input.reshape(1,-1)\n",
    "        x_input = x_input.reshape((1, n_steps, 1))\n",
    "        #print(x_input)\n",
    "        yhat = model.predict(x_input, verbose=0)\n",
    "        print(\"{} day output {}\".format(i,yhat))\n",
    "        temp_input.extend(yhat[0].tolist())\n",
    "        temp_input=temp_input[1:]\n",
    "        #print(temp_input)\n",
    "        lst_output.extend(yhat.tolist())\n",
    "        i=i+1\n",
    "    else:\n",
    "        x_input = x_input.reshape((1, n_steps,1))\n",
    "        yhat = model.predict(x_input, verbose=0)\n",
    "        print(yhat[0])\n",
    "        temp_input.extend(yhat[0].tolist())\n",
    "        print(len(temp_input))\n",
    "        lst_output.extend(yhat.tolist())\n",
    "        i=i+1\n",
    "    \n",
    "\n",
    "print(lst_output)"
   ]
  },
  {
   "cell_type": "markdown",
   "metadata": {},
   "source": [
    "###  visualise the predicted result"
   ]
  },
  {
   "cell_type": "code",
   "execution_count": 34,
   "metadata": {
    "scrolled": true
   },
   "outputs": [],
   "source": [
    "day_new=np.arange(1,time_step+1)\n",
    "day_pred=np.arange(time_step+1,time_step+31)"
   ]
  },
  {
   "cell_type": "markdown",
   "metadata": {},
   "source": [
    "### before combine into original data"
   ]
  },
  {
   "cell_type": "code",
   "execution_count": 35,
   "metadata": {},
   "outputs": [
    {
     "data": {
      "text/plain": [
       "Text(0.5, 0.98, 'Previous N day List and Preticted 30 Days List')"
      ]
     },
     "execution_count": 35,
     "metadata": {},
     "output_type": "execute_result"
    },
    {
     "data": {
      "image/png": "[encoded data removed]",
      "text/plain": [
       "<Figure size 864x576 with 1 Axes>"
      ]
     },
     "metadata": {
      "needs_background": "light"
     },
     "output_type": "display_data"
    }
   ],
   "source": [
    "plt.figure(figsize=(12,8))\n",
    "plt.plot(day_new,close_all[len(close_all)-time_step:])\n",
    "plt.plot(day_pred,scaler.inverse_transform(lst_output))\n",
    "plt.xticks(fontsize=10)\n",
    "plt.yticks(fontsize=10)\n",
    "plt.xlabel('Day', fontsize=15)\n",
    "plt.ylabel('Close', fontsize=15)\n",
    "plt.suptitle('Previous N day List and Preticted 30 Days List', fontsize=20)"
   ]
  },
  {
   "cell_type": "markdown",
   "metadata": {},
   "source": [
    "### after combine into original data"
   ]
  },
  {
   "cell_type": "code",
   "execution_count": 36,
   "metadata": {},
   "outputs": [
    {
     "data": {
      "text/plain": [
       "Text(0.5, 0.98, 'Combined Previous N day and Preticted 30 Days')"
      ]
     },
     "execution_count": 36,
     "metadata": {},
     "output_type": "execute_result"
    },
    {
     "data": {
      "image/png": "[encoded data removed]",
      "text/plain": [
       "<Figure size 864x576 with 1 Axes>"
      ]
     },
     "metadata": {
      "needs_background": "light"
     },
     "output_type": "display_data"
    }
   ],
   "source": [
    "df=close_all.tolist()\n",
    "df.extend(scaler.inverse_transform(lst_output))\n",
    "plt.figure(figsize=(12,8))\n",
    "plt.plot(df[5000:])\n",
    "plt.xticks(fontsize=10)\n",
    "plt.yticks(fontsize=10)\n",
    "plt.xlabel('Day', fontsize=15)\n",
    "plt.ylabel('Close', fontsize=15)\n",
    "plt.suptitle('Combined Previous N day and Preticted 30 Days', fontsize=20)"
   ]
  },
  {
   "cell_type": "code",
   "execution_count": 37,
   "metadata": {},
   "outputs": [],
   "source": [
    "df=scaler.inverse_transform(df).tolist()"
   ]
  },
  {
   "cell_type": "code",
   "execution_count": 38,
   "metadata": {},
   "outputs": [
    {
     "data": {
      "text/html": [
       "<div>\n",
       "<style scoped>\n",
       "    .dataframe tbody tr th:only-of-type {\n",
       "        vertical-align: middle;\n",
       "    }\n",
       "\n",
       "    .dataframe tbody tr th {\n",
       "        vertical-align: top;\n",
       "    }\n",
       "\n",
       "    .dataframe thead th {\n",
       "        text-align: right;\n",
       "    }\n",
       "</style>\n",
       "<table border=\"1\" class=\"dataframe\">\n",
       "  <thead>\n",
       "    <tr style=\"text-align: right;\">\n",
       "      <th></th>\n",
       "      <th>1</th>\n",
       "    </tr>\n",
       "    <tr>\n",
       "      <th>0</th>\n",
       "      <th></th>\n",
       "    </tr>\n",
       "  </thead>\n",
       "  <tbody>\n",
       "    <tr>\n",
       "      <th>2000-01-03</th>\n",
       "      <td>867.563576</td>\n",
       "    </tr>\n",
       "    <tr>\n",
       "      <th>2000-01-04</th>\n",
       "      <td>838.617899</td>\n",
       "    </tr>\n",
       "    <tr>\n",
       "      <th>2000-01-05</th>\n",
       "      <td>841.719206</td>\n",
       "    </tr>\n",
       "    <tr>\n",
       "      <th>2000-01-06</th>\n",
       "      <td>842.752996</td>\n",
       "    </tr>\n",
       "    <tr>\n",
       "      <th>2000-01-07</th>\n",
       "      <td>904.779476</td>\n",
       "    </tr>\n",
       "  </tbody>\n",
       "</table>\n",
       "</div>"
      ],
      "text/plain": [
       "                     1\n",
       "0                     \n",
       "2000-01-03  867.563576\n",
       "2000-01-04  838.617899\n",
       "2000-01-05  841.719206\n",
       "2000-01-06  842.752996\n",
       "2000-01-07  904.779476"
      ]
     },
     "execution_count": 38,
     "metadata": {},
     "output_type": "execute_result"
    }
   ],
   "source": [
    "from pandas import DataFrame\n",
    "df_data_all = DataFrame (df)\n",
    "visual_add30 = pd.concat([combined_date,df_data_all], axis=1, ignore_index=True)\n",
    "visual_add30.set_index(visual_add30.columns[0],inplace=True)\n",
    "visual_add30.head(5)"
   ]
  },
  {
   "cell_type": "markdown",
   "metadata": {},
   "source": [
    "### all the data included predited 30 days"
   ]
  },
  {
   "cell_type": "code",
   "execution_count": 39,
   "metadata": {},
   "outputs": [
    {
     "data": {
      "text/plain": [
       "Text(0.5, 0.98, 'Combined with preticted 30 days')"
      ]
     },
     "execution_count": 39,
     "metadata": {},
     "output_type": "execute_result"
    },
    {
     "data": {
      "image/png": "[encoded data removed]",
      "text/plain": [
       "<Figure size 864x576 with 1 Axes>"
      ]
     },
     "metadata": {
      "needs_background": "light"
     },
     "output_type": "display_data"
    }
   ],
   "source": [
    "plt.figure(figsize=(12,8))\n",
    "plt.plot(visual_add30)\n",
    "plt.xticks(fontsize=10)\n",
    "plt.yticks(fontsize=10)\n",
    "plt.xlabel('Date (year)', fontsize=15)\n",
    "plt.ylabel('Close', fontsize=15)\n",
    "plt.suptitle('Combined with preticted 30 days', fontsize=20)"
   ]
  }
 ],
 "metadata": {
  "kernelspec": {
   "display_name": "Python 3",
   "language": "python",
   "name": "python3"
  },
  "language_info": {
   "codemirror_mode": {
    "name": "ipython",
    "version": 3
   },
   "file_extension": ".py",
   "mimetype": "text/x-python",
   "name": "python",
   "nbconvert_exporter": "python",
   "pygments_lexer": "ipython3",
   "version": "3.7.6"
  }
 },
 "nbformat": 4,
 "nbformat_minor": 4
}
