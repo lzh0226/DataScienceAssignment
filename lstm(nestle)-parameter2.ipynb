{
 "cells": [
  {
   "cell_type": "markdown",
   "metadata": {},
   "source": [
    "# LSTM"
   ]
  },
  {
   "cell_type": "markdown",
   "metadata": {},
   "source": [
    "### read .csv file"
   ]
  },
  {
   "cell_type": "code",
   "execution_count": 1,
   "metadata": {},
   "outputs": [],
   "source": [
    "import pandas as pd \n",
    "import numpy as np\n",
    "dataset = pd.read_csv('NSRGY.csv')"
   ]
  },
  {
   "cell_type": "markdown",
   "metadata": {},
   "source": [
    "### sort value according to date"
   ]
  },
  {
   "cell_type": "code",
   "execution_count": 2,
   "metadata": {
    "scrolled": true
   },
   "outputs": [],
   "source": [
    "dataset = dataset.sort_values('Date')"
   ]
  },
  {
   "cell_type": "markdown",
   "metadata": {},
   "source": [
    "### check empty field"
   ]
  },
  {
   "cell_type": "code",
   "execution_count": 3,
   "metadata": {
    "scrolled": true
   },
   "outputs": [
    {
     "data": {
      "text/plain": [
       "Date         0\n",
       "Open         0\n",
       "High         0\n",
       "Low          0\n",
       "Close        0\n",
       "Adj Close    0\n",
       "Volume       0\n",
       "dtype: int64"
      ]
     },
     "execution_count": 3,
     "metadata": {},
     "output_type": "execute_result"
    }
   ],
   "source": [
    "dataset.isnull().sum()"
   ]
  },
  {
   "cell_type": "markdown",
   "metadata": {},
   "source": [
    "### Used for date"
   ]
  },
  {
   "cell_type": "code",
   "execution_count": 4,
   "metadata": {},
   "outputs": [
    {
     "name": "stdout",
     "output_type": "stream",
     "text": [
      "5194   2020-08-25\n",
      "5195   2020-08-26\n",
      "5196   2020-08-27\n",
      "5197   2020-08-28\n",
      "5198   2020-08-31\n",
      "Name: Date, dtype: datetime64[ns]\n"
     ]
    }
   ],
   "source": [
    "date_old = dataset['Date'].copy()\n",
    "date_old = pd.to_datetime(date_old)\n",
    "#view the data of the last 5 days\n",
    "print(date_old.tail(5))"
   ]
  },
  {
   "cell_type": "code",
   "execution_count": 5,
   "metadata": {},
   "outputs": [
    {
     "name": "stdout",
     "output_type": "stream",
     "text": [
      "2020-09-01 00:00:00\n"
     ]
    }
   ],
   "source": [
    "from datetime import datetime\n",
    "import datetime\n",
    "lastDay = date_old.iloc[-1]\n",
    "lastNext = lastDay + datetime.timedelta(days=1)\n",
    "#print the next day that should be the first day of the predict 30 days\n",
    "print(lastNext)"
   ]
  },
  {
   "cell_type": "markdown",
   "metadata": {},
   "source": [
    "### obtain the date of next 30 days"
   ]
  },
  {
   "cell_type": "code",
   "execution_count": 6,
   "metadata": {},
   "outputs": [
    {
     "name": "stdout",
     "output_type": "stream",
     "text": [
      "                    0\n",
      "2020-09-01 2020-09-01\n",
      "2020-09-02 2020-09-02\n",
      "2020-09-03 2020-09-03\n",
      "2020-09-04 2020-09-04\n",
      "2020-09-05 2020-09-05\n"
     ]
    }
   ],
   "source": [
    "datelist = pd.date_range(lastNext, periods=30).tolist()\n",
    "datelist = pd.to_datetime(datelist)\n",
    "date_30 = datelist.copy()\n",
    "date_30 = date_30.to_frame()\n",
    "#print the first 5 days of the predicted 30 days\n",
    "print(date_30.head(5))"
   ]
  },
  {
   "cell_type": "markdown",
   "metadata": {},
   "source": [
    "### combine old date with new date"
   ]
  },
  {
   "cell_type": "code",
   "execution_count": 7,
   "metadata": {},
   "outputs": [
    {
     "name": "stdout",
     "output_type": "stream",
     "text": [
      "              0\n",
      "0    2000-01-03\n",
      "1    2000-01-04\n",
      "2    2000-01-05\n",
      "3    2000-01-06\n",
      "4    2000-01-07\n",
      "...         ...\n",
      "5224 2020-09-26\n",
      "5225 2020-09-27\n",
      "5226 2020-09-28\n",
      "5227 2020-09-29\n",
      "5228 2020-09-30\n",
      "\n",
      "[5229 rows x 1 columns]\n"
     ]
    }
   ],
   "source": [
    "combined_date = pd.concat([date_old,date_30],ignore_index=True)\n",
    "print(combined_date)"
   ]
  },
  {
   "cell_type": "markdown",
   "metadata": {},
   "source": [
    "### drop all column except 'Close'"
   ]
  },
  {
   "cell_type": "code",
   "execution_count": 8,
   "metadata": {},
   "outputs": [
    {
     "name": "stdout",
     "output_type": "stream",
     "text": [
      "[[ 18.299999]\n",
      " [ 18.      ]\n",
      " [ 18.049999]\n",
      " ...\n",
      " [120.879997]\n",
      " [120.449997]\n",
      " [120.410004]]\n"
     ]
    }
   ],
   "source": [
    "close_all = dataset.loc[:, ['Close']].values\n",
    "visual = dataset[['Date', 'Close']].copy()\n",
    "visual['Date'] = pd.to_datetime(visual['Date'])\n",
    "visual.set_index('Date', inplace=True)\n",
    "print(close_all)"
   ]
  },
  {
   "cell_type": "markdown",
   "metadata": {},
   "source": [
    "### Visualisation"
   ]
  },
  {
   "cell_type": "code",
   "execution_count": 9,
   "metadata": {
    "scrolled": true
   },
   "outputs": [
    {
     "data": {
      "text/plain": [
       "Text(0.5, 0.98, 'Original Data')"
      ]
     },
     "execution_count": 9,
     "metadata": {},
     "output_type": "execute_result"
    },
    {
     "data": {
      "image/png": "[encoded data removed]",
      "text/plain": [
       "<Figure size 864x576 with 1 Axes>"
      ]
     },
     "metadata": {
      "needs_background": "light"
     },
     "output_type": "display_data"
    }
   ],
   "source": [
    "import numpy as np \n",
    "import matplotlib.pyplot as plt\n",
    "plt.figure(figsize=(12,8))\n",
    "plt.plot(visual)\n",
    "plt.xticks(fontsize=10)\n",
    "plt.yticks(fontsize=10)\n",
    "plt.xlabel('Date (year)', fontsize=15)\n",
    "plt.ylabel('Close', fontsize=15)\n",
    "plt.suptitle('Original Data', fontsize=20)"
   ]
  },
  {
   "cell_type": "markdown",
   "metadata": {},
   "source": [
    "### splitting dataset into front 80% for training and last 20% for testing"
   ]
  },
  {
   "cell_type": "code",
   "execution_count": 10,
   "metadata": {},
   "outputs": [],
   "source": [
    "training_size=int(len(close_all)*0.8)\n",
    "test_size=len(close_all)-training_size\n",
    "train_data,test_data=close_all[0:training_size,:],close_all[training_size:len(close_all),:1]"
   ]
  },
  {
   "cell_type": "code",
   "execution_count": 11,
   "metadata": {},
   "outputs": [
    {
     "data": {
      "text/plain": [
       "(4159, 1040)"
      ]
     },
     "execution_count": 11,
     "metadata": {},
     "output_type": "execute_result"
    }
   ],
   "source": [
    "training_size,test_size"
   ]
  },
  {
   "cell_type": "markdown",
   "metadata": {},
   "source": [
    "### Scale the training data within range of 0 to 1"
   ]
  },
  {
   "cell_type": "code",
   "execution_count": 12,
   "metadata": {},
   "outputs": [
    {
     "data": {
      "text/plain": [
       "array([[0.04320986],\n",
       "       [0.03858025],\n",
       "       [0.03935183],\n",
       "       ...,\n",
       "       [0.973611  ],\n",
       "       [0.9760802 ],\n",
       "       [0.98317895]])"
      ]
     },
     "execution_count": 12,
     "metadata": {},
     "output_type": "execute_result"
    }
   ],
   "source": [
    "from sklearn.preprocessing import MinMaxScaler\n",
    "scaler = MinMaxScaler(feature_range = (0, 1))\n",
    "train_data = scaler.fit_transform(train_data)\n",
    "train_data"
   ]
  },
  {
   "cell_type": "markdown",
   "metadata": {},
   "source": [
    "### set the time step to 100 for training set and testing set"
   ]
  },
  {
   "cell_type": "code",
   "execution_count": 13,
   "metadata": {
    "scrolled": true
   },
   "outputs": [
    {
     "name": "stdout",
     "output_type": "stream",
     "text": [
      "(4058, 100)\n",
      "(4058,)\n"
     ]
    }
   ],
   "source": [
    "time_step = 100\n",
    "X_train_list, y_train_list = [], []\n",
    "for i in range(len(train_data)-time_step-1):\n",
    "    X_train_list.append(train_data[i:(i+time_step), 0])\n",
    "    y_train_list.append(train_data[i + time_step, 0])\n",
    "X_train, y_train = np.array(X_train_list),np.array(y_train_list)\n",
    "print(X_train.shape)\n",
    "print(y_train.shape)"
   ]
  },
  {
   "cell_type": "markdown",
   "metadata": {},
   "source": [
    "### reshape the data to fit in LSTM model"
   ]
  },
  {
   "cell_type": "code",
   "execution_count": 14,
   "metadata": {},
   "outputs": [],
   "source": [
    "X_train =X_train.reshape(X_train.shape[0],X_train.shape[1] , 1)\n",
    "#X_test = X_test.reshape(X_test.shape[0],X_test.shape[1] , 1)"
   ]
  },
  {
   "cell_type": "markdown",
   "metadata": {},
   "source": [
    "### LSTM modelling"
   ]
  },
  {
   "cell_type": "code",
   "execution_count": 15,
   "metadata": {},
   "outputs": [],
   "source": [
    "from tensorflow.keras.models import Sequential\n",
    "from tensorflow.keras.layers import Dense\n",
    "from tensorflow.keras.layers import LSTM"
   ]
  },
  {
   "cell_type": "code",
   "execution_count": 16,
   "metadata": {},
   "outputs": [],
   "source": [
    "model=Sequential()\n",
    "model.add(LSTM(150,return_sequences=True,input_shape=(time_step,1)))\n",
    "model.add(LSTM(150,return_sequences=True))\n",
    "model.add(LSTM(150))\n",
    "model.add(Dense(1))\n",
    "model.compile(loss='mean_squared_error',optimizer='adam')"
   ]
  },
  {
   "cell_type": "code",
   "execution_count": 17,
   "metadata": {
    "scrolled": false
   },
   "outputs": [
    {
     "name": "stdout",
     "output_type": "stream",
     "text": [
      "Model: \"sequential\"\n",
      "_________________________________________________________________\n",
      "Layer (type)                 Output Shape              Param #   \n",
      "=================================================================\n",
      "lstm (LSTM)                  (None, 100, 150)          91200     \n",
      "_________________________________________________________________\n",
      "lstm_1 (LSTM)                (None, 100, 150)          180600    \n",
      "_________________________________________________________________\n",
      "lstm_2 (LSTM)                (None, 150)               180600    \n",
      "_________________________________________________________________\n",
      "dense (Dense)                (None, 1)                 151       \n",
      "=================================================================\n",
      "Total params: 452,551\n",
      "Trainable params: 452,551\n",
      "Non-trainable params: 0\n",
      "_________________________________________________________________\n"
     ]
    }
   ],
   "source": [
    "model.summary()"
   ]
  },
  {
   "cell_type": "markdown",
   "metadata": {},
   "source": [
    "### fitting the training set into the model"
   ]
  },
  {
   "cell_type": "code",
   "execution_count": 18,
   "metadata": {
    "scrolled": true
   },
   "outputs": [
    {
     "name": "stdout",
     "output_type": "stream",
     "text": [
      "Epoch 1/100\n",
      "127/127 [==============================] - 111s 874ms/step - loss: 0.0085\n",
      "Epoch 2/100\n",
      "127/127 [==============================] - 121s 955ms/step - loss: 4.1184e-04\n",
      "Epoch 3/100\n",
      "127/127 [==============================] - 136s 1s/step - loss: 4.0435e-04\n",
      "Epoch 4/100\n",
      "127/127 [==============================] - 134s 1s/step - loss: 3.9577e-04\n",
      "Epoch 5/100\n",
      "127/127 [==============================] - 132s 1s/step - loss: 4.0562e-04\n",
      "Epoch 6/100\n",
      "127/127 [==============================] - 137s 1s/step - loss: 4.7128e-04\n",
      "Epoch 7/100\n",
      "127/127 [==============================] - 136s 1s/step - loss: 3.8495e-04\n",
      "Epoch 8/100\n",
      "127/127 [==============================] - 140s 1s/step - loss: 3.8365e-04\n",
      "Epoch 9/100\n",
      "127/127 [==============================] - 137s 1s/step - loss: 4.0078e-04\n",
      "Epoch 10/100\n",
      "127/127 [==============================] - 136s 1s/step - loss: 3.2746e-04\n",
      "Epoch 11/100\n",
      "127/127 [==============================] - 135s 1s/step - loss: 3.6710e-04\n",
      "Epoch 12/100\n",
      "127/127 [==============================] - 136s 1s/step - loss: 3.3794e-04\n",
      "Epoch 13/100\n",
      "127/127 [==============================] - 136s 1s/step - loss: 3.0423e-04\n",
      "Epoch 14/100\n",
      "127/127 [==============================] - 137s 1s/step - loss: 3.4403e-04\n",
      "Epoch 15/100\n",
      "127/127 [==============================] - 135s 1s/step - loss: 2.4886e-04\n",
      "Epoch 16/100\n",
      "127/127 [==============================] - 133s 1s/step - loss: 2.2801e-04\n",
      "Epoch 17/100\n",
      "127/127 [==============================] - 134s 1s/step - loss: 2.0678e-04\n",
      "Epoch 18/100\n",
      "127/127 [==============================] - 132s 1s/step - loss: 2.3173e-04\n",
      "Epoch 19/100\n",
      "127/127 [==============================] - 134s 1s/step - loss: 1.8507e-04\n",
      "Epoch 20/100\n",
      "127/127 [==============================] - 136s 1s/step - loss: 1.8058e-04\n",
      "Epoch 21/100\n",
      "127/127 [==============================] - 137s 1s/step - loss: 1.4953e-04\n",
      "Epoch 22/100\n",
      "127/127 [==============================] - 139s 1s/step - loss: 1.5745e-04\n",
      "Epoch 23/100\n",
      "127/127 [==============================] - 136s 1s/step - loss: 1.4734e-04\n",
      "Epoch 24/100\n",
      "127/127 [==============================] - 134s 1s/step - loss: 1.6863e-04\n",
      "Epoch 25/100\n",
      "127/127 [==============================] - 139s 1s/step - loss: 1.9243e-04\n",
      "Epoch 26/100\n",
      "127/127 [==============================] - 137s 1s/step - loss: 1.2093e-04\n",
      "Epoch 27/100\n",
      "127/127 [==============================] - 137s 1s/step - loss: 1.3258e-04\n",
      "Epoch 28/100\n",
      "127/127 [==============================] - 135s 1s/step - loss: 1.4052e-04\n",
      "Epoch 29/100\n",
      "127/127 [==============================] - 137s 1s/step - loss: 1.2265e-04\n",
      "Epoch 30/100\n",
      "127/127 [==============================] - 136s 1s/step - loss: 1.4883e-04\n",
      "Epoch 31/100\n",
      "127/127 [==============================] - 135s 1s/step - loss: 1.2456e-04\n",
      "Epoch 32/100\n",
      "127/127 [==============================] - 137s 1s/step - loss: 1.3863e-04\n",
      "Epoch 33/100\n",
      "127/127 [==============================] - 138s 1s/step - loss: 1.3643e-04\n",
      "Epoch 34/100\n",
      "127/127 [==============================] - 140s 1s/step - loss: 1.2932e-04\n",
      "Epoch 35/100\n",
      "127/127 [==============================] - 137s 1s/step - loss: 1.4563e-04\n",
      "Epoch 36/100\n",
      "127/127 [==============================] - 137s 1s/step - loss: 1.1620e-04\n",
      "Epoch 37/100\n",
      "127/127 [==============================] - 136s 1s/step - loss: 1.2969e-04\n",
      "Epoch 38/100\n",
      "127/127 [==============================] - 137s 1s/step - loss: 1.3373e-04\n",
      "Epoch 39/100\n",
      "127/127 [==============================] - 136s 1s/step - loss: 1.1767e-04\n",
      "Epoch 40/100\n",
      "127/127 [==============================] - 136s 1s/step - loss: 1.6617e-04\n",
      "Epoch 41/100\n",
      "127/127 [==============================] - 136s 1s/step - loss: 1.3450e-04\n",
      "Epoch 42/100\n",
      "127/127 [==============================] - 138s 1s/step - loss: 1.3891e-04\n",
      "Epoch 43/100\n",
      "127/127 [==============================] - 140s 1s/step - loss: 1.6640e-04\n",
      "Epoch 44/100\n",
      "127/127 [==============================] - 136s 1s/step - loss: 1.2418e-04\n",
      "Epoch 45/100\n",
      "127/127 [==============================] - 140s 1s/step - loss: 1.4173e-04\n",
      "Epoch 46/100\n",
      "127/127 [==============================] - 134s 1s/step - loss: 1.2612e-04\n",
      "Epoch 47/100\n",
      "127/127 [==============================] - 139s 1s/step - loss: 1.1139e-04\n",
      "Epoch 48/100\n",
      "127/127 [==============================] - 137s 1s/step - loss: 1.1499e-04\n",
      "Epoch 49/100\n",
      "127/127 [==============================] - 136s 1s/step - loss: 1.2312e-04\n",
      "Epoch 50/100\n",
      "127/127 [==============================] - 135s 1s/step - loss: 1.1469e-04\n",
      "Epoch 51/100\n",
      "127/127 [==============================] - 139s 1s/step - loss: 1.1595e-04\n",
      "Epoch 52/100\n",
      "127/127 [==============================] - 137s 1s/step - loss: 1.2734e-04\n",
      "Epoch 53/100\n",
      "127/127 [==============================] - 132s 1s/step - loss: 1.2127e-04\n",
      "Epoch 54/100\n",
      "127/127 [==============================] - 137s 1s/step - loss: 1.1420e-04\n",
      "Epoch 55/100\n",
      "127/127 [==============================] - 136s 1s/step - loss: 1.1929e-04\n",
      "Epoch 56/100\n",
      "127/127 [==============================] - 139s 1s/step - loss: 1.1246e-04\n",
      "Epoch 57/100\n",
      "127/127 [==============================] - 140s 1s/step - loss: 1.4855e-04\n",
      "Epoch 58/100\n",
      "127/127 [==============================] - 134s 1s/step - loss: 1.1346e-04\n",
      "Epoch 59/100\n",
      "127/127 [==============================] - 138s 1s/step - loss: 1.0158e-04\n",
      "Epoch 60/100\n",
      "127/127 [==============================] - 134s 1s/step - loss: 1.0230e-04\n",
      "Epoch 61/100\n",
      "127/127 [==============================] - 136s 1s/step - loss: 1.0755e-04\n",
      "Epoch 62/100\n",
      "127/127 [==============================] - 133s 1s/step - loss: 1.1093e-04\n",
      "Epoch 63/100\n",
      "127/127 [==============================] - 127s 1000ms/step - loss: 1.1959e-04\n",
      "Epoch 64/100\n",
      "127/127 [==============================] - 123s 968ms/step - loss: 1.1203e-04\n",
      "Epoch 65/100\n",
      "127/127 [==============================] - 120s 941ms/step - loss: 1.2849e-04\n",
      "Epoch 66/100\n",
      "127/127 [==============================] - 116s 916ms/step - loss: 1.0439e-04\n",
      "Epoch 67/100\n",
      "127/127 [==============================] - 119s 935ms/step - loss: 1.1057e-04\n",
      "Epoch 68/100\n",
      "127/127 [==============================] - 124s 978ms/step - loss: 1.0752e-04\n",
      "Epoch 69/100\n",
      "127/127 [==============================] - 116s 916ms/step - loss: 1.0813e-04\n",
      "Epoch 70/100\n",
      "127/127 [==============================] - 116s 914ms/step - loss: 1.0357e-04\n",
      "Epoch 71/100\n",
      "127/127 [==============================] - 118s 930ms/step - loss: 9.5200e-05\n",
      "Epoch 72/100\n",
      "127/127 [==============================] - 98s 775ms/step - loss: 1.1267e-04\n",
      "Epoch 73/100\n",
      "127/127 [==============================] - 89s 702ms/step - loss: 1.0481e-04\n",
      "Epoch 74/100\n",
      "127/127 [==============================] - 63s 494ms/step - loss: 9.8824e-05\n",
      "Epoch 75/100\n",
      "127/127 [==============================] - 53s 420ms/step - loss: 1.2328e-04\n",
      "Epoch 76/100\n",
      "127/127 [==============================] - 46s 362ms/step - loss: 9.6105e-05\n",
      "Epoch 77/100\n",
      "127/127 [==============================] - 42s 329ms/step - loss: 9.9880e-05\n",
      "Epoch 78/100\n",
      "127/127 [==============================] - 33s 261ms/step - loss: 9.6352e-05\n",
      "Epoch 79/100\n",
      "127/127 [==============================] - 32s 254ms/step - loss: 1.0174e-04\n",
      "Epoch 80/100\n",
      "127/127 [==============================] - 33s 259ms/step - loss: 1.0403e-04\n",
      "Epoch 81/100\n",
      "127/127 [==============================] - 32s 252ms/step - loss: 1.1086e-04\n",
      "Epoch 82/100\n",
      "127/127 [==============================] - 32s 255ms/step - loss: 9.9494e-05\n",
      "Epoch 83/100\n",
      "127/127 [==============================] - 33s 257ms/step - loss: 1.0055e-04\n",
      "Epoch 84/100\n",
      "127/127 [==============================] - 34s 269ms/step - loss: 9.2595e-05\n",
      "Epoch 85/100\n",
      "127/127 [==============================] - 36s 282ms/step - loss: 1.2069e-04\n",
      "Epoch 86/100\n",
      "127/127 [==============================] - 33s 260ms/step - loss: 1.0802e-04\n",
      "Epoch 87/100\n",
      "127/127 [==============================] - 33s 260ms/step - loss: 1.1702e-04\n",
      "Epoch 88/100\n",
      "127/127 [==============================] - 33s 261ms/step - loss: 1.0365e-04\n",
      "Epoch 89/100\n",
      "127/127 [==============================] - 33s 258ms/step - loss: 1.0594e-04\n",
      "Epoch 90/100\n",
      "127/127 [==============================] - 33s 259ms/step - loss: 1.1980e-04\n",
      "Epoch 91/100\n",
      "127/127 [==============================] - 33s 257ms/step - loss: 9.3238e-05\n",
      "Epoch 92/100\n",
      "127/127 [==============================] - 33s 261ms/step - loss: 9.7483e-05\n",
      "Epoch 93/100\n",
      "127/127 [==============================] - 33s 258ms/step - loss: 1.2125e-04\n",
      "Epoch 94/100\n",
      "127/127 [==============================] - 33s 261ms/step - loss: 1.0948e-04\n",
      "Epoch 95/100\n",
      "127/127 [==============================] - 33s 257ms/step - loss: 9.9188e-05\n",
      "Epoch 96/100\n",
      "127/127 [==============================] - 33s 259ms/step - loss: 9.2736e-05\n",
      "Epoch 97/100\n",
      "127/127 [==============================] - 33s 261ms/step - loss: 9.8711e-05\n",
      "Epoch 98/100\n",
      "127/127 [==============================] - 33s 261ms/step - loss: 1.2751e-04\n",
      "Epoch 99/100\n",
      "127/127 [==============================] - 33s 260ms/step - loss: 8.7084e-05\n",
      "Epoch 100/100\n",
      "127/127 [==============================] - 32s 255ms/step - loss: 9.6266e-05\n"
     ]
    },
    {
     "data": {
      "text/plain": [
       "<tensorflow.python.keras.callbacks.History at 0x2be754c4408>"
      ]
     },
     "execution_count": 18,
     "metadata": {},
     "output_type": "execute_result"
    }
   ],
   "source": [
    "model.fit(X_train,y_train,epochs=100,batch_size=32)"
   ]
  },
  {
   "cell_type": "markdown",
   "metadata": {},
   "source": [
    "### predict the training set"
   ]
  },
  {
   "cell_type": "code",
   "execution_count": 19,
   "metadata": {},
   "outputs": [],
   "source": [
    "train_predict=model.predict(X_train)"
   ]
  },
  {
   "cell_type": "markdown",
   "metadata": {},
   "source": [
    "### calculate the mean squared error between the actual result and predicted result"
   ]
  },
  {
   "cell_type": "code",
   "execution_count": 20,
   "metadata": {},
   "outputs": [
    {
     "data": {
      "text/plain": [
       "0.009957246321753752"
      ]
     },
     "execution_count": 20,
     "metadata": {},
     "output_type": "execute_result"
    }
   ],
   "source": [
    "import math\n",
    "from sklearn.metrics import mean_squared_error\n",
    "math.sqrt(mean_squared_error(y_train,train_predict))"
   ]
  },
  {
   "cell_type": "markdown",
   "metadata": {},
   "source": [
    "### predict the testing set"
   ]
  },
  {
   "cell_type": "code",
   "execution_count": 21,
   "metadata": {},
   "outputs": [
    {
     "data": {
      "text/plain": [
       "array([[0.97716045],\n",
       "       [0.98148141],\n",
       "       [0.97499995],\n",
       "       ...,\n",
       "       [1.62623445],\n",
       "       [1.61959864],\n",
       "       [1.61898147]])"
      ]
     },
     "execution_count": 21,
     "metadata": {},
     "output_type": "execute_result"
    }
   ],
   "source": [
    "test_data = scaler.transform(test_data)\n",
    "test_data"
   ]
  },
  {
   "cell_type": "code",
   "execution_count": 22,
   "metadata": {},
   "outputs": [
    {
     "name": "stdout",
     "output_type": "stream",
     "text": [
      "(939, 100)\n",
      "(939,)\n"
     ]
    }
   ],
   "source": [
    "X_test_list, y_test_list = [], []\n",
    "for i in range(len(test_data)-time_step-1):\n",
    "    X_test_list.append(test_data[i:(i+time_step), 0])\n",
    "    y_test_list.append(test_data[i + time_step, 0])\n",
    "X_test, y_test = np.array(X_test_list),np.array(y_test_list)\n",
    "print(X_test.shape)\n",
    "print(y_test.shape)"
   ]
  },
  {
   "cell_type": "code",
   "execution_count": 23,
   "metadata": {},
   "outputs": [],
   "source": [
    "X_test = X_test.reshape(X_test.shape[0],X_test.shape[1] , 1)"
   ]
  },
  {
   "cell_type": "code",
   "execution_count": 24,
   "metadata": {},
   "outputs": [],
   "source": [
    "test_predict=model.predict(X_test)"
   ]
  },
  {
   "cell_type": "code",
   "execution_count": 25,
   "metadata": {},
   "outputs": [
    {
     "data": {
      "text/plain": [
       "0.026156011032638083"
      ]
     },
     "execution_count": 25,
     "metadata": {},
     "output_type": "execute_result"
    }
   ],
   "source": [
    "math.sqrt(mean_squared_error(y_test,test_predict))"
   ]
  },
  {
   "cell_type": "markdown",
   "metadata": {},
   "source": [
    "### Visualisation of result of training set and testing set"
   ]
  },
  {
   "cell_type": "markdown",
   "metadata": {},
   "source": [
    "blue colour is original data\n",
    "\n",
    "orange colour is predicted value using training data\n",
    "\n",
    "green colour is predicted value using testing data"
   ]
  },
  {
   "cell_type": "code",
   "execution_count": 26,
   "metadata": {
    "scrolled": false
   },
   "outputs": [],
   "source": [
    "# visual is done at up. It shows all, so is equal to close_all\n",
    "# scale back to original form\n",
    "train_predict=scaler.inverse_transform(train_predict)\n",
    "test_predict=scaler.inverse_transform(test_predict)\n",
    "### Plotting \n",
    "# shift train predictions for plotting\n",
    "look_back=time_step\n",
    "trainPredictPlot = np.empty_like(close_all)\n",
    "trainPredictPlot[:, :] = np.nan\n",
    "trainPredictPlot[look_back:len(train_predict)+look_back, :] = train_predict\n",
    "# shift test predictions for plotting\n",
    "testPredictPlot = np.empty_like(close_all)\n",
    "testPredictPlot[:, :] = np.nan\n",
    "testPredictPlot[len(train_predict)+(look_back*2)+1:len(close_all)-1, :] = test_predict"
   ]
  },
  {
   "cell_type": "code",
   "execution_count": 27,
   "metadata": {},
   "outputs": [],
   "source": [
    "dt_train = pd.DataFrame(np.array(trainPredictPlot))\n",
    "visual_train = pd.concat([date_old,dt_train], axis=1, ignore_index=True)\n",
    "visual_train.set_index(visual_train.columns[0],inplace=True)"
   ]
  },
  {
   "cell_type": "code",
   "execution_count": 28,
   "metadata": {},
   "outputs": [],
   "source": [
    "dt_test = pd.DataFrame(np.array(testPredictPlot))\n",
    "visual_test = pd.concat([date_old,dt_test], axis=1, ignore_index=True)\n",
    "visual_test.set_index(visual_test.columns[0],inplace=True)"
   ]
  },
  {
   "cell_type": "code",
   "execution_count": 29,
   "metadata": {},
   "outputs": [
    {
     "data": {
      "text/plain": [
       "Text(0.5, 0.98, 'Original, Train and Test Data')"
      ]
     },
     "execution_count": 29,
     "metadata": {},
     "output_type": "execute_result"
    },
    {
     "data": {
      "image/png": "[encoded data removed]",
      "text/plain": [
       "<Figure size 864x576 with 1 Axes>"
      ]
     },
     "metadata": {
      "needs_background": "light"
     },
     "output_type": "display_data"
    }
   ],
   "source": [
    "# plot baseline and predictions\n",
    "plt.figure(figsize=(12,8))\n",
    "plt.plot(visual)\n",
    "plt.plot(visual_train)\n",
    "plt.plot(visual_test)\n",
    "#plt.show()\n",
    "plt.xticks(fontsize=10)\n",
    "plt.yticks(fontsize=10)\n",
    "plt.xlabel('Date (year)', fontsize=15)\n",
    "plt.ylabel('Close', fontsize=15)\n",
    "plt.suptitle('Original, Train and Test Data', fontsize=20)"
   ]
  },
  {
   "cell_type": "markdown",
   "metadata": {},
   "source": [
    "## Predict future 30 days"
   ]
  },
  {
   "cell_type": "markdown",
   "metadata": {},
   "source": [
    "### get the last 100 day for time step of the future day"
   ]
  },
  {
   "cell_type": "code",
   "execution_count": 30,
   "metadata": {},
   "outputs": [
    {
     "data": {
      "text/plain": [
       "1040"
      ]
     },
     "execution_count": 30,
     "metadata": {},
     "output_type": "execute_result"
    }
   ],
   "source": [
    "len(test_data)"
   ]
  },
  {
   "cell_type": "code",
   "execution_count": 31,
   "metadata": {},
   "outputs": [
    {
     "data": {
      "text/plain": [
       "(1, 100)"
      ]
     },
     "execution_count": 31,
     "metadata": {},
     "output_type": "execute_result"
    }
   ],
   "source": [
    "x_input=test_data[len(test_data)-time_step:].reshape(1,-1)\n",
    "x_input.shape"
   ]
  },
  {
   "cell_type": "code",
   "execution_count": 32,
   "metadata": {
    "scrolled": true
   },
   "outputs": [
    {
     "data": {
      "text/plain": [
       "[1.400771493791443,\n",
       " 1.3929012009459318,\n",
       " 1.4214505669081525,\n",
       " 1.4158949961777005,\n",
       " 1.434722171231998,\n",
       " 1.4577159664637667,\n",
       " 1.4708332343750044,\n",
       " 1.4268517703618004,\n",
       " 1.4458332972608041,\n",
       " 1.3966048736139718,\n",
       " 1.4462962447702354,\n",
       " 1.4126542710190924,\n",
       " 1.403703623285326,\n",
       " 1.389043176433186,\n",
       " 1.3827159545038907,\n",
       " 1.371604828475085,\n",
       " 1.3649690263131622,\n",
       " 1.365277730002574,\n",
       " 1.3850308000757343,\n",
       " 1.4013887931455804,\n",
       " 1.427469069715938,\n",
       " 1.4390431432541753,\n",
       " 1.4336419398005273,\n",
       " 1.42206786626229,\n",
       " 1.403703623285326,\n",
       " 1.4077159996427775,\n",
       " 1.4296295480109775,\n",
       " 1.4169752430412694,\n",
       " 1.4367282976823317,\n",
       " 1.406327049089797,\n",
       " 1.3932097966106574,\n",
       " 1.3888888245884803,\n",
       " 1.3708333007330262,\n",
       " 1.3959875742598342,\n",
       " 1.4279320172253696,\n",
       " 1.437499964313273,\n",
       " 1.4216049187528585,\n",
       " 1.432870273169586,\n",
       " 1.4143518172367984,\n",
       " 1.4020060770676197,\n",
       " 1.4395060907636068,\n",
       " 1.4648147161351208,\n",
       " 1.4807097616955356,\n",
       " 1.438425843900038,\n",
       " 1.4373455970364692,\n",
       " 1.4586418614826298,\n",
       " 1.4612653953117871,\n",
       " 1.510648062778639,\n",
       " 1.4922838352337728,\n",
       " 1.4929011345879102,\n",
       " 1.4964505634359304,\n",
       " 1.4882715669010076,\n",
       " 1.4628085896847873,\n",
       " 1.4748456107324561,\n",
       " 1.4648147161351208,\n",
       " 1.456790086877002,\n",
       " 1.465123419824533,\n",
       " 1.4820987122485163,\n",
       " 1.484259190543556,\n",
       " 1.5003085879486762,\n",
       " 1.4791665673225354,\n",
       " 1.499845640439245,\n",
       " 1.49506161288295,\n",
       " 1.5123456089963452,\n",
       " 1.5054012111696968,\n",
       " 1.5203702536865622,\n",
       " 1.5322530309142115,\n",
       " 1.529783833497662,\n",
       " 1.5492283079060967,\n",
       " 1.5490739560613909,\n",
       " 1.543518400763037,\n",
       " 1.5819444020704752,\n",
       " 1.6030862992398316,\n",
       " 1.5868826734467898,\n",
       " 1.611882595128892,\n",
       " 1.620215943508521,\n",
       " 1.6388887667181125,\n",
       " 1.6296295233196207,\n",
       " 1.5794752046539255,\n",
       " 1.5972221482767521,\n",
       " 1.6023147714977728,\n",
       " 1.5856480747385149,\n",
       " 1.587191253679417,\n",
       " 1.589043151741829,\n",
       " 1.5864197259373582,\n",
       " 1.568981377979257,\n",
       " 1.6020060678083607,\n",
       " 1.6070986755972834,\n",
       " 1.601234524634204,\n",
       " 1.6211419465520702,\n",
       " 1.6240739680212668,\n",
       " 1.6268517456704437,\n",
       " 1.627623396869287,\n",
       " 1.6266975172825222,\n",
       " 1.6288579955775617,\n",
       " 1.6251542148848355,\n",
       " 1.6396604179169558,\n",
       " 1.6262344463163063,\n",
       " 1.6195986441543835,\n",
       " 1.6189814682570307]"
      ]
     },
     "execution_count": 32,
     "metadata": {},
     "output_type": "execute_result"
    }
   ],
   "source": [
    "temp_input=list(x_input)\n",
    "temp_input=temp_input[0].tolist()\n",
    "temp_input"
   ]
  },
  {
   "cell_type": "markdown",
   "metadata": {},
   "source": [
    "### predict the future 30 days result"
   ]
  },
  {
   "cell_type": "code",
   "execution_count": 33,
   "metadata": {
    "scrolled": true
   },
   "outputs": [
    {
     "name": "stdout",
     "output_type": "stream",
     "text": [
      "[1.5549436]\n",
      "101\n",
      "1 day input [1.3929012  1.42145057 1.415895   1.43472217 1.45771597 1.47083323\n",
      " 1.42685177 1.4458333  1.39660487 1.44629624 1.41265427 1.40370362\n",
      " 1.38904318 1.38271595 1.37160483 1.36496903 1.36527773 1.3850308\n",
      " 1.40138879 1.42746907 1.43904314 1.43364194 1.42206787 1.40370362\n",
      " 1.407716   1.42962955 1.41697524 1.4367283  1.40632705 1.3932098\n",
      " 1.38888882 1.3708333  1.39598757 1.42793202 1.43749996 1.42160492\n",
      " 1.43287027 1.41435182 1.40200608 1.43950609 1.46481472 1.48070976\n",
      " 1.43842584 1.4373456  1.45864186 1.4612654  1.51064806 1.49228384\n",
      " 1.49290113 1.49645056 1.48827157 1.46280859 1.47484561 1.46481472\n",
      " 1.45679009 1.46512342 1.48209871 1.48425919 1.50030859 1.47916657\n",
      " 1.49984564 1.49506161 1.51234561 1.50540121 1.52037025 1.53225303\n",
      " 1.52978383 1.54922831 1.54907396 1.5435184  1.5819444  1.6030863\n",
      " 1.58688267 1.6118826  1.62021594 1.63888877 1.62962952 1.5794752\n",
      " 1.59722215 1.60231477 1.58564807 1.58719125 1.58904315 1.58641973\n",
      " 1.56898138 1.60200607 1.60709868 1.60123452 1.62114195 1.62407397\n",
      " 1.62685175 1.6276234  1.62669752 1.628858   1.62515421 1.63966042\n",
      " 1.62623445 1.61959864 1.61898147 1.55494356]\n",
      "1 day output [[1.5158912]]\n",
      "2 day input [1.42145057 1.415895   1.43472217 1.45771597 1.47083323 1.42685177\n",
      " 1.4458333  1.39660487 1.44629624 1.41265427 1.40370362 1.38904318\n",
      " 1.38271595 1.37160483 1.36496903 1.36527773 1.3850308  1.40138879\n",
      " 1.42746907 1.43904314 1.43364194 1.42206787 1.40370362 1.407716\n",
      " 1.42962955 1.41697524 1.4367283  1.40632705 1.3932098  1.38888882\n",
      " 1.3708333  1.39598757 1.42793202 1.43749996 1.42160492 1.43287027\n",
      " 1.41435182 1.40200608 1.43950609 1.46481472 1.48070976 1.43842584\n",
      " 1.4373456  1.45864186 1.4612654  1.51064806 1.49228384 1.49290113\n",
      " 1.49645056 1.48827157 1.46280859 1.47484561 1.46481472 1.45679009\n",
      " 1.46512342 1.48209871 1.48425919 1.50030859 1.47916657 1.49984564\n",
      " 1.49506161 1.51234561 1.50540121 1.52037025 1.53225303 1.52978383\n",
      " 1.54922831 1.54907396 1.5435184  1.5819444  1.6030863  1.58688267\n",
      " 1.6118826  1.62021594 1.63888877 1.62962952 1.5794752  1.59722215\n",
      " 1.60231477 1.58564807 1.58719125 1.58904315 1.58641973 1.56898138\n",
      " 1.60200607 1.60709868 1.60123452 1.62114195 1.62407397 1.62685175\n",
      " 1.6276234  1.62669752 1.628858   1.62515421 1.63966042 1.62623445\n",
      " 1.61959864 1.61898147 1.55494356 1.51589119]\n",
      "2 day output [[1.4822805]]\n",
      "3 day input [1.415895   1.43472217 1.45771597 1.47083323 1.42685177 1.4458333\n",
      " 1.39660487 1.44629624 1.41265427 1.40370362 1.38904318 1.38271595\n",
      " 1.37160483 1.36496903 1.36527773 1.3850308  1.40138879 1.42746907\n",
      " 1.43904314 1.43364194 1.42206787 1.40370362 1.407716   1.42962955\n",
      " 1.41697524 1.4367283  1.40632705 1.3932098  1.38888882 1.3708333\n",
      " 1.39598757 1.42793202 1.43749996 1.42160492 1.43287027 1.41435182\n",
      " 1.40200608 1.43950609 1.46481472 1.48070976 1.43842584 1.4373456\n",
      " 1.45864186 1.4612654  1.51064806 1.49228384 1.49290113 1.49645056\n",
      " 1.48827157 1.46280859 1.47484561 1.46481472 1.45679009 1.46512342\n",
      " 1.48209871 1.48425919 1.50030859 1.47916657 1.49984564 1.49506161\n",
      " 1.51234561 1.50540121 1.52037025 1.53225303 1.52978383 1.54922831\n",
      " 1.54907396 1.5435184  1.5819444  1.6030863  1.58688267 1.6118826\n",
      " 1.62021594 1.63888877 1.62962952 1.5794752  1.59722215 1.60231477\n",
      " 1.58564807 1.58719125 1.58904315 1.58641973 1.56898138 1.60200607\n",
      " 1.60709868 1.60123452 1.62114195 1.62407397 1.62685175 1.6276234\n",
      " 1.62669752 1.628858   1.62515421 1.63966042 1.62623445 1.61959864\n",
      " 1.61898147 1.55494356 1.51589119 1.48228049]\n",
      "3 day output [[1.4548448]]\n",
      "4 day input [1.43472217 1.45771597 1.47083323 1.42685177 1.4458333  1.39660487\n",
      " 1.44629624 1.41265427 1.40370362 1.38904318 1.38271595 1.37160483\n",
      " 1.36496903 1.36527773 1.3850308  1.40138879 1.42746907 1.43904314\n",
      " 1.43364194 1.42206787 1.40370362 1.407716   1.42962955 1.41697524\n",
      " 1.4367283  1.40632705 1.3932098  1.38888882 1.3708333  1.39598757\n",
      " 1.42793202 1.43749996 1.42160492 1.43287027 1.41435182 1.40200608\n",
      " 1.43950609 1.46481472 1.48070976 1.43842584 1.4373456  1.45864186\n",
      " 1.4612654  1.51064806 1.49228384 1.49290113 1.49645056 1.48827157\n",
      " 1.46280859 1.47484561 1.46481472 1.45679009 1.46512342 1.48209871\n",
      " 1.48425919 1.50030859 1.47916657 1.49984564 1.49506161 1.51234561\n",
      " 1.50540121 1.52037025 1.53225303 1.52978383 1.54922831 1.54907396\n",
      " 1.5435184  1.5819444  1.6030863  1.58688267 1.6118826  1.62021594\n",
      " 1.63888877 1.62962952 1.5794752  1.59722215 1.60231477 1.58564807\n",
      " 1.58719125 1.58904315 1.58641973 1.56898138 1.60200607 1.60709868\n",
      " 1.60123452 1.62114195 1.62407397 1.62685175 1.6276234  1.62669752\n",
      " 1.628858   1.62515421 1.63966042 1.62623445 1.61959864 1.61898147\n",
      " 1.55494356 1.51589119 1.48228049 1.45484483]\n",
      "4 day output [[1.4324017]]\n",
      "5 day input [1.45771597 1.47083323 1.42685177 1.4458333  1.39660487 1.44629624\n",
      " 1.41265427 1.40370362 1.38904318 1.38271595 1.37160483 1.36496903\n",
      " 1.36527773 1.3850308  1.40138879 1.42746907 1.43904314 1.43364194\n",
      " 1.42206787 1.40370362 1.407716   1.42962955 1.41697524 1.4367283\n",
      " 1.40632705 1.3932098  1.38888882 1.3708333  1.39598757 1.42793202\n",
      " 1.43749996 1.42160492 1.43287027 1.41435182 1.40200608 1.43950609\n",
      " 1.46481472 1.48070976 1.43842584 1.4373456  1.45864186 1.4612654\n",
      " 1.51064806 1.49228384 1.49290113 1.49645056 1.48827157 1.46280859\n",
      " 1.47484561 1.46481472 1.45679009 1.46512342 1.48209871 1.48425919\n",
      " 1.50030859 1.47916657 1.49984564 1.49506161 1.51234561 1.50540121\n",
      " 1.52037025 1.53225303 1.52978383 1.54922831 1.54907396 1.5435184\n",
      " 1.5819444  1.6030863  1.58688267 1.6118826  1.62021594 1.63888877\n",
      " 1.62962952 1.5794752  1.59722215 1.60231477 1.58564807 1.58719125\n",
      " 1.58904315 1.58641973 1.56898138 1.60200607 1.60709868 1.60123452\n",
      " 1.62114195 1.62407397 1.62685175 1.6276234  1.62669752 1.628858\n",
      " 1.62515421 1.63966042 1.62623445 1.61959864 1.61898147 1.55494356\n",
      " 1.51589119 1.48228049 1.45484483 1.43240166]\n",
      "5 day output [[1.4139764]]\n",
      "6 day input [1.47083323 1.42685177 1.4458333  1.39660487 1.44629624 1.41265427\n",
      " 1.40370362 1.38904318 1.38271595 1.37160483 1.36496903 1.36527773\n",
      " 1.3850308  1.40138879 1.42746907 1.43904314 1.43364194 1.42206787\n",
      " 1.40370362 1.407716   1.42962955 1.41697524 1.4367283  1.40632705\n",
      " 1.3932098  1.38888882 1.3708333  1.39598757 1.42793202 1.43749996\n",
      " 1.42160492 1.43287027 1.41435182 1.40200608 1.43950609 1.46481472\n",
      " 1.48070976 1.43842584 1.4373456  1.45864186 1.4612654  1.51064806\n",
      " 1.49228384 1.49290113 1.49645056 1.48827157 1.46280859 1.47484561\n",
      " 1.46481472 1.45679009 1.46512342 1.48209871 1.48425919 1.50030859\n",
      " 1.47916657 1.49984564 1.49506161 1.51234561 1.50540121 1.52037025\n",
      " 1.53225303 1.52978383 1.54922831 1.54907396 1.5435184  1.5819444\n",
      " 1.6030863  1.58688267 1.6118826  1.62021594 1.63888877 1.62962952\n",
      " 1.5794752  1.59722215 1.60231477 1.58564807 1.58719125 1.58904315\n",
      " 1.58641973 1.56898138 1.60200607 1.60709868 1.60123452 1.62114195\n",
      " 1.62407397 1.62685175 1.6276234  1.62669752 1.628858   1.62515421\n",
      " 1.63966042 1.62623445 1.61959864 1.61898147 1.55494356 1.51589119\n",
      " 1.48228049 1.45484483 1.43240166 1.41397643]\n",
      "6 day output [[1.3987484]]\n",
      "7 day input [1.42685177 1.4458333  1.39660487 1.44629624 1.41265427 1.40370362\n",
      " 1.38904318 1.38271595 1.37160483 1.36496903 1.36527773 1.3850308\n",
      " 1.40138879 1.42746907 1.43904314 1.43364194 1.42206787 1.40370362\n",
      " 1.407716   1.42962955 1.41697524 1.4367283  1.40632705 1.3932098\n",
      " 1.38888882 1.3708333  1.39598757 1.42793202 1.43749996 1.42160492\n",
      " 1.43287027 1.41435182 1.40200608 1.43950609 1.46481472 1.48070976\n",
      " 1.43842584 1.4373456  1.45864186 1.4612654  1.51064806 1.49228384\n",
      " 1.49290113 1.49645056 1.48827157 1.46280859 1.47484561 1.46481472\n",
      " 1.45679009 1.46512342 1.48209871 1.48425919 1.50030859 1.47916657\n",
      " 1.49984564 1.49506161 1.51234561 1.50540121 1.52037025 1.53225303\n",
      " 1.52978383 1.54922831 1.54907396 1.5435184  1.5819444  1.6030863\n",
      " 1.58688267 1.6118826  1.62021594 1.63888877 1.62962952 1.5794752\n",
      " 1.59722215 1.60231477 1.58564807 1.58719125 1.58904315 1.58641973\n",
      " 1.56898138 1.60200607 1.60709868 1.60123452 1.62114195 1.62407397\n",
      " 1.62685175 1.6276234  1.62669752 1.628858   1.62515421 1.63966042\n",
      " 1.62623445 1.61959864 1.61898147 1.55494356 1.51589119 1.48228049\n",
      " 1.45484483 1.43240166 1.41397643 1.3987484 ]\n",
      "7 day output [[1.3859981]]\n",
      "8 day input [1.4458333  1.39660487 1.44629624 1.41265427 1.40370362 1.38904318\n",
      " 1.38271595 1.37160483 1.36496903 1.36527773 1.3850308  1.40138879\n",
      " 1.42746907 1.43904314 1.43364194 1.42206787 1.40370362 1.407716\n",
      " 1.42962955 1.41697524 1.4367283  1.40632705 1.3932098  1.38888882\n",
      " 1.3708333  1.39598757 1.42793202 1.43749996 1.42160492 1.43287027\n",
      " 1.41435182 1.40200608 1.43950609 1.46481472 1.48070976 1.43842584\n",
      " 1.4373456  1.45864186 1.4612654  1.51064806 1.49228384 1.49290113\n",
      " 1.49645056 1.48827157 1.46280859 1.47484561 1.46481472 1.45679009\n",
      " 1.46512342 1.48209871 1.48425919 1.50030859 1.47916657 1.49984564\n",
      " 1.49506161 1.51234561 1.50540121 1.52037025 1.53225303 1.52978383\n",
      " 1.54922831 1.54907396 1.5435184  1.5819444  1.6030863  1.58688267\n",
      " 1.6118826  1.62021594 1.63888877 1.62962952 1.5794752  1.59722215\n",
      " 1.60231477 1.58564807 1.58719125 1.58904315 1.58641973 1.56898138\n",
      " 1.60200607 1.60709868 1.60123452 1.62114195 1.62407397 1.62685175\n",
      " 1.6276234  1.62669752 1.628858   1.62515421 1.63966042 1.62623445\n",
      " 1.61959864 1.61898147 1.55494356 1.51589119 1.48228049 1.45484483\n",
      " 1.43240166 1.41397643 1.3987484  1.38599813]\n",
      "8 day output [[1.3751067]]\n",
      "9 day input [1.39660487 1.44629624 1.41265427 1.40370362 1.38904318 1.38271595\n",
      " 1.37160483 1.36496903 1.36527773 1.3850308  1.40138879 1.42746907\n",
      " 1.43904314 1.43364194 1.42206787 1.40370362 1.407716   1.42962955\n",
      " 1.41697524 1.4367283  1.40632705 1.3932098  1.38888882 1.3708333\n",
      " 1.39598757 1.42793202 1.43749996 1.42160492 1.43287027 1.41435182\n",
      " 1.40200608 1.43950609 1.46481472 1.48070976 1.43842584 1.4373456\n",
      " 1.45864186 1.4612654  1.51064806 1.49228384 1.49290113 1.49645056\n",
      " 1.48827157 1.46280859 1.47484561 1.46481472 1.45679009 1.46512342\n",
      " 1.48209871 1.48425919 1.50030859 1.47916657 1.49984564 1.49506161\n",
      " 1.51234561 1.50540121 1.52037025 1.53225303 1.52978383 1.54922831\n",
      " 1.54907396 1.5435184  1.5819444  1.6030863  1.58688267 1.6118826\n",
      " 1.62021594 1.63888877 1.62962952 1.5794752  1.59722215 1.60231477\n",
      " 1.58564807 1.58719125 1.58904315 1.58641973 1.56898138 1.60200607\n",
      " 1.60709868 1.60123452 1.62114195 1.62407397 1.62685175 1.6276234\n",
      " 1.62669752 1.628858   1.62515421 1.63966042 1.62623445 1.61959864\n",
      " 1.61898147 1.55494356 1.51589119 1.48228049 1.45484483 1.43240166\n",
      " 1.41397643 1.3987484  1.38599813 1.37510669]\n",
      "9 day output [[1.3655611]]\n",
      "10 day input [1.44629624 1.41265427 1.40370362 1.38904318 1.38271595 1.37160483\n",
      " 1.36496903 1.36527773 1.3850308  1.40138879 1.42746907 1.43904314\n",
      " 1.43364194 1.42206787 1.40370362 1.407716   1.42962955 1.41697524\n",
      " 1.4367283  1.40632705 1.3932098  1.38888882 1.3708333  1.39598757\n",
      " 1.42793202 1.43749996 1.42160492 1.43287027 1.41435182 1.40200608\n",
      " 1.43950609 1.46481472 1.48070976 1.43842584 1.4373456  1.45864186\n",
      " 1.4612654  1.51064806 1.49228384 1.49290113 1.49645056 1.48827157\n",
      " 1.46280859 1.47484561 1.46481472 1.45679009 1.46512342 1.48209871\n",
      " 1.48425919 1.50030859 1.47916657 1.49984564 1.49506161 1.51234561\n",
      " 1.50540121 1.52037025 1.53225303 1.52978383 1.54922831 1.54907396\n",
      " 1.5435184  1.5819444  1.6030863  1.58688267 1.6118826  1.62021594\n",
      " 1.63888877 1.62962952 1.5794752  1.59722215 1.60231477 1.58564807\n",
      " 1.58719125 1.58904315 1.58641973 1.56898138 1.60200607 1.60709868\n",
      " 1.60123452 1.62114195 1.62407397 1.62685175 1.6276234  1.62669752\n",
      " 1.628858   1.62515421 1.63966042 1.62623445 1.61959864 1.61898147\n",
      " 1.55494356 1.51589119 1.48228049 1.45484483 1.43240166 1.41397643\n",
      " 1.3987484  1.38599813 1.37510669 1.36556113]\n"
     ]
    },
    {
     "name": "stdout",
     "output_type": "stream",
     "text": [
      "10 day output [[1.356954]]\n",
      "11 day input [1.41265427 1.40370362 1.38904318 1.38271595 1.37160483 1.36496903\n",
      " 1.36527773 1.3850308  1.40138879 1.42746907 1.43904314 1.43364194\n",
      " 1.42206787 1.40370362 1.407716   1.42962955 1.41697524 1.4367283\n",
      " 1.40632705 1.3932098  1.38888882 1.3708333  1.39598757 1.42793202\n",
      " 1.43749996 1.42160492 1.43287027 1.41435182 1.40200608 1.43950609\n",
      " 1.46481472 1.48070976 1.43842584 1.4373456  1.45864186 1.4612654\n",
      " 1.51064806 1.49228384 1.49290113 1.49645056 1.48827157 1.46280859\n",
      " 1.47484561 1.46481472 1.45679009 1.46512342 1.48209871 1.48425919\n",
      " 1.50030859 1.47916657 1.49984564 1.49506161 1.51234561 1.50540121\n",
      " 1.52037025 1.53225303 1.52978383 1.54922831 1.54907396 1.5435184\n",
      " 1.5819444  1.6030863  1.58688267 1.6118826  1.62021594 1.63888877\n",
      " 1.62962952 1.5794752  1.59722215 1.60231477 1.58564807 1.58719125\n",
      " 1.58904315 1.58641973 1.56898138 1.60200607 1.60709868 1.60123452\n",
      " 1.62114195 1.62407397 1.62685175 1.6276234  1.62669752 1.628858\n",
      " 1.62515421 1.63966042 1.62623445 1.61959864 1.61898147 1.55494356\n",
      " 1.51589119 1.48228049 1.45484483 1.43240166 1.41397643 1.3987484\n",
      " 1.38599813 1.37510669 1.36556113 1.35695398]\n",
      "11 day output [[1.3489783]]\n",
      "12 day input [1.40370362 1.38904318 1.38271595 1.37160483 1.36496903 1.36527773\n",
      " 1.3850308  1.40138879 1.42746907 1.43904314 1.43364194 1.42206787\n",
      " 1.40370362 1.407716   1.42962955 1.41697524 1.4367283  1.40632705\n",
      " 1.3932098  1.38888882 1.3708333  1.39598757 1.42793202 1.43749996\n",
      " 1.42160492 1.43287027 1.41435182 1.40200608 1.43950609 1.46481472\n",
      " 1.48070976 1.43842584 1.4373456  1.45864186 1.4612654  1.51064806\n",
      " 1.49228384 1.49290113 1.49645056 1.48827157 1.46280859 1.47484561\n",
      " 1.46481472 1.45679009 1.46512342 1.48209871 1.48425919 1.50030859\n",
      " 1.47916657 1.49984564 1.49506161 1.51234561 1.50540121 1.52037025\n",
      " 1.53225303 1.52978383 1.54922831 1.54907396 1.5435184  1.5819444\n",
      " 1.6030863  1.58688267 1.6118826  1.62021594 1.63888877 1.62962952\n",
      " 1.5794752  1.59722215 1.60231477 1.58564807 1.58719125 1.58904315\n",
      " 1.58641973 1.56898138 1.60200607 1.60709868 1.60123452 1.62114195\n",
      " 1.62407397 1.62685175 1.6276234  1.62669752 1.628858   1.62515421\n",
      " 1.63966042 1.62623445 1.61959864 1.61898147 1.55494356 1.51589119\n",
      " 1.48228049 1.45484483 1.43240166 1.41397643 1.3987484  1.38599813\n",
      " 1.37510669 1.36556113 1.35695398 1.34897828]\n",
      "12 day output [[1.3414153]]\n",
      "13 day input [1.38904318 1.38271595 1.37160483 1.36496903 1.36527773 1.3850308\n",
      " 1.40138879 1.42746907 1.43904314 1.43364194 1.42206787 1.40370362\n",
      " 1.407716   1.42962955 1.41697524 1.4367283  1.40632705 1.3932098\n",
      " 1.38888882 1.3708333  1.39598757 1.42793202 1.43749996 1.42160492\n",
      " 1.43287027 1.41435182 1.40200608 1.43950609 1.46481472 1.48070976\n",
      " 1.43842584 1.4373456  1.45864186 1.4612654  1.51064806 1.49228384\n",
      " 1.49290113 1.49645056 1.48827157 1.46280859 1.47484561 1.46481472\n",
      " 1.45679009 1.46512342 1.48209871 1.48425919 1.50030859 1.47916657\n",
      " 1.49984564 1.49506161 1.51234561 1.50540121 1.52037025 1.53225303\n",
      " 1.52978383 1.54922831 1.54907396 1.5435184  1.5819444  1.6030863\n",
      " 1.58688267 1.6118826  1.62021594 1.63888877 1.62962952 1.5794752\n",
      " 1.59722215 1.60231477 1.58564807 1.58719125 1.58904315 1.58641973\n",
      " 1.56898138 1.60200607 1.60709868 1.60123452 1.62114195 1.62407397\n",
      " 1.62685175 1.6276234  1.62669752 1.628858   1.62515421 1.63966042\n",
      " 1.62623445 1.61959864 1.61898147 1.55494356 1.51589119 1.48228049\n",
      " 1.45484483 1.43240166 1.41397643 1.3987484  1.38599813 1.37510669\n",
      " 1.36556113 1.35695398 1.34897828 1.34141529]\n",
      "13 day output [[1.3341196]]\n",
      "14 day input [1.38271595 1.37160483 1.36496903 1.36527773 1.3850308  1.40138879\n",
      " 1.42746907 1.43904314 1.43364194 1.42206787 1.40370362 1.407716\n",
      " 1.42962955 1.41697524 1.4367283  1.40632705 1.3932098  1.38888882\n",
      " 1.3708333  1.39598757 1.42793202 1.43749996 1.42160492 1.43287027\n",
      " 1.41435182 1.40200608 1.43950609 1.46481472 1.48070976 1.43842584\n",
      " 1.4373456  1.45864186 1.4612654  1.51064806 1.49228384 1.49290113\n",
      " 1.49645056 1.48827157 1.46280859 1.47484561 1.46481472 1.45679009\n",
      " 1.46512342 1.48209871 1.48425919 1.50030859 1.47916657 1.49984564\n",
      " 1.49506161 1.51234561 1.50540121 1.52037025 1.53225303 1.52978383\n",
      " 1.54922831 1.54907396 1.5435184  1.5819444  1.6030863  1.58688267\n",
      " 1.6118826  1.62021594 1.63888877 1.62962952 1.5794752  1.59722215\n",
      " 1.60231477 1.58564807 1.58719125 1.58904315 1.58641973 1.56898138\n",
      " 1.60200607 1.60709868 1.60123452 1.62114195 1.62407397 1.62685175\n",
      " 1.6276234  1.62669752 1.628858   1.62515421 1.63966042 1.62623445\n",
      " 1.61959864 1.61898147 1.55494356 1.51589119 1.48228049 1.45484483\n",
      " 1.43240166 1.41397643 1.3987484  1.38599813 1.37510669 1.36556113\n",
      " 1.35695398 1.34897828 1.34141529 1.33411956]\n",
      "14 day output [[1.3270034]]\n",
      "15 day input [1.37160483 1.36496903 1.36527773 1.3850308  1.40138879 1.42746907\n",
      " 1.43904314 1.43364194 1.42206787 1.40370362 1.407716   1.42962955\n",
      " 1.41697524 1.4367283  1.40632705 1.3932098  1.38888882 1.3708333\n",
      " 1.39598757 1.42793202 1.43749996 1.42160492 1.43287027 1.41435182\n",
      " 1.40200608 1.43950609 1.46481472 1.48070976 1.43842584 1.4373456\n",
      " 1.45864186 1.4612654  1.51064806 1.49228384 1.49290113 1.49645056\n",
      " 1.48827157 1.46280859 1.47484561 1.46481472 1.45679009 1.46512342\n",
      " 1.48209871 1.48425919 1.50030859 1.47916657 1.49984564 1.49506161\n",
      " 1.51234561 1.50540121 1.52037025 1.53225303 1.52978383 1.54922831\n",
      " 1.54907396 1.5435184  1.5819444  1.6030863  1.58688267 1.6118826\n",
      " 1.62021594 1.63888877 1.62962952 1.5794752  1.59722215 1.60231477\n",
      " 1.58564807 1.58719125 1.58904315 1.58641973 1.56898138 1.60200607\n",
      " 1.60709868 1.60123452 1.62114195 1.62407397 1.62685175 1.6276234\n",
      " 1.62669752 1.628858   1.62515421 1.63966042 1.62623445 1.61959864\n",
      " 1.61898147 1.55494356 1.51589119 1.48228049 1.45484483 1.43240166\n",
      " 1.41397643 1.3987484  1.38599813 1.37510669 1.36556113 1.35695398\n",
      " 1.34897828 1.34141529 1.33411956 1.32700336]\n",
      "15 day output [[1.3200213]]\n",
      "16 day input [1.36496903 1.36527773 1.3850308  1.40138879 1.42746907 1.43904314\n",
      " 1.43364194 1.42206787 1.40370362 1.407716   1.42962955 1.41697524\n",
      " 1.4367283  1.40632705 1.3932098  1.38888882 1.3708333  1.39598757\n",
      " 1.42793202 1.43749996 1.42160492 1.43287027 1.41435182 1.40200608\n",
      " 1.43950609 1.46481472 1.48070976 1.43842584 1.4373456  1.45864186\n",
      " 1.4612654  1.51064806 1.49228384 1.49290113 1.49645056 1.48827157\n",
      " 1.46280859 1.47484561 1.46481472 1.45679009 1.46512342 1.48209871\n",
      " 1.48425919 1.50030859 1.47916657 1.49984564 1.49506161 1.51234561\n",
      " 1.50540121 1.52037025 1.53225303 1.52978383 1.54922831 1.54907396\n",
      " 1.5435184  1.5819444  1.6030863  1.58688267 1.6118826  1.62021594\n",
      " 1.63888877 1.62962952 1.5794752  1.59722215 1.60231477 1.58564807\n",
      " 1.58719125 1.58904315 1.58641973 1.56898138 1.60200607 1.60709868\n",
      " 1.60123452 1.62114195 1.62407397 1.62685175 1.6276234  1.62669752\n",
      " 1.628858   1.62515421 1.63966042 1.62623445 1.61959864 1.61898147\n",
      " 1.55494356 1.51589119 1.48228049 1.45484483 1.43240166 1.41397643\n",
      " 1.3987484  1.38599813 1.37510669 1.36556113 1.35695398 1.34897828\n",
      " 1.34141529 1.33411956 1.32700336 1.32002127]\n",
      "16 day output [[1.3131576]]\n",
      "17 day input [1.36527773 1.3850308  1.40138879 1.42746907 1.43904314 1.43364194\n",
      " 1.42206787 1.40370362 1.407716   1.42962955 1.41697524 1.4367283\n",
      " 1.40632705 1.3932098  1.38888882 1.3708333  1.39598757 1.42793202\n",
      " 1.43749996 1.42160492 1.43287027 1.41435182 1.40200608 1.43950609\n",
      " 1.46481472 1.48070976 1.43842584 1.4373456  1.45864186 1.4612654\n",
      " 1.51064806 1.49228384 1.49290113 1.49645056 1.48827157 1.46280859\n",
      " 1.47484561 1.46481472 1.45679009 1.46512342 1.48209871 1.48425919\n",
      " 1.50030859 1.47916657 1.49984564 1.49506161 1.51234561 1.50540121\n",
      " 1.52037025 1.53225303 1.52978383 1.54922831 1.54907396 1.5435184\n",
      " 1.5819444  1.6030863  1.58688267 1.6118826  1.62021594 1.63888877\n",
      " 1.62962952 1.5794752  1.59722215 1.60231477 1.58564807 1.58719125\n",
      " 1.58904315 1.58641973 1.56898138 1.60200607 1.60709868 1.60123452\n",
      " 1.62114195 1.62407397 1.62685175 1.6276234  1.62669752 1.628858\n",
      " 1.62515421 1.63966042 1.62623445 1.61959864 1.61898147 1.55494356\n",
      " 1.51589119 1.48228049 1.45484483 1.43240166 1.41397643 1.3987484\n",
      " 1.38599813 1.37510669 1.36556113 1.35695398 1.34897828 1.34141529\n",
      " 1.33411956 1.32700336 1.32002127 1.31315756]\n",
      "17 day output [[1.3064145]]\n",
      "18 day input [1.3850308  1.40138879 1.42746907 1.43904314 1.43364194 1.42206787\n",
      " 1.40370362 1.407716   1.42962955 1.41697524 1.4367283  1.40632705\n",
      " 1.3932098  1.38888882 1.3708333  1.39598757 1.42793202 1.43749996\n",
      " 1.42160492 1.43287027 1.41435182 1.40200608 1.43950609 1.46481472\n",
      " 1.48070976 1.43842584 1.4373456  1.45864186 1.4612654  1.51064806\n",
      " 1.49228384 1.49290113 1.49645056 1.48827157 1.46280859 1.47484561\n",
      " 1.46481472 1.45679009 1.46512342 1.48209871 1.48425919 1.50030859\n",
      " 1.47916657 1.49984564 1.49506161 1.51234561 1.50540121 1.52037025\n",
      " 1.53225303 1.52978383 1.54922831 1.54907396 1.5435184  1.5819444\n",
      " 1.6030863  1.58688267 1.6118826  1.62021594 1.63888877 1.62962952\n",
      " 1.5794752  1.59722215 1.60231477 1.58564807 1.58719125 1.58904315\n",
      " 1.58641973 1.56898138 1.60200607 1.60709868 1.60123452 1.62114195\n",
      " 1.62407397 1.62685175 1.6276234  1.62669752 1.628858   1.62515421\n",
      " 1.63966042 1.62623445 1.61959864 1.61898147 1.55494356 1.51589119\n",
      " 1.48228049 1.45484483 1.43240166 1.41397643 1.3987484  1.38599813\n",
      " 1.37510669 1.36556113 1.35695398 1.34897828 1.34141529 1.33411956\n",
      " 1.32700336 1.32002127 1.31315756 1.30641448]\n",
      "18 day output [[1.2998044]]\n",
      "19 day input [1.40138879 1.42746907 1.43904314 1.43364194 1.42206787 1.40370362\n",
      " 1.407716   1.42962955 1.41697524 1.4367283  1.40632705 1.3932098\n",
      " 1.38888882 1.3708333  1.39598757 1.42793202 1.43749996 1.42160492\n",
      " 1.43287027 1.41435182 1.40200608 1.43950609 1.46481472 1.48070976\n",
      " 1.43842584 1.4373456  1.45864186 1.4612654  1.51064806 1.49228384\n",
      " 1.49290113 1.49645056 1.48827157 1.46280859 1.47484561 1.46481472\n",
      " 1.45679009 1.46512342 1.48209871 1.48425919 1.50030859 1.47916657\n",
      " 1.49984564 1.49506161 1.51234561 1.50540121 1.52037025 1.53225303\n",
      " 1.52978383 1.54922831 1.54907396 1.5435184  1.5819444  1.6030863\n",
      " 1.58688267 1.6118826  1.62021594 1.63888877 1.62962952 1.5794752\n",
      " 1.59722215 1.60231477 1.58564807 1.58719125 1.58904315 1.58641973\n",
      " 1.56898138 1.60200607 1.60709868 1.60123452 1.62114195 1.62407397\n",
      " 1.62685175 1.6276234  1.62669752 1.628858   1.62515421 1.63966042\n",
      " 1.62623445 1.61959864 1.61898147 1.55494356 1.51589119 1.48228049\n",
      " 1.45484483 1.43240166 1.41397643 1.3987484  1.38599813 1.37510669\n",
      " 1.36556113 1.35695398 1.34897828 1.34141529 1.33411956 1.32700336\n",
      " 1.32002127 1.31315756 1.30641448 1.29980445]\n",
      "19 day output [[1.2933444]]\n",
      "20 day input [1.42746907 1.43904314 1.43364194 1.42206787 1.40370362 1.407716\n",
      " 1.42962955 1.41697524 1.4367283  1.40632705 1.3932098  1.38888882\n",
      " 1.3708333  1.39598757 1.42793202 1.43749996 1.42160492 1.43287027\n",
      " 1.41435182 1.40200608 1.43950609 1.46481472 1.48070976 1.43842584\n",
      " 1.4373456  1.45864186 1.4612654  1.51064806 1.49228384 1.49290113\n",
      " 1.49645056 1.48827157 1.46280859 1.47484561 1.46481472 1.45679009\n",
      " 1.46512342 1.48209871 1.48425919 1.50030859 1.47916657 1.49984564\n",
      " 1.49506161 1.51234561 1.50540121 1.52037025 1.53225303 1.52978383\n",
      " 1.54922831 1.54907396 1.5435184  1.5819444  1.6030863  1.58688267\n",
      " 1.6118826  1.62021594 1.63888877 1.62962952 1.5794752  1.59722215\n",
      " 1.60231477 1.58564807 1.58719125 1.58904315 1.58641973 1.56898138\n",
      " 1.60200607 1.60709868 1.60123452 1.62114195 1.62407397 1.62685175\n",
      " 1.6276234  1.62669752 1.628858   1.62515421 1.63966042 1.62623445\n",
      " 1.61959864 1.61898147 1.55494356 1.51589119 1.48228049 1.45484483\n",
      " 1.43240166 1.41397643 1.3987484  1.38599813 1.37510669 1.36556113\n",
      " 1.35695398 1.34897828 1.34141529 1.33411956 1.32700336 1.32002127\n",
      " 1.31315756 1.30641448 1.29980445 1.29334438]\n"
     ]
    },
    {
     "name": "stdout",
     "output_type": "stream",
     "text": [
      "20 day output [[1.2870512]]\n",
      "21 day input [1.43904314 1.43364194 1.42206787 1.40370362 1.407716   1.42962955\n",
      " 1.41697524 1.4367283  1.40632705 1.3932098  1.38888882 1.3708333\n",
      " 1.39598757 1.42793202 1.43749996 1.42160492 1.43287027 1.41435182\n",
      " 1.40200608 1.43950609 1.46481472 1.48070976 1.43842584 1.4373456\n",
      " 1.45864186 1.4612654  1.51064806 1.49228384 1.49290113 1.49645056\n",
      " 1.48827157 1.46280859 1.47484561 1.46481472 1.45679009 1.46512342\n",
      " 1.48209871 1.48425919 1.50030859 1.47916657 1.49984564 1.49506161\n",
      " 1.51234561 1.50540121 1.52037025 1.53225303 1.52978383 1.54922831\n",
      " 1.54907396 1.5435184  1.5819444  1.6030863  1.58688267 1.6118826\n",
      " 1.62021594 1.63888877 1.62962952 1.5794752  1.59722215 1.60231477\n",
      " 1.58564807 1.58719125 1.58904315 1.58641973 1.56898138 1.60200607\n",
      " 1.60709868 1.60123452 1.62114195 1.62407397 1.62685175 1.6276234\n",
      " 1.62669752 1.628858   1.62515421 1.63966042 1.62623445 1.61959864\n",
      " 1.61898147 1.55494356 1.51589119 1.48228049 1.45484483 1.43240166\n",
      " 1.41397643 1.3987484  1.38599813 1.37510669 1.36556113 1.35695398\n",
      " 1.34897828 1.34141529 1.33411956 1.32700336 1.32002127 1.31315756\n",
      " 1.30641448 1.29980445 1.29334438 1.2870512 ]\n",
      "21 day output [[1.2809395]]\n",
      "22 day input [1.43364194 1.42206787 1.40370362 1.407716   1.42962955 1.41697524\n",
      " 1.4367283  1.40632705 1.3932098  1.38888882 1.3708333  1.39598757\n",
      " 1.42793202 1.43749996 1.42160492 1.43287027 1.41435182 1.40200608\n",
      " 1.43950609 1.46481472 1.48070976 1.43842584 1.4373456  1.45864186\n",
      " 1.4612654  1.51064806 1.49228384 1.49290113 1.49645056 1.48827157\n",
      " 1.46280859 1.47484561 1.46481472 1.45679009 1.46512342 1.48209871\n",
      " 1.48425919 1.50030859 1.47916657 1.49984564 1.49506161 1.51234561\n",
      " 1.50540121 1.52037025 1.53225303 1.52978383 1.54922831 1.54907396\n",
      " 1.5435184  1.5819444  1.6030863  1.58688267 1.6118826  1.62021594\n",
      " 1.63888877 1.62962952 1.5794752  1.59722215 1.60231477 1.58564807\n",
      " 1.58719125 1.58904315 1.58641973 1.56898138 1.60200607 1.60709868\n",
      " 1.60123452 1.62114195 1.62407397 1.62685175 1.6276234  1.62669752\n",
      " 1.628858   1.62515421 1.63966042 1.62623445 1.61959864 1.61898147\n",
      " 1.55494356 1.51589119 1.48228049 1.45484483 1.43240166 1.41397643\n",
      " 1.3987484  1.38599813 1.37510669 1.36556113 1.35695398 1.34897828\n",
      " 1.34141529 1.33411956 1.32700336 1.32002127 1.31315756 1.30641448\n",
      " 1.29980445 1.29334438 1.2870512  1.28093946]\n",
      "22 day output [[1.2750196]]\n",
      "23 day input [1.42206787 1.40370362 1.407716   1.42962955 1.41697524 1.4367283\n",
      " 1.40632705 1.3932098  1.38888882 1.3708333  1.39598757 1.42793202\n",
      " 1.43749996 1.42160492 1.43287027 1.41435182 1.40200608 1.43950609\n",
      " 1.46481472 1.48070976 1.43842584 1.4373456  1.45864186 1.4612654\n",
      " 1.51064806 1.49228384 1.49290113 1.49645056 1.48827157 1.46280859\n",
      " 1.47484561 1.46481472 1.45679009 1.46512342 1.48209871 1.48425919\n",
      " 1.50030859 1.47916657 1.49984564 1.49506161 1.51234561 1.50540121\n",
      " 1.52037025 1.53225303 1.52978383 1.54922831 1.54907396 1.5435184\n",
      " 1.5819444  1.6030863  1.58688267 1.6118826  1.62021594 1.63888877\n",
      " 1.62962952 1.5794752  1.59722215 1.60231477 1.58564807 1.58719125\n",
      " 1.58904315 1.58641973 1.56898138 1.60200607 1.60709868 1.60123452\n",
      " 1.62114195 1.62407397 1.62685175 1.6276234  1.62669752 1.628858\n",
      " 1.62515421 1.63966042 1.62623445 1.61959864 1.61898147 1.55494356\n",
      " 1.51589119 1.48228049 1.45484483 1.43240166 1.41397643 1.3987484\n",
      " 1.38599813 1.37510669 1.36556113 1.35695398 1.34897828 1.34141529\n",
      " 1.33411956 1.32700336 1.32002127 1.31315756 1.30641448 1.29980445\n",
      " 1.29334438 1.2870512  1.28093946 1.27501965]\n",
      "23 day output [[1.2692987]]\n",
      "24 day input [1.40370362 1.407716   1.42962955 1.41697524 1.4367283  1.40632705\n",
      " 1.3932098  1.38888882 1.3708333  1.39598757 1.42793202 1.43749996\n",
      " 1.42160492 1.43287027 1.41435182 1.40200608 1.43950609 1.46481472\n",
      " 1.48070976 1.43842584 1.4373456  1.45864186 1.4612654  1.51064806\n",
      " 1.49228384 1.49290113 1.49645056 1.48827157 1.46280859 1.47484561\n",
      " 1.46481472 1.45679009 1.46512342 1.48209871 1.48425919 1.50030859\n",
      " 1.47916657 1.49984564 1.49506161 1.51234561 1.50540121 1.52037025\n",
      " 1.53225303 1.52978383 1.54922831 1.54907396 1.5435184  1.5819444\n",
      " 1.6030863  1.58688267 1.6118826  1.62021594 1.63888877 1.62962952\n",
      " 1.5794752  1.59722215 1.60231477 1.58564807 1.58719125 1.58904315\n",
      " 1.58641973 1.56898138 1.60200607 1.60709868 1.60123452 1.62114195\n",
      " 1.62407397 1.62685175 1.6276234  1.62669752 1.628858   1.62515421\n",
      " 1.63966042 1.62623445 1.61959864 1.61898147 1.55494356 1.51589119\n",
      " 1.48228049 1.45484483 1.43240166 1.41397643 1.3987484  1.38599813\n",
      " 1.37510669 1.36556113 1.35695398 1.34897828 1.34141529 1.33411956\n",
      " 1.32700336 1.32002127 1.31315756 1.30641448 1.29980445 1.29334438\n",
      " 1.2870512  1.28093946 1.27501965 1.26929867]\n",
      "24 day output [[1.2637795]]\n",
      "25 day input [1.407716   1.42962955 1.41697524 1.4367283  1.40632705 1.3932098\n",
      " 1.38888882 1.3708333  1.39598757 1.42793202 1.43749996 1.42160492\n",
      " 1.43287027 1.41435182 1.40200608 1.43950609 1.46481472 1.48070976\n",
      " 1.43842584 1.4373456  1.45864186 1.4612654  1.51064806 1.49228384\n",
      " 1.49290113 1.49645056 1.48827157 1.46280859 1.47484561 1.46481472\n",
      " 1.45679009 1.46512342 1.48209871 1.48425919 1.50030859 1.47916657\n",
      " 1.49984564 1.49506161 1.51234561 1.50540121 1.52037025 1.53225303\n",
      " 1.52978383 1.54922831 1.54907396 1.5435184  1.5819444  1.6030863\n",
      " 1.58688267 1.6118826  1.62021594 1.63888877 1.62962952 1.5794752\n",
      " 1.59722215 1.60231477 1.58564807 1.58719125 1.58904315 1.58641973\n",
      " 1.56898138 1.60200607 1.60709868 1.60123452 1.62114195 1.62407397\n",
      " 1.62685175 1.6276234  1.62669752 1.628858   1.62515421 1.63966042\n",
      " 1.62623445 1.61959864 1.61898147 1.55494356 1.51589119 1.48228049\n",
      " 1.45484483 1.43240166 1.41397643 1.3987484  1.38599813 1.37510669\n",
      " 1.36556113 1.35695398 1.34897828 1.34141529 1.33411956 1.32700336\n",
      " 1.32002127 1.31315756 1.30641448 1.29980445 1.29334438 1.2870512\n",
      " 1.28093946 1.27501965 1.26929867 1.26377952]\n",
      "25 day output [[1.2584617]]\n",
      "26 day input [1.42962955 1.41697524 1.4367283  1.40632705 1.3932098  1.38888882\n",
      " 1.3708333  1.39598757 1.42793202 1.43749996 1.42160492 1.43287027\n",
      " 1.41435182 1.40200608 1.43950609 1.46481472 1.48070976 1.43842584\n",
      " 1.4373456  1.45864186 1.4612654  1.51064806 1.49228384 1.49290113\n",
      " 1.49645056 1.48827157 1.46280859 1.47484561 1.46481472 1.45679009\n",
      " 1.46512342 1.48209871 1.48425919 1.50030859 1.47916657 1.49984564\n",
      " 1.49506161 1.51234561 1.50540121 1.52037025 1.53225303 1.52978383\n",
      " 1.54922831 1.54907396 1.5435184  1.5819444  1.6030863  1.58688267\n",
      " 1.6118826  1.62021594 1.63888877 1.62962952 1.5794752  1.59722215\n",
      " 1.60231477 1.58564807 1.58719125 1.58904315 1.58641973 1.56898138\n",
      " 1.60200607 1.60709868 1.60123452 1.62114195 1.62407397 1.62685175\n",
      " 1.6276234  1.62669752 1.628858   1.62515421 1.63966042 1.62623445\n",
      " 1.61959864 1.61898147 1.55494356 1.51589119 1.48228049 1.45484483\n",
      " 1.43240166 1.41397643 1.3987484  1.38599813 1.37510669 1.36556113\n",
      " 1.35695398 1.34897828 1.34141529 1.33411956 1.32700336 1.32002127\n",
      " 1.31315756 1.30641448 1.29980445 1.29334438 1.2870512  1.28093946\n",
      " 1.27501965 1.26929867 1.26377952 1.25846171]\n",
      "26 day output [[1.2533419]]\n",
      "27 day input [1.41697524 1.4367283  1.40632705 1.3932098  1.38888882 1.3708333\n",
      " 1.39598757 1.42793202 1.43749996 1.42160492 1.43287027 1.41435182\n",
      " 1.40200608 1.43950609 1.46481472 1.48070976 1.43842584 1.4373456\n",
      " 1.45864186 1.4612654  1.51064806 1.49228384 1.49290113 1.49645056\n",
      " 1.48827157 1.46280859 1.47484561 1.46481472 1.45679009 1.46512342\n",
      " 1.48209871 1.48425919 1.50030859 1.47916657 1.49984564 1.49506161\n",
      " 1.51234561 1.50540121 1.52037025 1.53225303 1.52978383 1.54922831\n",
      " 1.54907396 1.5435184  1.5819444  1.6030863  1.58688267 1.6118826\n",
      " 1.62021594 1.63888877 1.62962952 1.5794752  1.59722215 1.60231477\n",
      " 1.58564807 1.58719125 1.58904315 1.58641973 1.56898138 1.60200607\n",
      " 1.60709868 1.60123452 1.62114195 1.62407397 1.62685175 1.6276234\n",
      " 1.62669752 1.628858   1.62515421 1.63966042 1.62623445 1.61959864\n",
      " 1.61898147 1.55494356 1.51589119 1.48228049 1.45484483 1.43240166\n",
      " 1.41397643 1.3987484  1.38599813 1.37510669 1.36556113 1.35695398\n",
      " 1.34897828 1.34141529 1.33411956 1.32700336 1.32002127 1.31315756\n",
      " 1.30641448 1.29980445 1.29334438 1.2870512  1.28093946 1.27501965\n",
      " 1.26929867 1.26377952 1.25846171 1.25334191]\n",
      "27 day output [[1.2484148]]\n",
      "28 day input [1.4367283  1.40632705 1.3932098  1.38888882 1.3708333  1.39598757\n",
      " 1.42793202 1.43749996 1.42160492 1.43287027 1.41435182 1.40200608\n",
      " 1.43950609 1.46481472 1.48070976 1.43842584 1.4373456  1.45864186\n",
      " 1.4612654  1.51064806 1.49228384 1.49290113 1.49645056 1.48827157\n",
      " 1.46280859 1.47484561 1.46481472 1.45679009 1.46512342 1.48209871\n",
      " 1.48425919 1.50030859 1.47916657 1.49984564 1.49506161 1.51234561\n",
      " 1.50540121 1.52037025 1.53225303 1.52978383 1.54922831 1.54907396\n",
      " 1.5435184  1.5819444  1.6030863  1.58688267 1.6118826  1.62021594\n",
      " 1.63888877 1.62962952 1.5794752  1.59722215 1.60231477 1.58564807\n",
      " 1.58719125 1.58904315 1.58641973 1.56898138 1.60200607 1.60709868\n",
      " 1.60123452 1.62114195 1.62407397 1.62685175 1.6276234  1.62669752\n",
      " 1.628858   1.62515421 1.63966042 1.62623445 1.61959864 1.61898147\n",
      " 1.55494356 1.51589119 1.48228049 1.45484483 1.43240166 1.41397643\n",
      " 1.3987484  1.38599813 1.37510669 1.36556113 1.35695398 1.34897828\n",
      " 1.34141529 1.33411956 1.32700336 1.32002127 1.31315756 1.30641448\n",
      " 1.29980445 1.29334438 1.2870512  1.28093946 1.27501965 1.26929867\n",
      " 1.26377952 1.25846171 1.25334191 1.24841475]\n",
      "28 day output [[1.2436738]]\n",
      "29 day input [1.40632705 1.3932098  1.38888882 1.3708333  1.39598757 1.42793202\n",
      " 1.43749996 1.42160492 1.43287027 1.41435182 1.40200608 1.43950609\n",
      " 1.46481472 1.48070976 1.43842584 1.4373456  1.45864186 1.4612654\n",
      " 1.51064806 1.49228384 1.49290113 1.49645056 1.48827157 1.46280859\n",
      " 1.47484561 1.46481472 1.45679009 1.46512342 1.48209871 1.48425919\n",
      " 1.50030859 1.47916657 1.49984564 1.49506161 1.51234561 1.50540121\n",
      " 1.52037025 1.53225303 1.52978383 1.54922831 1.54907396 1.5435184\n",
      " 1.5819444  1.6030863  1.58688267 1.6118826  1.62021594 1.63888877\n",
      " 1.62962952 1.5794752  1.59722215 1.60231477 1.58564807 1.58719125\n",
      " 1.58904315 1.58641973 1.56898138 1.60200607 1.60709868 1.60123452\n",
      " 1.62114195 1.62407397 1.62685175 1.6276234  1.62669752 1.628858\n",
      " 1.62515421 1.63966042 1.62623445 1.61959864 1.61898147 1.55494356\n",
      " 1.51589119 1.48228049 1.45484483 1.43240166 1.41397643 1.3987484\n",
      " 1.38599813 1.37510669 1.36556113 1.35695398 1.34897828 1.34141529\n",
      " 1.33411956 1.32700336 1.32002127 1.31315756 1.30641448 1.29980445\n",
      " 1.29334438 1.2870512  1.28093946 1.27501965 1.26929867 1.26377952\n",
      " 1.25846171 1.25334191 1.24841475 1.2436738 ]\n",
      "29 day output [[1.2391113]]\n",
      "[[1.554943561553955], [1.515891194343567], [1.4822804927825928], [1.4548448324203491], [1.4324016571044922], [1.4139764308929443], [1.3987483978271484], [1.3859981298446655], [1.375106692314148], [1.3655611276626587], [1.3569539785385132], [1.3489782810211182], [1.341415286064148], [1.3341195583343506], [1.3270033597946167], [1.3200212717056274], [1.313157558441162], [1.3064144849777222], [1.299804449081421], [1.2933443784713745], [1.2870512008666992], [1.2809394598007202], [1.275019645690918], [1.2692986726760864], [1.2637795209884644], [1.2584617137908936], [1.2533419132232666], [1.2484147548675537], [1.2436738014221191], [1.239111304283142]]\n"
     ]
    }
   ],
   "source": [
    "from numpy import array\n",
    "\n",
    "lst_output=[]\n",
    "n_steps=time_step\n",
    "i=0\n",
    "while(i<30):\n",
    "    \n",
    "    if(len(temp_input)>time_step):\n",
    "        #print(temp_input)\n",
    "        x_input=np.array(temp_input[1:])\n",
    "        print(\"{} day input {}\".format(i,x_input))\n",
    "        x_input=x_input.reshape(1,-1)\n",
    "        x_input = x_input.reshape((1, n_steps, 1))\n",
    "        #print(x_input)\n",
    "        yhat = model.predict(x_input, verbose=0)\n",
    "        print(\"{} day output {}\".format(i,yhat))\n",
    "        temp_input.extend(yhat[0].tolist())\n",
    "        temp_input=temp_input[1:]\n",
    "        #print(temp_input)\n",
    "        lst_output.extend(yhat.tolist())\n",
    "        i=i+1\n",
    "    else:\n",
    "        x_input = x_input.reshape((1, n_steps,1))\n",
    "        yhat = model.predict(x_input, verbose=0)\n",
    "        print(yhat[0])\n",
    "        temp_input.extend(yhat[0].tolist())\n",
    "        print(len(temp_input))\n",
    "        lst_output.extend(yhat.tolist())\n",
    "        i=i+1\n",
    "    \n",
    "\n",
    "print(lst_output)"
   ]
  },
  {
   "cell_type": "markdown",
   "metadata": {},
   "source": [
    "###  visualise the predicted result"
   ]
  },
  {
   "cell_type": "code",
   "execution_count": 34,
   "metadata": {
    "scrolled": true
   },
   "outputs": [],
   "source": [
    "day_new=np.arange(1,time_step+1)\n",
    "day_pred=np.arange(time_step+1,time_step+31)"
   ]
  },
  {
   "cell_type": "markdown",
   "metadata": {},
   "source": [
    "### before combine into original data"
   ]
  },
  {
   "cell_type": "code",
   "execution_count": 35,
   "metadata": {},
   "outputs": [
    {
     "data": {
      "text/plain": [
       "Text(0.5, 0.98, 'Previous N day List and Preticted 30 Days List')"
      ]
     },
     "execution_count": 35,
     "metadata": {},
     "output_type": "execute_result"
    },
    {
     "data": {
      "image/png": "[encoded data removed]",
      "text/plain": [
       "<Figure size 864x576 with 1 Axes>"
      ]
     },
     "metadata": {
      "needs_background": "light"
     },
     "output_type": "display_data"
    }
   ],
   "source": [
    "plt.figure(figsize=(12,8))\n",
    "plt.plot(day_new,close_all[len(close_all)-time_step:])\n",
    "plt.plot(day_pred,scaler.inverse_transform(lst_output))\n",
    "plt.xticks(fontsize=10)\n",
    "plt.yticks(fontsize=10)\n",
    "plt.xlabel('Day', fontsize=15)\n",
    "plt.ylabel('Close', fontsize=15)\n",
    "plt.suptitle('Previous N day List and Preticted 30 Days List', fontsize=20)"
   ]
  },
  {
   "cell_type": "markdown",
   "metadata": {},
   "source": [
    "### after combine into original data"
   ]
  },
  {
   "cell_type": "code",
   "execution_count": 36,
   "metadata": {},
   "outputs": [
    {
     "data": {
      "text/plain": [
       "Text(0.5, 0.98, 'Combined Previous N day and Preticted 30 Days')"
      ]
     },
     "execution_count": 36,
     "metadata": {},
     "output_type": "execute_result"
    },
    {
     "data": {
      "image/png": "[encoded data removed]",
      "text/plain": [
       "<Figure size 864x576 with 1 Axes>"
      ]
     },
     "metadata": {
      "needs_background": "light"
     },
     "output_type": "display_data"
    }
   ],
   "source": [
    "df=close_all.tolist()\n",
    "df.extend(scaler.inverse_transform(lst_output))\n",
    "plt.figure(figsize=(12,8))\n",
    "plt.plot(df[5000:])\n",
    "plt.xticks(fontsize=10)\n",
    "plt.yticks(fontsize=10)\n",
    "plt.xlabel('Day', fontsize=15)\n",
    "plt.ylabel('Close', fontsize=15)\n",
    "plt.suptitle('Combined Previous N day and Preticted 30 Days', fontsize=20)"
   ]
  },
  {
   "cell_type": "code",
   "execution_count": 37,
   "metadata": {},
   "outputs": [],
   "source": [
    "df=scaler.inverse_transform(df).tolist()"
   ]
  },
  {
   "cell_type": "code",
   "execution_count": 38,
   "metadata": {},
   "outputs": [
    {
     "data": {
      "text/html": [
       "<div>\n",
       "<style scoped>\n",
       "    .dataframe tbody tr th:only-of-type {\n",
       "        vertical-align: middle;\n",
       "    }\n",
       "\n",
       "    .dataframe tbody tr th {\n",
       "        vertical-align: top;\n",
       "    }\n",
       "\n",
       "    .dataframe thead th {\n",
       "        text-align: right;\n",
       "    }\n",
       "</style>\n",
       "<table border=\"1\" class=\"dataframe\">\n",
       "  <thead>\n",
       "    <tr style=\"text-align: right;\">\n",
       "      <th></th>\n",
       "      <th>1</th>\n",
       "    </tr>\n",
       "    <tr>\n",
       "      <th>0</th>\n",
       "      <th></th>\n",
       "    </tr>\n",
       "  </thead>\n",
       "  <tbody>\n",
       "    <tr>\n",
       "      <th>2000-01-03</th>\n",
       "      <td>1201.339990</td>\n",
       "    </tr>\n",
       "    <tr>\n",
       "      <th>2000-01-04</th>\n",
       "      <td>1181.900054</td>\n",
       "    </tr>\n",
       "    <tr>\n",
       "      <th>2000-01-05</th>\n",
       "      <td>1185.139989</td>\n",
       "    </tr>\n",
       "    <tr>\n",
       "      <th>2000-01-06</th>\n",
       "      <td>1228.880056</td>\n",
       "    </tr>\n",
       "    <tr>\n",
       "      <th>2000-01-07</th>\n",
       "      <td>1243.460122</td>\n",
       "    </tr>\n",
       "  </tbody>\n",
       "</table>\n",
       "</div>"
      ],
      "text/plain": [
       "                      1\n",
       "0                      \n",
       "2000-01-03  1201.339990\n",
       "2000-01-04  1181.900054\n",
       "2000-01-05  1185.139989\n",
       "2000-01-06  1228.880056\n",
       "2000-01-07  1243.460122"
      ]
     },
     "execution_count": 38,
     "metadata": {},
     "output_type": "execute_result"
    }
   ],
   "source": [
    "from pandas import DataFrame\n",
    "df_data_all = DataFrame (df)\n",
    "visual_add30 = pd.concat([combined_date,df_data_all], axis=1, ignore_index=True)\n",
    "visual_add30.set_index(visual_add30.columns[0],inplace=True)\n",
    "visual_add30.head(5)"
   ]
  },
  {
   "cell_type": "markdown",
   "metadata": {},
   "source": [
    "### all the data included predited 30 days"
   ]
  },
  {
   "cell_type": "code",
   "execution_count": 39,
   "metadata": {},
   "outputs": [
    {
     "data": {
      "text/plain": [
       "Text(0.5, 0.98, 'Combined with preticted 30 days')"
      ]
     },
     "execution_count": 39,
     "metadata": {},
     "output_type": "execute_result"
    },
    {
     "data": {
      "image/png": "[encoded data removed]",
      "text/plain": [
       "<Figure size 864x576 with 1 Axes>"
      ]
     },
     "metadata": {
      "needs_background": "light"
     },
     "output_type": "display_data"
    }
   ],
   "source": [
    "plt.figure(figsize=(12,8))\n",
    "plt.plot(visual_add30)\n",
    "plt.xticks(fontsize=10)\n",
    "plt.yticks(fontsize=10)\n",
    "plt.xlabel('Date (year)', fontsize=15)\n",
    "plt.ylabel('Close', fontsize=15)\n",
    "plt.suptitle('Combined with preticted 30 days', fontsize=20)"
   ]
  }
 ],
 "metadata": {
  "kernelspec": {
   "display_name": "Python 3",
   "language": "python",
   "name": "python3"
  },
  "language_info": {
   "codemirror_mode": {
    "name": "ipython",
    "version": 3
   },
   "file_extension": ".py",
   "mimetype": "text/x-python",
   "name": "python",
   "nbconvert_exporter": "python",
   "pygments_lexer": "ipython3",
   "version": "3.7.4"
  }
 },
 "nbformat": 4,
 "nbformat_minor": 4
}
