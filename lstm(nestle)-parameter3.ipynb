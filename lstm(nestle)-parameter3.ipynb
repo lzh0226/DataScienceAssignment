{
 "cells": [
  {
   "cell_type": "markdown",
   "metadata": {},
   "source": [
    "# LSTM"
   ]
  },
  {
   "cell_type": "markdown",
   "metadata": {},
   "source": [
    "### read .csv file"
   ]
  },
  {
   "cell_type": "code",
   "execution_count": 1,
   "metadata": {},
   "outputs": [],
   "source": [
    "import pandas as pd \n",
    "import numpy as np\n",
    "dataset = pd.read_csv('NSRGY.csv')"
   ]
  },
  {
   "cell_type": "markdown",
   "metadata": {},
   "source": [
    "### sort value according to date"
   ]
  },
  {
   "cell_type": "code",
   "execution_count": 2,
   "metadata": {
    "scrolled": true
   },
   "outputs": [],
   "source": [
    "dataset = dataset.sort_values('Date')"
   ]
  },
  {
   "cell_type": "markdown",
   "metadata": {},
   "source": [
    "### check empty field"
   ]
  },
  {
   "cell_type": "code",
   "execution_count": 3,
   "metadata": {
    "scrolled": true
   },
   "outputs": [
    {
     "data": {
      "text/plain": [
       "Date         0\n",
       "Open         0\n",
       "High         0\n",
       "Low          0\n",
       "Close        0\n",
       "Adj Close    0\n",
       "Volume       0\n",
       "dtype: int64"
      ]
     },
     "execution_count": 3,
     "metadata": {},
     "output_type": "execute_result"
    }
   ],
   "source": [
    "dataset.isnull().sum()"
   ]
  },
  {
   "cell_type": "markdown",
   "metadata": {},
   "source": [
    "### Used for date"
   ]
  },
  {
   "cell_type": "code",
   "execution_count": 4,
   "metadata": {},
   "outputs": [
    {
     "name": "stdout",
     "output_type": "stream",
     "text": [
      "5194   2020-08-25\n",
      "5195   2020-08-26\n",
      "5196   2020-08-27\n",
      "5197   2020-08-28\n",
      "5198   2020-08-31\n",
      "Name: Date, dtype: datetime64[ns]\n"
     ]
    }
   ],
   "source": [
    "date_old = dataset['Date'].copy()\n",
    "date_old = pd.to_datetime(date_old)\n",
    "#view the data of the last 5 days\n",
    "print(date_old.tail(5))"
   ]
  },
  {
   "cell_type": "code",
   "execution_count": 5,
   "metadata": {},
   "outputs": [
    {
     "name": "stdout",
     "output_type": "stream",
     "text": [
      "2020-09-01 00:00:00\n"
     ]
    }
   ],
   "source": [
    "from datetime import datetime\n",
    "import datetime\n",
    "lastDay = date_old.iloc[-1]\n",
    "lastNext = lastDay + datetime.timedelta(days=1)\n",
    "#print the next day that should be the first day of the predict 30 days\n",
    "print(lastNext)"
   ]
  },
  {
   "cell_type": "markdown",
   "metadata": {},
   "source": [
    "### obtain the date of next 30 days"
   ]
  },
  {
   "cell_type": "code",
   "execution_count": 6,
   "metadata": {},
   "outputs": [
    {
     "name": "stdout",
     "output_type": "stream",
     "text": [
      "                    0\n",
      "2020-09-01 2020-09-01\n",
      "2020-09-02 2020-09-02\n",
      "2020-09-03 2020-09-03\n",
      "2020-09-04 2020-09-04\n",
      "2020-09-05 2020-09-05\n"
     ]
    }
   ],
   "source": [
    "datelist = pd.date_range(lastNext, periods=30).tolist()\n",
    "datelist = pd.to_datetime(datelist)\n",
    "date_30 = datelist.copy()\n",
    "date_30 = date_30.to_frame()\n",
    "#print the first 5 days of the predicted 30 days\n",
    "print(date_30.head(5))"
   ]
  },
  {
   "cell_type": "markdown",
   "metadata": {},
   "source": [
    "### combine old date with new date"
   ]
  },
  {
   "cell_type": "code",
   "execution_count": 7,
   "metadata": {},
   "outputs": [
    {
     "name": "stdout",
     "output_type": "stream",
     "text": [
      "              0\n",
      "0    2000-01-03\n",
      "1    2000-01-04\n",
      "2    2000-01-05\n",
      "3    2000-01-06\n",
      "4    2000-01-07\n",
      "...         ...\n",
      "5224 2020-09-26\n",
      "5225 2020-09-27\n",
      "5226 2020-09-28\n",
      "5227 2020-09-29\n",
      "5228 2020-09-30\n",
      "\n",
      "[5229 rows x 1 columns]\n"
     ]
    }
   ],
   "source": [
    "combined_date = pd.concat([date_old,date_30],ignore_index=True)\n",
    "print(combined_date)"
   ]
  },
  {
   "cell_type": "markdown",
   "metadata": {},
   "source": [
    "### drop all column except 'Close'"
   ]
  },
  {
   "cell_type": "code",
   "execution_count": 8,
   "metadata": {},
   "outputs": [
    {
     "name": "stdout",
     "output_type": "stream",
     "text": [
      "[[ 18.299999]\n",
      " [ 18.      ]\n",
      " [ 18.049999]\n",
      " ...\n",
      " [120.879997]\n",
      " [120.449997]\n",
      " [120.410004]]\n"
     ]
    }
   ],
   "source": [
    "close_all = dataset.loc[:, ['Close']].values\n",
    "visual = dataset[['Date', 'Close']].copy()\n",
    "visual['Date'] = pd.to_datetime(visual['Date'])\n",
    "visual.set_index('Date', inplace=True)\n",
    "print(close_all)"
   ]
  },
  {
   "cell_type": "markdown",
   "metadata": {},
   "source": [
    "### Visualisation"
   ]
  },
  {
   "cell_type": "code",
   "execution_count": 9,
   "metadata": {
    "scrolled": true
   },
   "outputs": [
    {
     "data": {
      "text/plain": [
       "Text(0.5, 0.98, 'Original Data')"
      ]
     },
     "execution_count": 9,
     "metadata": {},
     "output_type": "execute_result"
    },
    {
     "data": {
      "image/png": "[encoded data removed]",
      "text/plain": [
       "<Figure size 864x576 with 1 Axes>"
      ]
     },
     "metadata": {
      "needs_background": "light"
     },
     "output_type": "display_data"
    }
   ],
   "source": [
    "import numpy as np \n",
    "import matplotlib.pyplot as plt\n",
    "plt.figure(figsize=(12,8))\n",
    "plt.plot(visual)\n",
    "plt.xticks(fontsize=10)\n",
    "plt.yticks(fontsize=10)\n",
    "plt.xlabel('Date (year)', fontsize=15)\n",
    "plt.ylabel('Close', fontsize=15)\n",
    "plt.suptitle('Original Data', fontsize=20)"
   ]
  },
  {
   "cell_type": "markdown",
   "metadata": {},
   "source": [
    "### splitting dataset into front 80% for training and last 20% for testing"
   ]
  },
  {
   "cell_type": "code",
   "execution_count": 10,
   "metadata": {},
   "outputs": [],
   "source": [
    "training_size=int(len(close_all)*0.8)\n",
    "test_size=len(close_all)-training_size\n",
    "train_data,test_data=close_all[0:training_size,:],close_all[training_size:len(close_all),:1]"
   ]
  },
  {
   "cell_type": "code",
   "execution_count": 11,
   "metadata": {},
   "outputs": [
    {
     "data": {
      "text/plain": [
       "(4159, 1040)"
      ]
     },
     "execution_count": 11,
     "metadata": {},
     "output_type": "execute_result"
    }
   ],
   "source": [
    "training_size,test_size"
   ]
  },
  {
   "cell_type": "markdown",
   "metadata": {},
   "source": [
    "### Scale the training data within range of 0 to 1"
   ]
  },
  {
   "cell_type": "code",
   "execution_count": 12,
   "metadata": {},
   "outputs": [
    {
     "data": {
      "text/plain": [
       "array([[0.04320986],\n",
       "       [0.03858025],\n",
       "       [0.03935183],\n",
       "       ...,\n",
       "       [0.973611  ],\n",
       "       [0.9760802 ],\n",
       "       [0.98317895]])"
      ]
     },
     "execution_count": 12,
     "metadata": {},
     "output_type": "execute_result"
    }
   ],
   "source": [
    "from sklearn.preprocessing import MinMaxScaler\n",
    "scaler = MinMaxScaler(feature_range = (0, 1))\n",
    "train_data = scaler.fit_transform(train_data)\n",
    "train_data"
   ]
  },
  {
   "cell_type": "markdown",
   "metadata": {},
   "source": [
    "### set the time step to 100 for training set and testing set"
   ]
  },
  {
   "cell_type": "code",
   "execution_count": 13,
   "metadata": {
    "scrolled": true
   },
   "outputs": [
    {
     "name": "stdout",
     "output_type": "stream",
     "text": [
      "(4058, 100)\n",
      "(4058,)\n"
     ]
    }
   ],
   "source": [
    "time_step = 100\n",
    "X_train_list, y_train_list = [], []\n",
    "for i in range(len(train_data)-time_step-1):\n",
    "    X_train_list.append(train_data[i:(i+time_step), 0])\n",
    "    y_train_list.append(train_data[i + time_step, 0])\n",
    "X_train, y_train = np.array(X_train_list),np.array(y_train_list)\n",
    "print(X_train.shape)\n",
    "print(y_train.shape)"
   ]
  },
  {
   "cell_type": "markdown",
   "metadata": {},
   "source": [
    "### reshape the data to fit in LSTM model"
   ]
  },
  {
   "cell_type": "code",
   "execution_count": 14,
   "metadata": {},
   "outputs": [],
   "source": [
    "X_train =X_train.reshape(X_train.shape[0],X_train.shape[1] , 1)\n",
    "#X_test = X_test.reshape(X_test.shape[0],X_test.shape[1] , 1)"
   ]
  },
  {
   "cell_type": "markdown",
   "metadata": {},
   "source": [
    "### LSTM modelling"
   ]
  },
  {
   "cell_type": "code",
   "execution_count": 15,
   "metadata": {},
   "outputs": [],
   "source": [
    "from tensorflow.keras.models import Sequential\n",
    "from tensorflow.keras.layers import Dense\n",
    "from tensorflow.keras.layers import LSTM"
   ]
  },
  {
   "cell_type": "code",
   "execution_count": 16,
   "metadata": {},
   "outputs": [],
   "source": [
    "model=Sequential()\n",
    "model.add(LSTM(50,return_sequences=True,input_shape=(time_step,1)))\n",
    "model.add(LSTM(50,return_sequences=True))\n",
    "model.add(LSTM(50))\n",
    "model.add(Dense(1))\n",
    "model.compile(loss='mean_squared_error',optimizer='adam')"
   ]
  },
  {
   "cell_type": "code",
   "execution_count": 17,
   "metadata": {
    "scrolled": false
   },
   "outputs": [
    {
     "name": "stdout",
     "output_type": "stream",
     "text": [
      "Model: \"sequential\"\n",
      "_________________________________________________________________\n",
      "Layer (type)                 Output Shape              Param #   \n",
      "=================================================================\n",
      "lstm (LSTM)                  (None, 100, 50)           10400     \n",
      "_________________________________________________________________\n",
      "lstm_1 (LSTM)                (None, 100, 50)           20200     \n",
      "_________________________________________________________________\n",
      "lstm_2 (LSTM)                (None, 50)                20200     \n",
      "_________________________________________________________________\n",
      "dense (Dense)                (None, 1)                 51        \n",
      "=================================================================\n",
      "Total params: 50,851\n",
      "Trainable params: 50,851\n",
      "Non-trainable params: 0\n",
      "_________________________________________________________________\n"
     ]
    }
   ],
   "source": [
    "model.summary()"
   ]
  },
  {
   "cell_type": "markdown",
   "metadata": {},
   "source": [
    "### fitting the training set into the model"
   ]
  },
  {
   "cell_type": "code",
   "execution_count": 18,
   "metadata": {
    "scrolled": true
   },
   "outputs": [
    {
     "name": "stdout",
     "output_type": "stream",
     "text": [
      "Epoch 1/100\n",
      "127/127 [==============================] - 79s 624ms/step - loss: 0.0071\n",
      "Epoch 2/100\n",
      "127/127 [==============================] - 84s 664ms/step - loss: 4.7839e-04\n",
      "Epoch 3/100\n",
      "127/127 [==============================] - 83s 651ms/step - loss: 4.5460e-04\n",
      "Epoch 4/100\n",
      "127/127 [==============================] - 87s 682ms/step - loss: 4.4367e-04\n",
      "Epoch 5/100\n",
      "127/127 [==============================] - 88s 694ms/step - loss: 4.6067e-04\n",
      "Epoch 6/100\n",
      "127/127 [==============================] - 85s 669ms/step - loss: 4.3401e-04\n",
      "Epoch 7/100\n",
      "127/127 [==============================] - 83s 655ms/step - loss: 4.4178e-04\n",
      "Epoch 8/100\n",
      "127/127 [==============================] - 83s 657ms/step - loss: 4.3221e-04\n",
      "Epoch 9/100\n",
      "127/127 [==============================] - 84s 658ms/step - loss: 3.9864e-04\n",
      "Epoch 10/100\n",
      "127/127 [==============================] - 85s 667ms/step - loss: 3.9260e-04\n",
      "Epoch 11/100\n",
      "127/127 [==============================] - 85s 671ms/step - loss: 3.8804e-04\n",
      "Epoch 12/100\n",
      "127/127 [==============================] - 85s 669ms/step - loss: 4.3861e-04\n",
      "Epoch 13/100\n",
      "127/127 [==============================] - 82s 647ms/step - loss: 3.1580e-04\n",
      "Epoch 14/100\n",
      "127/127 [==============================] - 86s 678ms/step - loss: 3.3534e-04\n",
      "Epoch 15/100\n",
      "127/127 [==============================] - 75s 590ms/step - loss: 3.0167e-04\n",
      "Epoch 16/100\n",
      "127/127 [==============================] - 83s 656ms/step - loss: 2.8819e-04\n",
      "Epoch 17/100\n",
      "127/127 [==============================] - 81s 636ms/step - loss: 2.5181e-04\n",
      "Epoch 18/100\n",
      "127/127 [==============================] - 84s 659ms/step - loss: 2.5236e-04\n",
      "Epoch 19/100\n",
      "127/127 [==============================] - 84s 659ms/step - loss: 2.5903e-04\n",
      "Epoch 20/100\n",
      "127/127 [==============================] - 81s 635ms/step - loss: 2.2864e-04\n",
      "Epoch 21/100\n",
      "127/127 [==============================] - 85s 667ms/step - loss: 2.1790e-04\n",
      "Epoch 22/100\n",
      "127/127 [==============================] - 81s 639ms/step - loss: 1.9308e-04\n",
      "Epoch 23/100\n",
      "127/127 [==============================] - 85s 671ms/step - loss: 1.7980e-04\n",
      "Epoch 24/100\n",
      "127/127 [==============================] - 80s 634ms/step - loss: 1.8159e-04\n",
      "Epoch 25/100\n",
      "127/127 [==============================] - 82s 645ms/step - loss: 1.5878e-04\n",
      "Epoch 26/100\n",
      "127/127 [==============================] - 86s 677ms/step - loss: 1.5294e-04\n",
      "Epoch 27/100\n",
      "127/127 [==============================] - 86s 681ms/step - loss: 1.6416e-04\n",
      "Epoch 28/100\n",
      "127/127 [==============================] - 81s 634ms/step - loss: 1.4290e-04\n",
      "Epoch 29/100\n",
      "127/127 [==============================] - 82s 646ms/step - loss: 1.4016e-04\n",
      "Epoch 30/100\n",
      "127/127 [==============================] - 84s 663ms/step - loss: 1.2963e-04\n",
      "Epoch 31/100\n",
      "127/127 [==============================] - 84s 660ms/step - loss: 1.2770e-04\n",
      "Epoch 32/100\n",
      "127/127 [==============================] - 85s 672ms/step - loss: 1.2854e-04\n",
      "Epoch 33/100\n",
      "127/127 [==============================] - 81s 636ms/step - loss: 1.4425e-04\n",
      "Epoch 34/100\n",
      "127/127 [==============================] - 82s 648ms/step - loss: 1.1882e-04\n",
      "Epoch 35/100\n",
      "127/127 [==============================] - 79s 618ms/step - loss: 1.5902e-04\n",
      "Epoch 36/100\n",
      "127/127 [==============================] - 86s 675ms/step - loss: 1.3509e-04\n",
      "Epoch 37/100\n",
      "127/127 [==============================] - 81s 641ms/step - loss: 1.2009e-04\n",
      "Epoch 38/100\n",
      "127/127 [==============================] - 84s 658ms/step - loss: 1.0991e-04\n",
      "Epoch 39/100\n",
      "127/127 [==============================] - 85s 667ms/step - loss: 1.1956e-04\n",
      "Epoch 40/100\n",
      "127/127 [==============================] - 86s 680ms/step - loss: 1.3136e-04\n",
      "Epoch 41/100\n",
      "127/127 [==============================] - 78s 615ms/step - loss: 1.3386e-04\n",
      "Epoch 42/100\n",
      "127/127 [==============================] - 86s 675ms/step - loss: 1.5117e-04\n",
      "Epoch 43/100\n",
      "127/127 [==============================] - 86s 676ms/step - loss: 1.3061e-04\n",
      "Epoch 44/100\n",
      "127/127 [==============================] - 80s 629ms/step - loss: 1.5591e-04\n",
      "Epoch 45/100\n",
      "127/127 [==============================] - 78s 618ms/step - loss: 1.0333e-04\n",
      "Epoch 46/100\n",
      "127/127 [==============================] - 89s 697ms/step - loss: 1.0356e-04\n",
      "Epoch 47/100\n",
      "127/127 [==============================] - 83s 654ms/step - loss: 1.0949e-04\n",
      "Epoch 48/100\n",
      "127/127 [==============================] - 83s 657ms/step - loss: 1.2333e-04\n",
      "Epoch 49/100\n",
      "127/127 [==============================] - 80s 630ms/step - loss: 1.1914e-04\n",
      "Epoch 50/100\n",
      "127/127 [==============================] - 82s 648ms/step - loss: 1.3050e-04\n",
      "Epoch 51/100\n",
      "127/127 [==============================] - 81s 640ms/step - loss: 1.1045e-04\n",
      "Epoch 52/100\n",
      "127/127 [==============================] - 84s 661ms/step - loss: 1.3517e-04\n",
      "Epoch 53/100\n",
      "127/127 [==============================] - 81s 641ms/step - loss: 1.1719e-04\n",
      "Epoch 54/100\n",
      "127/127 [==============================] - 82s 645ms/step - loss: 1.0407e-04\n",
      "Epoch 55/100\n",
      "127/127 [==============================] - 89s 698ms/step - loss: 1.1649e-04\n",
      "Epoch 56/100\n",
      "127/127 [==============================] - 81s 634ms/step - loss: 1.1907e-04\n",
      "Epoch 57/100\n",
      "127/127 [==============================] - 84s 659ms/step - loss: 1.0069e-04\n",
      "Epoch 58/100\n",
      "127/127 [==============================] - 86s 679ms/step - loss: 1.0645e-04\n",
      "Epoch 59/100\n",
      "127/127 [==============================] - 83s 654ms/step - loss: 1.0634e-04\n",
      "Epoch 60/100\n",
      "127/127 [==============================] - 80s 629ms/step - loss: 1.0248e-04\n",
      "Epoch 61/100\n",
      "127/127 [==============================] - 87s 686ms/step - loss: 1.0113e-04\n",
      "Epoch 62/100\n",
      "127/127 [==============================] - 86s 681ms/step - loss: 1.0236e-04\n",
      "Epoch 63/100\n",
      "127/127 [==============================] - 88s 691ms/step - loss: 1.2939e-04\n",
      "Epoch 64/100\n",
      "127/127 [==============================] - 85s 665ms/step - loss: 1.0931e-04\n",
      "Epoch 65/100\n",
      "127/127 [==============================] - 83s 654ms/step - loss: 1.1826e-04\n",
      "Epoch 66/100\n",
      "127/127 [==============================] - 81s 640ms/step - loss: 9.6550e-05\n",
      "Epoch 67/100\n",
      "127/127 [==============================] - 86s 678ms/step - loss: 1.1343e-04\n",
      "Epoch 68/100\n",
      "127/127 [==============================] - 82s 646ms/step - loss: 1.0593e-04\n",
      "Epoch 69/100\n",
      "127/127 [==============================] - 82s 644ms/step - loss: 1.0848e-04\n",
      "Epoch 70/100\n",
      "127/127 [==============================] - 85s 666ms/step - loss: 1.0709e-04\n",
      "Epoch 71/100\n",
      "127/127 [==============================] - 81s 635ms/step - loss: 9.9402e-05\n",
      "Epoch 72/100\n",
      "127/127 [==============================] - 86s 677ms/step - loss: 9.7979e-05\n",
      "Epoch 73/100\n",
      "127/127 [==============================] - 82s 647ms/step - loss: 1.0474e-04\n",
      "Epoch 74/100\n",
      "127/127 [==============================] - 83s 656ms/step - loss: 1.0976e-04\n",
      "Epoch 75/100\n",
      "127/127 [==============================] - 85s 667ms/step - loss: 1.1113e-04\n",
      "Epoch 76/100\n",
      "127/127 [==============================] - 85s 671ms/step - loss: 1.0207e-04\n",
      "Epoch 77/100\n",
      "127/127 [==============================] - 83s 654ms/step - loss: 1.0811e-04\n",
      "Epoch 78/100\n",
      "127/127 [==============================] - 81s 637ms/step - loss: 1.0403e-04\n",
      "Epoch 79/100\n",
      "127/127 [==============================] - 82s 647ms/step - loss: 9.7194e-05\n",
      "Epoch 80/100\n",
      "127/127 [==============================] - 83s 656ms/step - loss: 1.0911e-04\n",
      "Epoch 81/100\n",
      "127/127 [==============================] - 84s 665ms/step - loss: 1.0919e-04\n",
      "Epoch 82/100\n",
      "127/127 [==============================] - 88s 692ms/step - loss: 9.6135e-05\n",
      "Epoch 83/100\n",
      "127/127 [==============================] - 88s 693ms/step - loss: 1.0407e-04\n",
      "Epoch 84/100\n",
      "127/127 [==============================] - 88s 693ms/step - loss: 9.3230e-05\n",
      "Epoch 85/100\n",
      "127/127 [==============================] - 80s 634ms/step - loss: 1.0212e-04\n",
      "Epoch 86/100\n",
      "127/127 [==============================] - 83s 652ms/step - loss: 9.1249e-05\n",
      "Epoch 87/100\n",
      "127/127 [==============================] - 89s 701ms/step - loss: 1.0034e-04\n",
      "Epoch 88/100\n",
      "127/127 [==============================] - 86s 679ms/step - loss: 1.1910e-04\n",
      "Epoch 89/100\n",
      "127/127 [==============================] - 84s 661ms/step - loss: 1.2411e-04\n",
      "Epoch 90/100\n",
      "127/127 [==============================] - 87s 682ms/step - loss: 1.0778e-04\n",
      "Epoch 91/100\n",
      "127/127 [==============================] - 82s 645ms/step - loss: 9.7376e-05\n",
      "Epoch 92/100\n"
     ]
    },
    {
     "name": "stdout",
     "output_type": "stream",
     "text": [
      "127/127 [==============================] - 80s 628ms/step - loss: 9.5693e-05\n",
      "Epoch 93/100\n",
      "127/127 [==============================] - 83s 657ms/step - loss: 1.0596e-04\n",
      "Epoch 94/100\n",
      "127/127 [==============================] - 82s 642ms/step - loss: 9.5942e-05\n",
      "Epoch 95/100\n",
      "127/127 [==============================] - 84s 665ms/step - loss: 8.6527e-05\n",
      "Epoch 96/100\n",
      "127/127 [==============================] - 86s 678ms/step - loss: 1.0290e-04\n",
      "Epoch 97/100\n",
      "127/127 [==============================] - 83s 654ms/step - loss: 1.0004e-04\n",
      "Epoch 98/100\n",
      "127/127 [==============================] - 82s 649ms/step - loss: 1.0270e-04\n",
      "Epoch 99/100\n",
      "127/127 [==============================] - 78s 617ms/step - loss: 9.4558e-05\n",
      "Epoch 100/100\n",
      "127/127 [==============================] - 82s 642ms/step - loss: 9.6954e-05\n"
     ]
    },
    {
     "data": {
      "text/plain": [
       "<tensorflow.python.keras.callbacks.History at 0x253ed592688>"
      ]
     },
     "execution_count": 18,
     "metadata": {},
     "output_type": "execute_result"
    }
   ],
   "source": [
    "model.fit(X_train,y_train,epochs=100,batch_size=32)"
   ]
  },
  {
   "cell_type": "markdown",
   "metadata": {},
   "source": [
    "### predict the training set"
   ]
  },
  {
   "cell_type": "code",
   "execution_count": 19,
   "metadata": {},
   "outputs": [],
   "source": [
    "train_predict=model.predict(X_train)"
   ]
  },
  {
   "cell_type": "markdown",
   "metadata": {},
   "source": [
    "### calculate the mean squared error between the actual result and predicted result"
   ]
  },
  {
   "cell_type": "code",
   "execution_count": 20,
   "metadata": {},
   "outputs": [
    {
     "data": {
      "text/plain": [
       "0.01135588768434249"
      ]
     },
     "execution_count": 20,
     "metadata": {},
     "output_type": "execute_result"
    }
   ],
   "source": [
    "import math\n",
    "from sklearn.metrics import mean_squared_error\n",
    "math.sqrt(mean_squared_error(y_train,train_predict))"
   ]
  },
  {
   "cell_type": "markdown",
   "metadata": {},
   "source": [
    "### predict the testing set"
   ]
  },
  {
   "cell_type": "code",
   "execution_count": 21,
   "metadata": {},
   "outputs": [
    {
     "data": {
      "text/plain": [
       "array([[0.97716045],\n",
       "       [0.98148141],\n",
       "       [0.97499995],\n",
       "       ...,\n",
       "       [1.62623445],\n",
       "       [1.61959864],\n",
       "       [1.61898147]])"
      ]
     },
     "execution_count": 21,
     "metadata": {},
     "output_type": "execute_result"
    }
   ],
   "source": [
    "test_data = scaler.transform(test_data)\n",
    "test_data"
   ]
  },
  {
   "cell_type": "code",
   "execution_count": 22,
   "metadata": {},
   "outputs": [
    {
     "name": "stdout",
     "output_type": "stream",
     "text": [
      "(939, 100)\n",
      "(939,)\n"
     ]
    }
   ],
   "source": [
    "X_test_list, y_test_list = [], []\n",
    "for i in range(len(test_data)-time_step-1):\n",
    "    X_test_list.append(test_data[i:(i+time_step), 0])\n",
    "    y_test_list.append(test_data[i + time_step, 0])\n",
    "X_test, y_test = np.array(X_test_list),np.array(y_test_list)\n",
    "print(X_test.shape)\n",
    "print(y_test.shape)"
   ]
  },
  {
   "cell_type": "code",
   "execution_count": 23,
   "metadata": {},
   "outputs": [],
   "source": [
    "X_test = X_test.reshape(X_test.shape[0],X_test.shape[1] , 1)"
   ]
  },
  {
   "cell_type": "code",
   "execution_count": 24,
   "metadata": {},
   "outputs": [],
   "source": [
    "test_predict=model.predict(X_test)"
   ]
  },
  {
   "cell_type": "code",
   "execution_count": 25,
   "metadata": {},
   "outputs": [
    {
     "data": {
      "text/plain": [
       "0.04708830995760437"
      ]
     },
     "execution_count": 25,
     "metadata": {},
     "output_type": "execute_result"
    }
   ],
   "source": [
    "math.sqrt(mean_squared_error(y_test,test_predict))"
   ]
  },
  {
   "cell_type": "markdown",
   "metadata": {},
   "source": [
    "### Visualisation of result of training set and testing set"
   ]
  },
  {
   "cell_type": "markdown",
   "metadata": {},
   "source": [
    "blue colour is original data\n",
    "\n",
    "orange colour is predicted value using training data\n",
    "\n",
    "green colour is predicted value using testing data"
   ]
  },
  {
   "cell_type": "code",
   "execution_count": 26,
   "metadata": {
    "scrolled": false
   },
   "outputs": [],
   "source": [
    "# visual is done at up. It shows all, so is equal to close_all\n",
    "# scale back to original form\n",
    "train_predict=scaler.inverse_transform(train_predict)\n",
    "test_predict=scaler.inverse_transform(test_predict)\n",
    "### Plotting \n",
    "# shift train predictions for plotting\n",
    "look_back=time_step\n",
    "trainPredictPlot = np.empty_like(close_all)\n",
    "trainPredictPlot[:, :] = np.nan\n",
    "trainPredictPlot[look_back:len(train_predict)+look_back, :] = train_predict\n",
    "# shift test predictions for plotting\n",
    "testPredictPlot = np.empty_like(close_all)\n",
    "testPredictPlot[:, :] = np.nan\n",
    "testPredictPlot[len(train_predict)+(look_back*2)+1:len(close_all)-1, :] = test_predict"
   ]
  },
  {
   "cell_type": "code",
   "execution_count": 27,
   "metadata": {},
   "outputs": [],
   "source": [
    "dt_train = pd.DataFrame(np.array(trainPredictPlot))\n",
    "visual_train = pd.concat([date_old,dt_train], axis=1, ignore_index=True)\n",
    "visual_train.set_index(visual_train.columns[0],inplace=True)"
   ]
  },
  {
   "cell_type": "code",
   "execution_count": 28,
   "metadata": {},
   "outputs": [],
   "source": [
    "dt_test = pd.DataFrame(np.array(testPredictPlot))\n",
    "visual_test = pd.concat([date_old,dt_test], axis=1, ignore_index=True)\n",
    "visual_test.set_index(visual_test.columns[0],inplace=True)"
   ]
  },
  {
   "cell_type": "code",
   "execution_count": 29,
   "metadata": {},
   "outputs": [
    {
     "data": {
      "text/plain": [
       "Text(0.5, 0.98, 'Original, Train and Test Data')"
      ]
     },
     "execution_count": 29,
     "metadata": {},
     "output_type": "execute_result"
    },
    {
     "data": {
      "image/png": "[encoded data removed]",
      "text/plain": [
       "<Figure size 864x576 with 1 Axes>"
      ]
     },
     "metadata": {
      "needs_background": "light"
     },
     "output_type": "display_data"
    }
   ],
   "source": [
    "# plot baseline and predictions\n",
    "plt.figure(figsize=(12,8))\n",
    "plt.plot(visual)\n",
    "plt.plot(visual_train)\n",
    "plt.plot(visual_test)\n",
    "#plt.show()\n",
    "plt.xticks(fontsize=10)\n",
    "plt.yticks(fontsize=10)\n",
    "plt.xlabel('Date (year)', fontsize=15)\n",
    "plt.ylabel('Close', fontsize=15)\n",
    "plt.suptitle('Original, Train and Test Data', fontsize=20)"
   ]
  },
  {
   "cell_type": "markdown",
   "metadata": {},
   "source": [
    "## Predict future 30 days"
   ]
  },
  {
   "cell_type": "markdown",
   "metadata": {},
   "source": [
    "### get the last 100 day for time step of the future day"
   ]
  },
  {
   "cell_type": "code",
   "execution_count": 30,
   "metadata": {},
   "outputs": [
    {
     "data": {
      "text/plain": [
       "1040"
      ]
     },
     "execution_count": 30,
     "metadata": {},
     "output_type": "execute_result"
    }
   ],
   "source": [
    "len(test_data)"
   ]
  },
  {
   "cell_type": "code",
   "execution_count": 31,
   "metadata": {},
   "outputs": [
    {
     "data": {
      "text/plain": [
       "(1, 100)"
      ]
     },
     "execution_count": 31,
     "metadata": {},
     "output_type": "execute_result"
    }
   ],
   "source": [
    "x_input=test_data[len(test_data)-time_step:].reshape(1,-1)\n",
    "x_input.shape"
   ]
  },
  {
   "cell_type": "code",
   "execution_count": 32,
   "metadata": {
    "scrolled": true
   },
   "outputs": [
    {
     "data": {
      "text/plain": [
       "[1.400771493791443,\n",
       " 1.3929012009459318,\n",
       " 1.4214505669081525,\n",
       " 1.4158949961777005,\n",
       " 1.434722171231998,\n",
       " 1.4577159664637667,\n",
       " 1.4708332343750044,\n",
       " 1.4268517703618004,\n",
       " 1.4458332972608041,\n",
       " 1.3966048736139718,\n",
       " 1.4462962447702354,\n",
       " 1.4126542710190924,\n",
       " 1.403703623285326,\n",
       " 1.389043176433186,\n",
       " 1.3827159545038907,\n",
       " 1.371604828475085,\n",
       " 1.3649690263131622,\n",
       " 1.365277730002574,\n",
       " 1.3850308000757343,\n",
       " 1.4013887931455804,\n",
       " 1.427469069715938,\n",
       " 1.4390431432541753,\n",
       " 1.4336419398005273,\n",
       " 1.42206786626229,\n",
       " 1.403703623285326,\n",
       " 1.4077159996427775,\n",
       " 1.4296295480109775,\n",
       " 1.4169752430412694,\n",
       " 1.4367282976823317,\n",
       " 1.406327049089797,\n",
       " 1.3932097966106574,\n",
       " 1.3888888245884803,\n",
       " 1.3708333007330262,\n",
       " 1.3959875742598342,\n",
       " 1.4279320172253696,\n",
       " 1.437499964313273,\n",
       " 1.4216049187528585,\n",
       " 1.432870273169586,\n",
       " 1.4143518172367984,\n",
       " 1.4020060770676197,\n",
       " 1.4395060907636068,\n",
       " 1.4648147161351208,\n",
       " 1.4807097616955356,\n",
       " 1.438425843900038,\n",
       " 1.4373455970364692,\n",
       " 1.4586418614826298,\n",
       " 1.4612653953117871,\n",
       " 1.510648062778639,\n",
       " 1.4922838352337728,\n",
       " 1.4929011345879102,\n",
       " 1.4964505634359304,\n",
       " 1.4882715669010076,\n",
       " 1.4628085896847873,\n",
       " 1.4748456107324561,\n",
       " 1.4648147161351208,\n",
       " 1.456790086877002,\n",
       " 1.465123419824533,\n",
       " 1.4820987122485163,\n",
       " 1.484259190543556,\n",
       " 1.5003085879486762,\n",
       " 1.4791665673225354,\n",
       " 1.499845640439245,\n",
       " 1.49506161288295,\n",
       " 1.5123456089963452,\n",
       " 1.5054012111696968,\n",
       " 1.5203702536865622,\n",
       " 1.5322530309142115,\n",
       " 1.529783833497662,\n",
       " 1.5492283079060967,\n",
       " 1.5490739560613909,\n",
       " 1.543518400763037,\n",
       " 1.5819444020704752,\n",
       " 1.6030862992398316,\n",
       " 1.5868826734467898,\n",
       " 1.611882595128892,\n",
       " 1.620215943508521,\n",
       " 1.6388887667181125,\n",
       " 1.6296295233196207,\n",
       " 1.5794752046539255,\n",
       " 1.5972221482767521,\n",
       " 1.6023147714977728,\n",
       " 1.5856480747385149,\n",
       " 1.587191253679417,\n",
       " 1.589043151741829,\n",
       " 1.5864197259373582,\n",
       " 1.568981377979257,\n",
       " 1.6020060678083607,\n",
       " 1.6070986755972834,\n",
       " 1.601234524634204,\n",
       " 1.6211419465520702,\n",
       " 1.6240739680212668,\n",
       " 1.6268517456704437,\n",
       " 1.627623396869287,\n",
       " 1.6266975172825222,\n",
       " 1.6288579955775617,\n",
       " 1.6251542148848355,\n",
       " 1.6396604179169558,\n",
       " 1.6262344463163063,\n",
       " 1.6195986441543835,\n",
       " 1.6189814682570307]"
      ]
     },
     "execution_count": 32,
     "metadata": {},
     "output_type": "execute_result"
    }
   ],
   "source": [
    "temp_input=list(x_input)\n",
    "temp_input=temp_input[0].tolist()\n",
    "temp_input"
   ]
  },
  {
   "cell_type": "markdown",
   "metadata": {},
   "source": [
    "### predict the future 30 days result"
   ]
  },
  {
   "cell_type": "code",
   "execution_count": 33,
   "metadata": {
    "scrolled": true
   },
   "outputs": [
    {
     "name": "stdout",
     "output_type": "stream",
     "text": [
      "[1.5130589]\n",
      "101\n",
      "1 day input [1.3929012  1.42145057 1.415895   1.43472217 1.45771597 1.47083323\n",
      " 1.42685177 1.4458333  1.39660487 1.44629624 1.41265427 1.40370362\n",
      " 1.38904318 1.38271595 1.37160483 1.36496903 1.36527773 1.3850308\n",
      " 1.40138879 1.42746907 1.43904314 1.43364194 1.42206787 1.40370362\n",
      " 1.407716   1.42962955 1.41697524 1.4367283  1.40632705 1.3932098\n",
      " 1.38888882 1.3708333  1.39598757 1.42793202 1.43749996 1.42160492\n",
      " 1.43287027 1.41435182 1.40200608 1.43950609 1.46481472 1.48070976\n",
      " 1.43842584 1.4373456  1.45864186 1.4612654  1.51064806 1.49228384\n",
      " 1.49290113 1.49645056 1.48827157 1.46280859 1.47484561 1.46481472\n",
      " 1.45679009 1.46512342 1.48209871 1.48425919 1.50030859 1.47916657\n",
      " 1.49984564 1.49506161 1.51234561 1.50540121 1.52037025 1.53225303\n",
      " 1.52978383 1.54922831 1.54907396 1.5435184  1.5819444  1.6030863\n",
      " 1.58688267 1.6118826  1.62021594 1.63888877 1.62962952 1.5794752\n",
      " 1.59722215 1.60231477 1.58564807 1.58719125 1.58904315 1.58641973\n",
      " 1.56898138 1.60200607 1.60709868 1.60123452 1.62114195 1.62407397\n",
      " 1.62685175 1.6276234  1.62669752 1.628858   1.62515421 1.63966042\n",
      " 1.62623445 1.61959864 1.61898147 1.5130589 ]\n",
      "1 day output [[1.4331177]]\n",
      "2 day input [1.42145057 1.415895   1.43472217 1.45771597 1.47083323 1.42685177\n",
      " 1.4458333  1.39660487 1.44629624 1.41265427 1.40370362 1.38904318\n",
      " 1.38271595 1.37160483 1.36496903 1.36527773 1.3850308  1.40138879\n",
      " 1.42746907 1.43904314 1.43364194 1.42206787 1.40370362 1.407716\n",
      " 1.42962955 1.41697524 1.4367283  1.40632705 1.3932098  1.38888882\n",
      " 1.3708333  1.39598757 1.42793202 1.43749996 1.42160492 1.43287027\n",
      " 1.41435182 1.40200608 1.43950609 1.46481472 1.48070976 1.43842584\n",
      " 1.4373456  1.45864186 1.4612654  1.51064806 1.49228384 1.49290113\n",
      " 1.49645056 1.48827157 1.46280859 1.47484561 1.46481472 1.45679009\n",
      " 1.46512342 1.48209871 1.48425919 1.50030859 1.47916657 1.49984564\n",
      " 1.49506161 1.51234561 1.50540121 1.52037025 1.53225303 1.52978383\n",
      " 1.54922831 1.54907396 1.5435184  1.5819444  1.6030863  1.58688267\n",
      " 1.6118826  1.62021594 1.63888877 1.62962952 1.5794752  1.59722215\n",
      " 1.60231477 1.58564807 1.58719125 1.58904315 1.58641973 1.56898138\n",
      " 1.60200607 1.60709868 1.60123452 1.62114195 1.62407397 1.62685175\n",
      " 1.6276234  1.62669752 1.628858   1.62515421 1.63966042 1.62623445\n",
      " 1.61959864 1.61898147 1.5130589  1.43311775]\n",
      "2 day output [[1.3834647]]\n",
      "3 day input [1.415895   1.43472217 1.45771597 1.47083323 1.42685177 1.4458333\n",
      " 1.39660487 1.44629624 1.41265427 1.40370362 1.38904318 1.38271595\n",
      " 1.37160483 1.36496903 1.36527773 1.3850308  1.40138879 1.42746907\n",
      " 1.43904314 1.43364194 1.42206787 1.40370362 1.407716   1.42962955\n",
      " 1.41697524 1.4367283  1.40632705 1.3932098  1.38888882 1.3708333\n",
      " 1.39598757 1.42793202 1.43749996 1.42160492 1.43287027 1.41435182\n",
      " 1.40200608 1.43950609 1.46481472 1.48070976 1.43842584 1.4373456\n",
      " 1.45864186 1.4612654  1.51064806 1.49228384 1.49290113 1.49645056\n",
      " 1.48827157 1.46280859 1.47484561 1.46481472 1.45679009 1.46512342\n",
      " 1.48209871 1.48425919 1.50030859 1.47916657 1.49984564 1.49506161\n",
      " 1.51234561 1.50540121 1.52037025 1.53225303 1.52978383 1.54922831\n",
      " 1.54907396 1.5435184  1.5819444  1.6030863  1.58688267 1.6118826\n",
      " 1.62021594 1.63888877 1.62962952 1.5794752  1.59722215 1.60231477\n",
      " 1.58564807 1.58719125 1.58904315 1.58641973 1.56898138 1.60200607\n",
      " 1.60709868 1.60123452 1.62114195 1.62407397 1.62685175 1.6276234\n",
      " 1.62669752 1.628858   1.62515421 1.63966042 1.62623445 1.61959864\n",
      " 1.61898147 1.5130589  1.43311775 1.38346469]\n",
      "3 day output [[1.3419124]]\n",
      "4 day input [1.43472217 1.45771597 1.47083323 1.42685177 1.4458333  1.39660487\n",
      " 1.44629624 1.41265427 1.40370362 1.38904318 1.38271595 1.37160483\n",
      " 1.36496903 1.36527773 1.3850308  1.40138879 1.42746907 1.43904314\n",
      " 1.43364194 1.42206787 1.40370362 1.407716   1.42962955 1.41697524\n",
      " 1.4367283  1.40632705 1.3932098  1.38888882 1.3708333  1.39598757\n",
      " 1.42793202 1.43749996 1.42160492 1.43287027 1.41435182 1.40200608\n",
      " 1.43950609 1.46481472 1.48070976 1.43842584 1.4373456  1.45864186\n",
      " 1.4612654  1.51064806 1.49228384 1.49290113 1.49645056 1.48827157\n",
      " 1.46280859 1.47484561 1.46481472 1.45679009 1.46512342 1.48209871\n",
      " 1.48425919 1.50030859 1.47916657 1.49984564 1.49506161 1.51234561\n",
      " 1.50540121 1.52037025 1.53225303 1.52978383 1.54922831 1.54907396\n",
      " 1.5435184  1.5819444  1.6030863  1.58688267 1.6118826  1.62021594\n",
      " 1.63888877 1.62962952 1.5794752  1.59722215 1.60231477 1.58564807\n",
      " 1.58719125 1.58904315 1.58641973 1.56898138 1.60200607 1.60709868\n",
      " 1.60123452 1.62114195 1.62407397 1.62685175 1.6276234  1.62669752\n",
      " 1.628858   1.62515421 1.63966042 1.62623445 1.61959864 1.61898147\n",
      " 1.5130589  1.43311775 1.38346469 1.34191239]\n",
      "4 day output [[1.3059022]]\n",
      "5 day input [1.45771597 1.47083323 1.42685177 1.4458333  1.39660487 1.44629624\n",
      " 1.41265427 1.40370362 1.38904318 1.38271595 1.37160483 1.36496903\n",
      " 1.36527773 1.3850308  1.40138879 1.42746907 1.43904314 1.43364194\n",
      " 1.42206787 1.40370362 1.407716   1.42962955 1.41697524 1.4367283\n",
      " 1.40632705 1.3932098  1.38888882 1.3708333  1.39598757 1.42793202\n",
      " 1.43749996 1.42160492 1.43287027 1.41435182 1.40200608 1.43950609\n",
      " 1.46481472 1.48070976 1.43842584 1.4373456  1.45864186 1.4612654\n",
      " 1.51064806 1.49228384 1.49290113 1.49645056 1.48827157 1.46280859\n",
      " 1.47484561 1.46481472 1.45679009 1.46512342 1.48209871 1.48425919\n",
      " 1.50030859 1.47916657 1.49984564 1.49506161 1.51234561 1.50540121\n",
      " 1.52037025 1.53225303 1.52978383 1.54922831 1.54907396 1.5435184\n",
      " 1.5819444  1.6030863  1.58688267 1.6118826  1.62021594 1.63888877\n",
      " 1.62962952 1.5794752  1.59722215 1.60231477 1.58564807 1.58719125\n",
      " 1.58904315 1.58641973 1.56898138 1.60200607 1.60709868 1.60123452\n",
      " 1.62114195 1.62407397 1.62685175 1.6276234  1.62669752 1.628858\n",
      " 1.62515421 1.63966042 1.62623445 1.61959864 1.61898147 1.5130589\n",
      " 1.43311775 1.38346469 1.34191239 1.30590224]\n",
      "5 day output [[1.2764968]]\n",
      "6 day input [1.47083323 1.42685177 1.4458333  1.39660487 1.44629624 1.41265427\n",
      " 1.40370362 1.38904318 1.38271595 1.37160483 1.36496903 1.36527773\n",
      " 1.3850308  1.40138879 1.42746907 1.43904314 1.43364194 1.42206787\n",
      " 1.40370362 1.407716   1.42962955 1.41697524 1.4367283  1.40632705\n",
      " 1.3932098  1.38888882 1.3708333  1.39598757 1.42793202 1.43749996\n",
      " 1.42160492 1.43287027 1.41435182 1.40200608 1.43950609 1.46481472\n",
      " 1.48070976 1.43842584 1.4373456  1.45864186 1.4612654  1.51064806\n",
      " 1.49228384 1.49290113 1.49645056 1.48827157 1.46280859 1.47484561\n",
      " 1.46481472 1.45679009 1.46512342 1.48209871 1.48425919 1.50030859\n",
      " 1.47916657 1.49984564 1.49506161 1.51234561 1.50540121 1.52037025\n",
      " 1.53225303 1.52978383 1.54922831 1.54907396 1.5435184  1.5819444\n",
      " 1.6030863  1.58688267 1.6118826  1.62021594 1.63888877 1.62962952\n",
      " 1.5794752  1.59722215 1.60231477 1.58564807 1.58719125 1.58904315\n",
      " 1.58641973 1.56898138 1.60200607 1.60709868 1.60123452 1.62114195\n",
      " 1.62407397 1.62685175 1.6276234  1.62669752 1.628858   1.62515421\n",
      " 1.63966042 1.62623445 1.61959864 1.61898147 1.5130589  1.43311775\n",
      " 1.38346469 1.34191239 1.30590224 1.27649677]\n",
      "6 day output [[1.253026]]\n",
      "7 day input [1.42685177 1.4458333  1.39660487 1.44629624 1.41265427 1.40370362\n",
      " 1.38904318 1.38271595 1.37160483 1.36496903 1.36527773 1.3850308\n",
      " 1.40138879 1.42746907 1.43904314 1.43364194 1.42206787 1.40370362\n",
      " 1.407716   1.42962955 1.41697524 1.4367283  1.40632705 1.3932098\n",
      " 1.38888882 1.3708333  1.39598757 1.42793202 1.43749996 1.42160492\n",
      " 1.43287027 1.41435182 1.40200608 1.43950609 1.46481472 1.48070976\n",
      " 1.43842584 1.4373456  1.45864186 1.4612654  1.51064806 1.49228384\n",
      " 1.49290113 1.49645056 1.48827157 1.46280859 1.47484561 1.46481472\n",
      " 1.45679009 1.46512342 1.48209871 1.48425919 1.50030859 1.47916657\n",
      " 1.49984564 1.49506161 1.51234561 1.50540121 1.52037025 1.53225303\n",
      " 1.52978383 1.54922831 1.54907396 1.5435184  1.5819444  1.6030863\n",
      " 1.58688267 1.6118826  1.62021594 1.63888877 1.62962952 1.5794752\n",
      " 1.59722215 1.60231477 1.58564807 1.58719125 1.58904315 1.58641973\n",
      " 1.56898138 1.60200607 1.60709868 1.60123452 1.62114195 1.62407397\n",
      " 1.62685175 1.6276234  1.62669752 1.628858   1.62515421 1.63966042\n",
      " 1.62623445 1.61959864 1.61898147 1.5130589  1.43311775 1.38346469\n",
      " 1.34191239 1.30590224 1.27649677 1.25302601]\n",
      "7 day output [[1.2340178]]\n",
      "8 day input [1.4458333  1.39660487 1.44629624 1.41265427 1.40370362 1.38904318\n",
      " 1.38271595 1.37160483 1.36496903 1.36527773 1.3850308  1.40138879\n",
      " 1.42746907 1.43904314 1.43364194 1.42206787 1.40370362 1.407716\n",
      " 1.42962955 1.41697524 1.4367283  1.40632705 1.3932098  1.38888882\n",
      " 1.3708333  1.39598757 1.42793202 1.43749996 1.42160492 1.43287027\n",
      " 1.41435182 1.40200608 1.43950609 1.46481472 1.48070976 1.43842584\n",
      " 1.4373456  1.45864186 1.4612654  1.51064806 1.49228384 1.49290113\n",
      " 1.49645056 1.48827157 1.46280859 1.47484561 1.46481472 1.45679009\n",
      " 1.46512342 1.48209871 1.48425919 1.50030859 1.47916657 1.49984564\n",
      " 1.49506161 1.51234561 1.50540121 1.52037025 1.53225303 1.52978383\n",
      " 1.54922831 1.54907396 1.5435184  1.5819444  1.6030863  1.58688267\n",
      " 1.6118826  1.62021594 1.63888877 1.62962952 1.5794752  1.59722215\n",
      " 1.60231477 1.58564807 1.58719125 1.58904315 1.58641973 1.56898138\n",
      " 1.60200607 1.60709868 1.60123452 1.62114195 1.62407397 1.62685175\n",
      " 1.6276234  1.62669752 1.628858   1.62515421 1.63966042 1.62623445\n",
      " 1.61959864 1.61898147 1.5130589  1.43311775 1.38346469 1.34191239\n",
      " 1.30590224 1.27649677 1.25302601 1.23401785]\n"
     ]
    },
    {
     "name": "stdout",
     "output_type": "stream",
     "text": [
      "8 day output [[1.2180662]]\n",
      "9 day input [1.39660487 1.44629624 1.41265427 1.40370362 1.38904318 1.38271595\n",
      " 1.37160483 1.36496903 1.36527773 1.3850308  1.40138879 1.42746907\n",
      " 1.43904314 1.43364194 1.42206787 1.40370362 1.407716   1.42962955\n",
      " 1.41697524 1.4367283  1.40632705 1.3932098  1.38888882 1.3708333\n",
      " 1.39598757 1.42793202 1.43749996 1.42160492 1.43287027 1.41435182\n",
      " 1.40200608 1.43950609 1.46481472 1.48070976 1.43842584 1.4373456\n",
      " 1.45864186 1.4612654  1.51064806 1.49228384 1.49290113 1.49645056\n",
      " 1.48827157 1.46280859 1.47484561 1.46481472 1.45679009 1.46512342\n",
      " 1.48209871 1.48425919 1.50030859 1.47916657 1.49984564 1.49506161\n",
      " 1.51234561 1.50540121 1.52037025 1.53225303 1.52978383 1.54922831\n",
      " 1.54907396 1.5435184  1.5819444  1.6030863  1.58688267 1.6118826\n",
      " 1.62021594 1.63888877 1.62962952 1.5794752  1.59722215 1.60231477\n",
      " 1.58564807 1.58719125 1.58904315 1.58641973 1.56898138 1.60200607\n",
      " 1.60709868 1.60123452 1.62114195 1.62407397 1.62685175 1.6276234\n",
      " 1.62669752 1.628858   1.62515421 1.63966042 1.62623445 1.61959864\n",
      " 1.61898147 1.5130589  1.43311775 1.38346469 1.34191239 1.30590224\n",
      " 1.27649677 1.25302601 1.23401785 1.21806622]\n",
      "9 day output [[1.2040783]]\n",
      "10 day input [1.44629624 1.41265427 1.40370362 1.38904318 1.38271595 1.37160483\n",
      " 1.36496903 1.36527773 1.3850308  1.40138879 1.42746907 1.43904314\n",
      " 1.43364194 1.42206787 1.40370362 1.407716   1.42962955 1.41697524\n",
      " 1.4367283  1.40632705 1.3932098  1.38888882 1.3708333  1.39598757\n",
      " 1.42793202 1.43749996 1.42160492 1.43287027 1.41435182 1.40200608\n",
      " 1.43950609 1.46481472 1.48070976 1.43842584 1.4373456  1.45864186\n",
      " 1.4612654  1.51064806 1.49228384 1.49290113 1.49645056 1.48827157\n",
      " 1.46280859 1.47484561 1.46481472 1.45679009 1.46512342 1.48209871\n",
      " 1.48425919 1.50030859 1.47916657 1.49984564 1.49506161 1.51234561\n",
      " 1.50540121 1.52037025 1.53225303 1.52978383 1.54922831 1.54907396\n",
      " 1.5435184  1.5819444  1.6030863  1.58688267 1.6118826  1.62021594\n",
      " 1.63888877 1.62962952 1.5794752  1.59722215 1.60231477 1.58564807\n",
      " 1.58719125 1.58904315 1.58641973 1.56898138 1.60200607 1.60709868\n",
      " 1.60123452 1.62114195 1.62407397 1.62685175 1.6276234  1.62669752\n",
      " 1.628858   1.62515421 1.63966042 1.62623445 1.61959864 1.61898147\n",
      " 1.5130589  1.43311775 1.38346469 1.34191239 1.30590224 1.27649677\n",
      " 1.25302601 1.23401785 1.21806622 1.20407832]\n",
      "10 day output [[1.1912732]]\n",
      "11 day input [1.41265427 1.40370362 1.38904318 1.38271595 1.37160483 1.36496903\n",
      " 1.36527773 1.3850308  1.40138879 1.42746907 1.43904314 1.43364194\n",
      " 1.42206787 1.40370362 1.407716   1.42962955 1.41697524 1.4367283\n",
      " 1.40632705 1.3932098  1.38888882 1.3708333  1.39598757 1.42793202\n",
      " 1.43749996 1.42160492 1.43287027 1.41435182 1.40200608 1.43950609\n",
      " 1.46481472 1.48070976 1.43842584 1.4373456  1.45864186 1.4612654\n",
      " 1.51064806 1.49228384 1.49290113 1.49645056 1.48827157 1.46280859\n",
      " 1.47484561 1.46481472 1.45679009 1.46512342 1.48209871 1.48425919\n",
      " 1.50030859 1.47916657 1.49984564 1.49506161 1.51234561 1.50540121\n",
      " 1.52037025 1.53225303 1.52978383 1.54922831 1.54907396 1.5435184\n",
      " 1.5819444  1.6030863  1.58688267 1.6118826  1.62021594 1.63888877\n",
      " 1.62962952 1.5794752  1.59722215 1.60231477 1.58564807 1.58719125\n",
      " 1.58904315 1.58641973 1.56898138 1.60200607 1.60709868 1.60123452\n",
      " 1.62114195 1.62407397 1.62685175 1.6276234  1.62669752 1.628858\n",
      " 1.62515421 1.63966042 1.62623445 1.61959864 1.61898147 1.5130589\n",
      " 1.43311775 1.38346469 1.34191239 1.30590224 1.27649677 1.25302601\n",
      " 1.23401785 1.21806622 1.20407832 1.19127321]\n",
      "11 day output [[1.1791282]]\n",
      "12 day input [1.40370362 1.38904318 1.38271595 1.37160483 1.36496903 1.36527773\n",
      " 1.3850308  1.40138879 1.42746907 1.43904314 1.43364194 1.42206787\n",
      " 1.40370362 1.407716   1.42962955 1.41697524 1.4367283  1.40632705\n",
      " 1.3932098  1.38888882 1.3708333  1.39598757 1.42793202 1.43749996\n",
      " 1.42160492 1.43287027 1.41435182 1.40200608 1.43950609 1.46481472\n",
      " 1.48070976 1.43842584 1.4373456  1.45864186 1.4612654  1.51064806\n",
      " 1.49228384 1.49290113 1.49645056 1.48827157 1.46280859 1.47484561\n",
      " 1.46481472 1.45679009 1.46512342 1.48209871 1.48425919 1.50030859\n",
      " 1.47916657 1.49984564 1.49506161 1.51234561 1.50540121 1.52037025\n",
      " 1.53225303 1.52978383 1.54922831 1.54907396 1.5435184  1.5819444\n",
      " 1.6030863  1.58688267 1.6118826  1.62021594 1.63888877 1.62962952\n",
      " 1.5794752  1.59722215 1.60231477 1.58564807 1.58719125 1.58904315\n",
      " 1.58641973 1.56898138 1.60200607 1.60709868 1.60123452 1.62114195\n",
      " 1.62407397 1.62685175 1.6276234  1.62669752 1.628858   1.62515421\n",
      " 1.63966042 1.62623445 1.61959864 1.61898147 1.5130589  1.43311775\n",
      " 1.38346469 1.34191239 1.30590224 1.27649677 1.25302601 1.23401785\n",
      " 1.21806622 1.20407832 1.19127321 1.17912817]\n",
      "12 day output [[1.1673207]]\n",
      "13 day input [1.38904318 1.38271595 1.37160483 1.36496903 1.36527773 1.3850308\n",
      " 1.40138879 1.42746907 1.43904314 1.43364194 1.42206787 1.40370362\n",
      " 1.407716   1.42962955 1.41697524 1.4367283  1.40632705 1.3932098\n",
      " 1.38888882 1.3708333  1.39598757 1.42793202 1.43749996 1.42160492\n",
      " 1.43287027 1.41435182 1.40200608 1.43950609 1.46481472 1.48070976\n",
      " 1.43842584 1.4373456  1.45864186 1.4612654  1.51064806 1.49228384\n",
      " 1.49290113 1.49645056 1.48827157 1.46280859 1.47484561 1.46481472\n",
      " 1.45679009 1.46512342 1.48209871 1.48425919 1.50030859 1.47916657\n",
      " 1.49984564 1.49506161 1.51234561 1.50540121 1.52037025 1.53225303\n",
      " 1.52978383 1.54922831 1.54907396 1.5435184  1.5819444  1.6030863\n",
      " 1.58688267 1.6118826  1.62021594 1.63888877 1.62962952 1.5794752\n",
      " 1.59722215 1.60231477 1.58564807 1.58719125 1.58904315 1.58641973\n",
      " 1.56898138 1.60200607 1.60709868 1.60123452 1.62114195 1.62407397\n",
      " 1.62685175 1.6276234  1.62669752 1.628858   1.62515421 1.63966042\n",
      " 1.62623445 1.61959864 1.61898147 1.5130589  1.43311775 1.38346469\n",
      " 1.34191239 1.30590224 1.27649677 1.25302601 1.23401785 1.21806622\n",
      " 1.20407832 1.19127321 1.17912817 1.16732073]\n",
      "13 day output [[1.1556754]]\n",
      "14 day input [1.38271595 1.37160483 1.36496903 1.36527773 1.3850308  1.40138879\n",
      " 1.42746907 1.43904314 1.43364194 1.42206787 1.40370362 1.407716\n",
      " 1.42962955 1.41697524 1.4367283  1.40632705 1.3932098  1.38888882\n",
      " 1.3708333  1.39598757 1.42793202 1.43749996 1.42160492 1.43287027\n",
      " 1.41435182 1.40200608 1.43950609 1.46481472 1.48070976 1.43842584\n",
      " 1.4373456  1.45864186 1.4612654  1.51064806 1.49228384 1.49290113\n",
      " 1.49645056 1.48827157 1.46280859 1.47484561 1.46481472 1.45679009\n",
      " 1.46512342 1.48209871 1.48425919 1.50030859 1.47916657 1.49984564\n",
      " 1.49506161 1.51234561 1.50540121 1.52037025 1.53225303 1.52978383\n",
      " 1.54922831 1.54907396 1.5435184  1.5819444  1.6030863  1.58688267\n",
      " 1.6118826  1.62021594 1.63888877 1.62962952 1.5794752  1.59722215\n",
      " 1.60231477 1.58564807 1.58719125 1.58904315 1.58641973 1.56898138\n",
      " 1.60200607 1.60709868 1.60123452 1.62114195 1.62407397 1.62685175\n",
      " 1.6276234  1.62669752 1.628858   1.62515421 1.63966042 1.62623445\n",
      " 1.61959864 1.61898147 1.5130589  1.43311775 1.38346469 1.34191239\n",
      " 1.30590224 1.27649677 1.25302601 1.23401785 1.21806622 1.20407832\n",
      " 1.19127321 1.17912817 1.16732073 1.15567541]\n",
      "14 day output [[1.1441188]]\n",
      "15 day input [1.37160483 1.36496903 1.36527773 1.3850308  1.40138879 1.42746907\n",
      " 1.43904314 1.43364194 1.42206787 1.40370362 1.407716   1.42962955\n",
      " 1.41697524 1.4367283  1.40632705 1.3932098  1.38888882 1.3708333\n",
      " 1.39598757 1.42793202 1.43749996 1.42160492 1.43287027 1.41435182\n",
      " 1.40200608 1.43950609 1.46481472 1.48070976 1.43842584 1.4373456\n",
      " 1.45864186 1.4612654  1.51064806 1.49228384 1.49290113 1.49645056\n",
      " 1.48827157 1.46280859 1.47484561 1.46481472 1.45679009 1.46512342\n",
      " 1.48209871 1.48425919 1.50030859 1.47916657 1.49984564 1.49506161\n",
      " 1.51234561 1.50540121 1.52037025 1.53225303 1.52978383 1.54922831\n",
      " 1.54907396 1.5435184  1.5819444  1.6030863  1.58688267 1.6118826\n",
      " 1.62021594 1.63888877 1.62962952 1.5794752  1.59722215 1.60231477\n",
      " 1.58564807 1.58719125 1.58904315 1.58641973 1.56898138 1.60200607\n",
      " 1.60709868 1.60123452 1.62114195 1.62407397 1.62685175 1.6276234\n",
      " 1.62669752 1.628858   1.62515421 1.63966042 1.62623445 1.61959864\n",
      " 1.61898147 1.5130589  1.43311775 1.38346469 1.34191239 1.30590224\n",
      " 1.27649677 1.25302601 1.23401785 1.21806622 1.20407832 1.19127321\n",
      " 1.17912817 1.16732073 1.15567541 1.14411879]\n",
      "15 day output [[1.1326413]]\n",
      "16 day input [1.36496903 1.36527773 1.3850308  1.40138879 1.42746907 1.43904314\n",
      " 1.43364194 1.42206787 1.40370362 1.407716   1.42962955 1.41697524\n",
      " 1.4367283  1.40632705 1.3932098  1.38888882 1.3708333  1.39598757\n",
      " 1.42793202 1.43749996 1.42160492 1.43287027 1.41435182 1.40200608\n",
      " 1.43950609 1.46481472 1.48070976 1.43842584 1.4373456  1.45864186\n",
      " 1.4612654  1.51064806 1.49228384 1.49290113 1.49645056 1.48827157\n",
      " 1.46280859 1.47484561 1.46481472 1.45679009 1.46512342 1.48209871\n",
      " 1.48425919 1.50030859 1.47916657 1.49984564 1.49506161 1.51234561\n",
      " 1.50540121 1.52037025 1.53225303 1.52978383 1.54922831 1.54907396\n",
      " 1.5435184  1.5819444  1.6030863  1.58688267 1.6118826  1.62021594\n",
      " 1.63888877 1.62962952 1.5794752  1.59722215 1.60231477 1.58564807\n",
      " 1.58719125 1.58904315 1.58641973 1.56898138 1.60200607 1.60709868\n",
      " 1.60123452 1.62114195 1.62407397 1.62685175 1.6276234  1.62669752\n",
      " 1.628858   1.62515421 1.63966042 1.62623445 1.61959864 1.61898147\n",
      " 1.5130589  1.43311775 1.38346469 1.34191239 1.30590224 1.27649677\n",
      " 1.25302601 1.23401785 1.21806622 1.20407832 1.19127321 1.17912817\n",
      " 1.16732073 1.15567541 1.14411879 1.13264132]\n"
     ]
    },
    {
     "name": "stdout",
     "output_type": "stream",
     "text": [
      "16 day output [[1.1212691]]\n",
      "17 day input [1.36527773 1.3850308  1.40138879 1.42746907 1.43904314 1.43364194\n",
      " 1.42206787 1.40370362 1.407716   1.42962955 1.41697524 1.4367283\n",
      " 1.40632705 1.3932098  1.38888882 1.3708333  1.39598757 1.42793202\n",
      " 1.43749996 1.42160492 1.43287027 1.41435182 1.40200608 1.43950609\n",
      " 1.46481472 1.48070976 1.43842584 1.4373456  1.45864186 1.4612654\n",
      " 1.51064806 1.49228384 1.49290113 1.49645056 1.48827157 1.46280859\n",
      " 1.47484561 1.46481472 1.45679009 1.46512342 1.48209871 1.48425919\n",
      " 1.50030859 1.47916657 1.49984564 1.49506161 1.51234561 1.50540121\n",
      " 1.52037025 1.53225303 1.52978383 1.54922831 1.54907396 1.5435184\n",
      " 1.5819444  1.6030863  1.58688267 1.6118826  1.62021594 1.63888877\n",
      " 1.62962952 1.5794752  1.59722215 1.60231477 1.58564807 1.58719125\n",
      " 1.58904315 1.58641973 1.56898138 1.60200607 1.60709868 1.60123452\n",
      " 1.62114195 1.62407397 1.62685175 1.6276234  1.62669752 1.628858\n",
      " 1.62515421 1.63966042 1.62623445 1.61959864 1.61898147 1.5130589\n",
      " 1.43311775 1.38346469 1.34191239 1.30590224 1.27649677 1.25302601\n",
      " 1.23401785 1.21806622 1.20407832 1.19127321 1.17912817 1.16732073\n",
      " 1.15567541 1.14411879 1.13264132 1.12126911]\n",
      "17 day output [[1.1100425]]\n",
      "18 day input [1.3850308  1.40138879 1.42746907 1.43904314 1.43364194 1.42206787\n",
      " 1.40370362 1.407716   1.42962955 1.41697524 1.4367283  1.40632705\n",
      " 1.3932098  1.38888882 1.3708333  1.39598757 1.42793202 1.43749996\n",
      " 1.42160492 1.43287027 1.41435182 1.40200608 1.43950609 1.46481472\n",
      " 1.48070976 1.43842584 1.4373456  1.45864186 1.4612654  1.51064806\n",
      " 1.49228384 1.49290113 1.49645056 1.48827157 1.46280859 1.47484561\n",
      " 1.46481472 1.45679009 1.46512342 1.48209871 1.48425919 1.50030859\n",
      " 1.47916657 1.49984564 1.49506161 1.51234561 1.50540121 1.52037025\n",
      " 1.53225303 1.52978383 1.54922831 1.54907396 1.5435184  1.5819444\n",
      " 1.6030863  1.58688267 1.6118826  1.62021594 1.63888877 1.62962952\n",
      " 1.5794752  1.59722215 1.60231477 1.58564807 1.58719125 1.58904315\n",
      " 1.58641973 1.56898138 1.60200607 1.60709868 1.60123452 1.62114195\n",
      " 1.62407397 1.62685175 1.6276234  1.62669752 1.628858   1.62515421\n",
      " 1.63966042 1.62623445 1.61959864 1.61898147 1.5130589  1.43311775\n",
      " 1.38346469 1.34191239 1.30590224 1.27649677 1.25302601 1.23401785\n",
      " 1.21806622 1.20407832 1.19127321 1.17912817 1.16732073 1.15567541\n",
      " 1.14411879 1.13264132 1.12126911 1.11004245]\n",
      "18 day output [[1.0990025]]\n",
      "19 day input [1.40138879 1.42746907 1.43904314 1.43364194 1.42206787 1.40370362\n",
      " 1.407716   1.42962955 1.41697524 1.4367283  1.40632705 1.3932098\n",
      " 1.38888882 1.3708333  1.39598757 1.42793202 1.43749996 1.42160492\n",
      " 1.43287027 1.41435182 1.40200608 1.43950609 1.46481472 1.48070976\n",
      " 1.43842584 1.4373456  1.45864186 1.4612654  1.51064806 1.49228384\n",
      " 1.49290113 1.49645056 1.48827157 1.46280859 1.47484561 1.46481472\n",
      " 1.45679009 1.46512342 1.48209871 1.48425919 1.50030859 1.47916657\n",
      " 1.49984564 1.49506161 1.51234561 1.50540121 1.52037025 1.53225303\n",
      " 1.52978383 1.54922831 1.54907396 1.5435184  1.5819444  1.6030863\n",
      " 1.58688267 1.6118826  1.62021594 1.63888877 1.62962952 1.5794752\n",
      " 1.59722215 1.60231477 1.58564807 1.58719125 1.58904315 1.58641973\n",
      " 1.56898138 1.60200607 1.60709868 1.60123452 1.62114195 1.62407397\n",
      " 1.62685175 1.6276234  1.62669752 1.628858   1.62515421 1.63966042\n",
      " 1.62623445 1.61959864 1.61898147 1.5130589  1.43311775 1.38346469\n",
      " 1.34191239 1.30590224 1.27649677 1.25302601 1.23401785 1.21806622\n",
      " 1.20407832 1.19127321 1.17912817 1.16732073 1.15567541 1.14411879\n",
      " 1.13264132 1.12126911 1.11004245 1.09900248]\n",
      "19 day output [[1.088184]]\n",
      "20 day input [1.42746907 1.43904314 1.43364194 1.42206787 1.40370362 1.407716\n",
      " 1.42962955 1.41697524 1.4367283  1.40632705 1.3932098  1.38888882\n",
      " 1.3708333  1.39598757 1.42793202 1.43749996 1.42160492 1.43287027\n",
      " 1.41435182 1.40200608 1.43950609 1.46481472 1.48070976 1.43842584\n",
      " 1.4373456  1.45864186 1.4612654  1.51064806 1.49228384 1.49290113\n",
      " 1.49645056 1.48827157 1.46280859 1.47484561 1.46481472 1.45679009\n",
      " 1.46512342 1.48209871 1.48425919 1.50030859 1.47916657 1.49984564\n",
      " 1.49506161 1.51234561 1.50540121 1.52037025 1.53225303 1.52978383\n",
      " 1.54922831 1.54907396 1.5435184  1.5819444  1.6030863  1.58688267\n",
      " 1.6118826  1.62021594 1.63888877 1.62962952 1.5794752  1.59722215\n",
      " 1.60231477 1.58564807 1.58719125 1.58904315 1.58641973 1.56898138\n",
      " 1.60200607 1.60709868 1.60123452 1.62114195 1.62407397 1.62685175\n",
      " 1.6276234  1.62669752 1.628858   1.62515421 1.63966042 1.62623445\n",
      " 1.61959864 1.61898147 1.5130589  1.43311775 1.38346469 1.34191239\n",
      " 1.30590224 1.27649677 1.25302601 1.23401785 1.21806622 1.20407832\n",
      " 1.19127321 1.17912817 1.16732073 1.15567541 1.14411879 1.13264132\n",
      " 1.12126911 1.11004245 1.09900248 1.088184  ]\n",
      "20 day output [[1.0776103]]\n",
      "21 day input [1.43904314 1.43364194 1.42206787 1.40370362 1.407716   1.42962955\n",
      " 1.41697524 1.4367283  1.40632705 1.3932098  1.38888882 1.3708333\n",
      " 1.39598757 1.42793202 1.43749996 1.42160492 1.43287027 1.41435182\n",
      " 1.40200608 1.43950609 1.46481472 1.48070976 1.43842584 1.4373456\n",
      " 1.45864186 1.4612654  1.51064806 1.49228384 1.49290113 1.49645056\n",
      " 1.48827157 1.46280859 1.47484561 1.46481472 1.45679009 1.46512342\n",
      " 1.48209871 1.48425919 1.50030859 1.47916657 1.49984564 1.49506161\n",
      " 1.51234561 1.50540121 1.52037025 1.53225303 1.52978383 1.54922831\n",
      " 1.54907396 1.5435184  1.5819444  1.6030863  1.58688267 1.6118826\n",
      " 1.62021594 1.63888877 1.62962952 1.5794752  1.59722215 1.60231477\n",
      " 1.58564807 1.58719125 1.58904315 1.58641973 1.56898138 1.60200607\n",
      " 1.60709868 1.60123452 1.62114195 1.62407397 1.62685175 1.6276234\n",
      " 1.62669752 1.628858   1.62515421 1.63966042 1.62623445 1.61959864\n",
      " 1.61898147 1.5130589  1.43311775 1.38346469 1.34191239 1.30590224\n",
      " 1.27649677 1.25302601 1.23401785 1.21806622 1.20407832 1.19127321\n",
      " 1.17912817 1.16732073 1.15567541 1.14411879 1.13264132 1.12126911\n",
      " 1.11004245 1.09900248 1.088184   1.07761025]\n",
      "21 day output [[1.0672945]]\n",
      "22 day input [1.43364194 1.42206787 1.40370362 1.407716   1.42962955 1.41697524\n",
      " 1.4367283  1.40632705 1.3932098  1.38888882 1.3708333  1.39598757\n",
      " 1.42793202 1.43749996 1.42160492 1.43287027 1.41435182 1.40200608\n",
      " 1.43950609 1.46481472 1.48070976 1.43842584 1.4373456  1.45864186\n",
      " 1.4612654  1.51064806 1.49228384 1.49290113 1.49645056 1.48827157\n",
      " 1.46280859 1.47484561 1.46481472 1.45679009 1.46512342 1.48209871\n",
      " 1.48425919 1.50030859 1.47916657 1.49984564 1.49506161 1.51234561\n",
      " 1.50540121 1.52037025 1.53225303 1.52978383 1.54922831 1.54907396\n",
      " 1.5435184  1.5819444  1.6030863  1.58688267 1.6118826  1.62021594\n",
      " 1.63888877 1.62962952 1.5794752  1.59722215 1.60231477 1.58564807\n",
      " 1.58719125 1.58904315 1.58641973 1.56898138 1.60200607 1.60709868\n",
      " 1.60123452 1.62114195 1.62407397 1.62685175 1.6276234  1.62669752\n",
      " 1.628858   1.62515421 1.63966042 1.62623445 1.61959864 1.61898147\n",
      " 1.5130589  1.43311775 1.38346469 1.34191239 1.30590224 1.27649677\n",
      " 1.25302601 1.23401785 1.21806622 1.20407832 1.19127321 1.17912817\n",
      " 1.16732073 1.15567541 1.14411879 1.13264132 1.12126911 1.11004245\n",
      " 1.09900248 1.088184   1.07761025 1.06729448]\n",
      "22 day output [[1.0572393]]\n",
      "23 day input [1.42206787 1.40370362 1.407716   1.42962955 1.41697524 1.4367283\n",
      " 1.40632705 1.3932098  1.38888882 1.3708333  1.39598757 1.42793202\n",
      " 1.43749996 1.42160492 1.43287027 1.41435182 1.40200608 1.43950609\n",
      " 1.46481472 1.48070976 1.43842584 1.4373456  1.45864186 1.4612654\n",
      " 1.51064806 1.49228384 1.49290113 1.49645056 1.48827157 1.46280859\n",
      " 1.47484561 1.46481472 1.45679009 1.46512342 1.48209871 1.48425919\n",
      " 1.50030859 1.47916657 1.49984564 1.49506161 1.51234561 1.50540121\n",
      " 1.52037025 1.53225303 1.52978383 1.54922831 1.54907396 1.5435184\n",
      " 1.5819444  1.6030863  1.58688267 1.6118826  1.62021594 1.63888877\n",
      " 1.62962952 1.5794752  1.59722215 1.60231477 1.58564807 1.58719125\n",
      " 1.58904315 1.58641973 1.56898138 1.60200607 1.60709868 1.60123452\n",
      " 1.62114195 1.62407397 1.62685175 1.6276234  1.62669752 1.628858\n",
      " 1.62515421 1.63966042 1.62623445 1.61959864 1.61898147 1.5130589\n",
      " 1.43311775 1.38346469 1.34191239 1.30590224 1.27649677 1.25302601\n",
      " 1.23401785 1.21806622 1.20407832 1.19127321 1.17912817 1.16732073\n",
      " 1.15567541 1.14411879 1.13264132 1.12126911 1.11004245 1.09900248\n",
      " 1.088184   1.07761025 1.06729448 1.05723929]\n",
      "23 day output [[1.0474399]]\n",
      "24 day input [1.40370362 1.407716   1.42962955 1.41697524 1.4367283  1.40632705\n",
      " 1.3932098  1.38888882 1.3708333  1.39598757 1.42793202 1.43749996\n",
      " 1.42160492 1.43287027 1.41435182 1.40200608 1.43950609 1.46481472\n",
      " 1.48070976 1.43842584 1.4373456  1.45864186 1.4612654  1.51064806\n",
      " 1.49228384 1.49290113 1.49645056 1.48827157 1.46280859 1.47484561\n",
      " 1.46481472 1.45679009 1.46512342 1.48209871 1.48425919 1.50030859\n",
      " 1.47916657 1.49984564 1.49506161 1.51234561 1.50540121 1.52037025\n",
      " 1.53225303 1.52978383 1.54922831 1.54907396 1.5435184  1.5819444\n",
      " 1.6030863  1.58688267 1.6118826  1.62021594 1.63888877 1.62962952\n",
      " 1.5794752  1.59722215 1.60231477 1.58564807 1.58719125 1.58904315\n",
      " 1.58641973 1.56898138 1.60200607 1.60709868 1.60123452 1.62114195\n",
      " 1.62407397 1.62685175 1.6276234  1.62669752 1.628858   1.62515421\n",
      " 1.63966042 1.62623445 1.61959864 1.61898147 1.5130589  1.43311775\n",
      " 1.38346469 1.34191239 1.30590224 1.27649677 1.25302601 1.23401785\n",
      " 1.21806622 1.20407832 1.19127321 1.17912817 1.16732073 1.15567541\n",
      " 1.14411879 1.13264132 1.12126911 1.11004245 1.09900248 1.088184\n",
      " 1.07761025 1.06729448 1.05723929 1.04743993]\n"
     ]
    },
    {
     "name": "stdout",
     "output_type": "stream",
     "text": [
      "24 day output [[1.0378855]]\n",
      "25 day input [1.407716   1.42962955 1.41697524 1.4367283  1.40632705 1.3932098\n",
      " 1.38888882 1.3708333  1.39598757 1.42793202 1.43749996 1.42160492\n",
      " 1.43287027 1.41435182 1.40200608 1.43950609 1.46481472 1.48070976\n",
      " 1.43842584 1.4373456  1.45864186 1.4612654  1.51064806 1.49228384\n",
      " 1.49290113 1.49645056 1.48827157 1.46280859 1.47484561 1.46481472\n",
      " 1.45679009 1.46512342 1.48209871 1.48425919 1.50030859 1.47916657\n",
      " 1.49984564 1.49506161 1.51234561 1.50540121 1.52037025 1.53225303\n",
      " 1.52978383 1.54922831 1.54907396 1.5435184  1.5819444  1.6030863\n",
      " 1.58688267 1.6118826  1.62021594 1.63888877 1.62962952 1.5794752\n",
      " 1.59722215 1.60231477 1.58564807 1.58719125 1.58904315 1.58641973\n",
      " 1.56898138 1.60200607 1.60709868 1.60123452 1.62114195 1.62407397\n",
      " 1.62685175 1.6276234  1.62669752 1.628858   1.62515421 1.63966042\n",
      " 1.62623445 1.61959864 1.61898147 1.5130589  1.43311775 1.38346469\n",
      " 1.34191239 1.30590224 1.27649677 1.25302601 1.23401785 1.21806622\n",
      " 1.20407832 1.19127321 1.17912817 1.16732073 1.15567541 1.14411879\n",
      " 1.13264132 1.12126911 1.11004245 1.09900248 1.088184   1.07761025\n",
      " 1.06729448 1.05723929 1.04743993 1.03788555]\n",
      "25 day output [[1.0285621]]\n",
      "26 day input [1.42962955 1.41697524 1.4367283  1.40632705 1.3932098  1.38888882\n",
      " 1.3708333  1.39598757 1.42793202 1.43749996 1.42160492 1.43287027\n",
      " 1.41435182 1.40200608 1.43950609 1.46481472 1.48070976 1.43842584\n",
      " 1.4373456  1.45864186 1.4612654  1.51064806 1.49228384 1.49290113\n",
      " 1.49645056 1.48827157 1.46280859 1.47484561 1.46481472 1.45679009\n",
      " 1.46512342 1.48209871 1.48425919 1.50030859 1.47916657 1.49984564\n",
      " 1.49506161 1.51234561 1.50540121 1.52037025 1.53225303 1.52978383\n",
      " 1.54922831 1.54907396 1.5435184  1.5819444  1.6030863  1.58688267\n",
      " 1.6118826  1.62021594 1.63888877 1.62962952 1.5794752  1.59722215\n",
      " 1.60231477 1.58564807 1.58719125 1.58904315 1.58641973 1.56898138\n",
      " 1.60200607 1.60709868 1.60123452 1.62114195 1.62407397 1.62685175\n",
      " 1.6276234  1.62669752 1.628858   1.62515421 1.63966042 1.62623445\n",
      " 1.61959864 1.61898147 1.5130589  1.43311775 1.38346469 1.34191239\n",
      " 1.30590224 1.27649677 1.25302601 1.23401785 1.21806622 1.20407832\n",
      " 1.19127321 1.17912817 1.16732073 1.15567541 1.14411879 1.13264132\n",
      " 1.12126911 1.11004245 1.09900248 1.088184   1.07761025 1.06729448\n",
      " 1.05723929 1.04743993 1.03788555 1.02856207]\n",
      "26 day output [[1.0194532]]\n",
      "27 day input [1.41697524 1.4367283  1.40632705 1.3932098  1.38888882 1.3708333\n",
      " 1.39598757 1.42793202 1.43749996 1.42160492 1.43287027 1.41435182\n",
      " 1.40200608 1.43950609 1.46481472 1.48070976 1.43842584 1.4373456\n",
      " 1.45864186 1.4612654  1.51064806 1.49228384 1.49290113 1.49645056\n",
      " 1.48827157 1.46280859 1.47484561 1.46481472 1.45679009 1.46512342\n",
      " 1.48209871 1.48425919 1.50030859 1.47916657 1.49984564 1.49506161\n",
      " 1.51234561 1.50540121 1.52037025 1.53225303 1.52978383 1.54922831\n",
      " 1.54907396 1.5435184  1.5819444  1.6030863  1.58688267 1.6118826\n",
      " 1.62021594 1.63888877 1.62962952 1.5794752  1.59722215 1.60231477\n",
      " 1.58564807 1.58719125 1.58904315 1.58641973 1.56898138 1.60200607\n",
      " 1.60709868 1.60123452 1.62114195 1.62407397 1.62685175 1.6276234\n",
      " 1.62669752 1.628858   1.62515421 1.63966042 1.62623445 1.61959864\n",
      " 1.61898147 1.5130589  1.43311775 1.38346469 1.34191239 1.30590224\n",
      " 1.27649677 1.25302601 1.23401785 1.21806622 1.20407832 1.19127321\n",
      " 1.17912817 1.16732073 1.15567541 1.14411879 1.13264132 1.12126911\n",
      " 1.11004245 1.09900248 1.088184   1.07761025 1.06729448 1.05723929\n",
      " 1.04743993 1.03788555 1.02856207 1.01945317]\n",
      "27 day output [[1.0105426]]\n",
      "28 day input [1.4367283  1.40632705 1.3932098  1.38888882 1.3708333  1.39598757\n",
      " 1.42793202 1.43749996 1.42160492 1.43287027 1.41435182 1.40200608\n",
      " 1.43950609 1.46481472 1.48070976 1.43842584 1.4373456  1.45864186\n",
      " 1.4612654  1.51064806 1.49228384 1.49290113 1.49645056 1.48827157\n",
      " 1.46280859 1.47484561 1.46481472 1.45679009 1.46512342 1.48209871\n",
      " 1.48425919 1.50030859 1.47916657 1.49984564 1.49506161 1.51234561\n",
      " 1.50540121 1.52037025 1.53225303 1.52978383 1.54922831 1.54907396\n",
      " 1.5435184  1.5819444  1.6030863  1.58688267 1.6118826  1.62021594\n",
      " 1.63888877 1.62962952 1.5794752  1.59722215 1.60231477 1.58564807\n",
      " 1.58719125 1.58904315 1.58641973 1.56898138 1.60200607 1.60709868\n",
      " 1.60123452 1.62114195 1.62407397 1.62685175 1.6276234  1.62669752\n",
      " 1.628858   1.62515421 1.63966042 1.62623445 1.61959864 1.61898147\n",
      " 1.5130589  1.43311775 1.38346469 1.34191239 1.30590224 1.27649677\n",
      " 1.25302601 1.23401785 1.21806622 1.20407832 1.19127321 1.17912817\n",
      " 1.16732073 1.15567541 1.14411879 1.13264132 1.12126911 1.11004245\n",
      " 1.09900248 1.088184   1.07761025 1.06729448 1.05723929 1.04743993\n",
      " 1.03788555 1.02856207 1.01945317 1.01054263]\n",
      "28 day output [[1.0018144]]\n",
      "29 day input [1.40632705 1.3932098  1.38888882 1.3708333  1.39598757 1.42793202\n",
      " 1.43749996 1.42160492 1.43287027 1.41435182 1.40200608 1.43950609\n",
      " 1.46481472 1.48070976 1.43842584 1.4373456  1.45864186 1.4612654\n",
      " 1.51064806 1.49228384 1.49290113 1.49645056 1.48827157 1.46280859\n",
      " 1.47484561 1.46481472 1.45679009 1.46512342 1.48209871 1.48425919\n",
      " 1.50030859 1.47916657 1.49984564 1.49506161 1.51234561 1.50540121\n",
      " 1.52037025 1.53225303 1.52978383 1.54922831 1.54907396 1.5435184\n",
      " 1.5819444  1.6030863  1.58688267 1.6118826  1.62021594 1.63888877\n",
      " 1.62962952 1.5794752  1.59722215 1.60231477 1.58564807 1.58719125\n",
      " 1.58904315 1.58641973 1.56898138 1.60200607 1.60709868 1.60123452\n",
      " 1.62114195 1.62407397 1.62685175 1.6276234  1.62669752 1.628858\n",
      " 1.62515421 1.63966042 1.62623445 1.61959864 1.61898147 1.5130589\n",
      " 1.43311775 1.38346469 1.34191239 1.30590224 1.27649677 1.25302601\n",
      " 1.23401785 1.21806622 1.20407832 1.19127321 1.17912817 1.16732073\n",
      " 1.15567541 1.14411879 1.13264132 1.12126911 1.11004245 1.09900248\n",
      " 1.088184   1.07761025 1.06729448 1.05723929 1.04743993 1.03788555\n",
      " 1.02856207 1.01945317 1.01054263 1.00181437]\n",
      "29 day output [[0.9932536]]\n",
      "[[1.5130589008331299], [1.4331177473068237], [1.3834646940231323], [1.3419123888015747], [1.3059022426605225], [1.2764967679977417], [1.253026008605957], [1.2340178489685059], [1.2180662155151367], [1.2040783166885376], [1.1912732124328613], [1.1791281700134277], [1.167320728302002], [1.1556754112243652], [1.1441187858581543], [1.132641315460205], [1.1212691068649292], [1.1100424528121948], [1.099002480506897], [1.0881839990615845], [1.0776102542877197], [1.0672944784164429], [1.057239294052124], [1.0474399328231812], [1.0378855466842651], [1.028562068939209], [1.0194531679153442], [1.010542631149292], [1.001814365386963], [0.9932535886764526]]\n"
     ]
    }
   ],
   "source": [
    "from numpy import array\n",
    "\n",
    "lst_output=[]\n",
    "n_steps=time_step\n",
    "i=0\n",
    "while(i<30):\n",
    "    \n",
    "    if(len(temp_input)>time_step):\n",
    "        #print(temp_input)\n",
    "        x_input=np.array(temp_input[1:])\n",
    "        print(\"{} day input {}\".format(i,x_input))\n",
    "        x_input=x_input.reshape(1,-1)\n",
    "        x_input = x_input.reshape((1, n_steps, 1))\n",
    "        #print(x_input)\n",
    "        yhat = model.predict(x_input, verbose=0)\n",
    "        print(\"{} day output {}\".format(i,yhat))\n",
    "        temp_input.extend(yhat[0].tolist())\n",
    "        temp_input=temp_input[1:]\n",
    "        #print(temp_input)\n",
    "        lst_output.extend(yhat.tolist())\n",
    "        i=i+1\n",
    "    else:\n",
    "        x_input = x_input.reshape((1, n_steps,1))\n",
    "        yhat = model.predict(x_input, verbose=0)\n",
    "        print(yhat[0])\n",
    "        temp_input.extend(yhat[0].tolist())\n",
    "        print(len(temp_input))\n",
    "        lst_output.extend(yhat.tolist())\n",
    "        i=i+1\n",
    "    \n",
    "\n",
    "print(lst_output)"
   ]
  },
  {
   "cell_type": "markdown",
   "metadata": {},
   "source": [
    "###  visualise the predicted result"
   ]
  },
  {
   "cell_type": "code",
   "execution_count": 34,
   "metadata": {
    "scrolled": true
   },
   "outputs": [],
   "source": [
    "day_new=np.arange(1,time_step+1)\n",
    "day_pred=np.arange(time_step+1,time_step+31)"
   ]
  },
  {
   "cell_type": "markdown",
   "metadata": {},
   "source": [
    "### before combine into original data"
   ]
  },
  {
   "cell_type": "code",
   "execution_count": 35,
   "metadata": {},
   "outputs": [
    {
     "data": {
      "text/plain": [
       "Text(0.5, 0.98, 'Previous N day List and Preticted 30 Days List')"
      ]
     },
     "execution_count": 35,
     "metadata": {},
     "output_type": "execute_result"
    },
    {
     "data": {
      "image/png": "[encoded data removed]",
      "text/plain": [
       "<Figure size 864x576 with 1 Axes>"
      ]
     },
     "metadata": {
      "needs_background": "light"
     },
     "output_type": "display_data"
    }
   ],
   "source": [
    "plt.figure(figsize=(12,8))\n",
    "plt.plot(day_new,close_all[len(close_all)-time_step:])\n",
    "plt.plot(day_pred,scaler.inverse_transform(lst_output))\n",
    "plt.xticks(fontsize=10)\n",
    "plt.yticks(fontsize=10)\n",
    "plt.xlabel('Day', fontsize=15)\n",
    "plt.ylabel('Close', fontsize=15)\n",
    "plt.suptitle('Previous N day List and Preticted 30 Days List', fontsize=20)"
   ]
  },
  {
   "cell_type": "markdown",
   "metadata": {},
   "source": [
    "### after combine into original data"
   ]
  },
  {
   "cell_type": "code",
   "execution_count": 36,
   "metadata": {},
   "outputs": [
    {
     "data": {
      "text/plain": [
       "Text(0.5, 0.98, 'Combined Previous N day and Preticted 30 Days')"
      ]
     },
     "execution_count": 36,
     "metadata": {},
     "output_type": "execute_result"
    },
    {
     "data": {
      "image/png": "[encoded data removed]",
      "text/plain": [
       "<Figure size 864x576 with 1 Axes>"
      ]
     },
     "metadata": {
      "needs_background": "light"
     },
     "output_type": "display_data"
    }
   ],
   "source": [
    "df=close_all.tolist()\n",
    "df.extend(scaler.inverse_transform(lst_output))\n",
    "plt.figure(figsize=(12,8))\n",
    "plt.plot(df[5000:])\n",
    "plt.xticks(fontsize=10)\n",
    "plt.yticks(fontsize=10)\n",
    "plt.xlabel('Day', fontsize=15)\n",
    "plt.ylabel('Close', fontsize=15)\n",
    "plt.suptitle('Combined Previous N day and Preticted 30 Days', fontsize=20)"
   ]
  },
  {
   "cell_type": "code",
   "execution_count": 37,
   "metadata": {},
   "outputs": [],
   "source": [
    "df=scaler.inverse_transform(df).tolist()"
   ]
  },
  {
   "cell_type": "code",
   "execution_count": 38,
   "metadata": {
    "scrolled": true
   },
   "outputs": [
    {
     "data": {
      "text/html": [
       "<div>\n",
       "<style scoped>\n",
       "    .dataframe tbody tr th:only-of-type {\n",
       "        vertical-align: middle;\n",
       "    }\n",
       "\n",
       "    .dataframe tbody tr th {\n",
       "        vertical-align: top;\n",
       "    }\n",
       "\n",
       "    .dataframe thead th {\n",
       "        text-align: right;\n",
       "    }\n",
       "</style>\n",
       "<table border=\"1\" class=\"dataframe\">\n",
       "  <thead>\n",
       "    <tr style=\"text-align: right;\">\n",
       "      <th></th>\n",
       "      <th>1</th>\n",
       "    </tr>\n",
       "    <tr>\n",
       "      <th>0</th>\n",
       "      <th></th>\n",
       "    </tr>\n",
       "  </thead>\n",
       "  <tbody>\n",
       "    <tr>\n",
       "      <th>2000-01-03</th>\n",
       "      <td>1201.339990</td>\n",
       "    </tr>\n",
       "    <tr>\n",
       "      <th>2000-01-04</th>\n",
       "      <td>1181.900054</td>\n",
       "    </tr>\n",
       "    <tr>\n",
       "      <th>2000-01-05</th>\n",
       "      <td>1185.139989</td>\n",
       "    </tr>\n",
       "    <tr>\n",
       "      <th>2000-01-06</th>\n",
       "      <td>1228.880056</td>\n",
       "    </tr>\n",
       "    <tr>\n",
       "      <th>2000-01-07</th>\n",
       "      <td>1243.460122</td>\n",
       "    </tr>\n",
       "  </tbody>\n",
       "</table>\n",
       "</div>"
      ],
      "text/plain": [
       "                      1\n",
       "0                      \n",
       "2000-01-03  1201.339990\n",
       "2000-01-04  1181.900054\n",
       "2000-01-05  1185.139989\n",
       "2000-01-06  1228.880056\n",
       "2000-01-07  1243.460122"
      ]
     },
     "execution_count": 38,
     "metadata": {},
     "output_type": "execute_result"
    }
   ],
   "source": [
    "from pandas import DataFrame\n",
    "df_data_all = DataFrame (df)\n",
    "visual_add30 = pd.concat([combined_date,df_data_all], axis=1, ignore_index=True)\n",
    "visual_add30.set_index(visual_add30.columns[0],inplace=True)\n",
    "visual_add30.head(5)"
   ]
  },
  {
   "cell_type": "markdown",
   "metadata": {},
   "source": [
    "### all the data included predited 30 days"
   ]
  },
  {
   "cell_type": "code",
   "execution_count": 39,
   "metadata": {},
   "outputs": [
    {
     "data": {
      "text/plain": [
       "Text(0.5, 0.98, 'Combined with preticted 30 days')"
      ]
     },
     "execution_count": 39,
     "metadata": {},
     "output_type": "execute_result"
    },
    {
     "data": {
      "image/png": "[encoded data removed]",
      "text/plain": [
       "<Figure size 864x576 with 1 Axes>"
      ]
     },
     "metadata": {
      "needs_background": "light"
     },
     "output_type": "display_data"
    }
   ],
   "source": [
    "plt.figure(figsize=(12,8))\n",
    "plt.plot(visual_add30)\n",
    "plt.xticks(fontsize=10)\n",
    "plt.yticks(fontsize=10)\n",
    "plt.xlabel('Date (year)', fontsize=15)\n",
    "plt.ylabel('Close', fontsize=15)\n",
    "plt.suptitle('Combined with preticted 30 days', fontsize=20)"
   ]
  }
 ],
 "metadata": {
  "kernelspec": {
   "display_name": "Python 3",
   "language": "python",
   "name": "python3"
  },
  "language_info": {
   "codemirror_mode": {
    "name": "ipython",
    "version": 3
   },
   "file_extension": ".py",
   "mimetype": "text/x-python",
   "name": "python",
   "nbconvert_exporter": "python",
   "pygments_lexer": "ipython3",
   "version": "3.7.6"
  }
 },
 "nbformat": 4,
 "nbformat_minor": 4
}
