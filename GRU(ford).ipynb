{
 "cells": [
  {
   "cell_type": "markdown",
   "metadata": {},
   "source": [
    "# GRU"
   ]
  },
  {
   "cell_type": "markdown",
   "metadata": {},
   "source": [
    "### read .csv file"
   ]
  },
  {
   "cell_type": "code",
   "execution_count": 1,
   "metadata": {},
   "outputs": [],
   "source": [
    "import pandas as pd \n",
    "import numpy as np\n",
    "dataset = pd.read_csv('F.csv')"
   ]
  },
  {
   "cell_type": "markdown",
   "metadata": {},
   "source": [
    "### sort value according to date"
   ]
  },
  {
   "cell_type": "code",
   "execution_count": 2,
   "metadata": {
    "scrolled": true
   },
   "outputs": [],
   "source": [
    "dataset = dataset.sort_values('Date')"
   ]
  },
  {
   "cell_type": "markdown",
   "metadata": {},
   "source": [
    "### check empty field"
   ]
  },
  {
   "cell_type": "code",
   "execution_count": 3,
   "metadata": {
    "scrolled": true
   },
   "outputs": [
    {
     "data": {
      "text/plain": [
       "Date         0\n",
       "Open         0\n",
       "High         0\n",
       "Low          0\n",
       "Close        0\n",
       "Adj Close    0\n",
       "Volume       0\n",
       "dtype: int64"
      ]
     },
     "execution_count": 3,
     "metadata": {},
     "output_type": "execute_result"
    }
   ],
   "source": [
    "dataset.isnull().sum()"
   ]
  },
  {
   "cell_type": "markdown",
   "metadata": {},
   "source": [
    "### Used for date"
   ]
  },
  {
   "cell_type": "code",
   "execution_count": 45,
   "metadata": {
    "scrolled": true
   },
   "outputs": [
    {
     "name": "stdout",
     "output_type": "stream",
     "text": [
      "5194   2020-08-25\n",
      "5195   2020-08-26\n",
      "5196   2020-08-27\n",
      "5197   2020-08-28\n",
      "5198   2020-08-31\n",
      "Name: Date, dtype: datetime64[ns]\n"
     ]
    }
   ],
   "source": [
    "date_old = dataset['Date'].copy()\n",
    "date_old = pd.to_datetime(date_old)\n",
    "#view the data of the last 5 days\n",
    "print(date_old.tail(5))"
   ]
  },
  {
   "cell_type": "code",
   "execution_count": 5,
   "metadata": {},
   "outputs": [
    {
     "name": "stdout",
     "output_type": "stream",
     "text": [
      "2020-09-01 00:00:00\n"
     ]
    }
   ],
   "source": [
    "from datetime import datetime\n",
    "import datetime\n",
    "lastDay = date_old.iloc[-1]\n",
    "lastNext = lastDay + datetime.timedelta(days=1)\n",
    "#print the next day that should be the first day of the predict 30 days\n",
    "print(lastNext)"
   ]
  },
  {
   "cell_type": "markdown",
   "metadata": {},
   "source": [
    "### obtain the date of next 30 days"
   ]
  },
  {
   "cell_type": "code",
   "execution_count": 6,
   "metadata": {},
   "outputs": [
    {
     "name": "stdout",
     "output_type": "stream",
     "text": [
      "                    0\n",
      "2020-09-01 2020-09-01\n",
      "2020-09-02 2020-09-02\n",
      "2020-09-03 2020-09-03\n",
      "2020-09-04 2020-09-04\n",
      "2020-09-05 2020-09-05\n"
     ]
    }
   ],
   "source": [
    "datelist = pd.date_range(lastNext, periods=30).tolist()\n",
    "datelist = pd.to_datetime(datelist)\n",
    "date_30 = datelist.copy()\n",
    "date_30 = date_30.to_frame()\n",
    "#print the first 5 days of the predicted 30 days\n",
    "print(date_30.head(5))"
   ]
  },
  {
   "cell_type": "markdown",
   "metadata": {},
   "source": [
    "### combine old date with new date"
   ]
  },
  {
   "cell_type": "code",
   "execution_count": 7,
   "metadata": {},
   "outputs": [
    {
     "name": "stdout",
     "output_type": "stream",
     "text": [
      "              0\n",
      "0    2000-01-03\n",
      "1    2000-01-04\n",
      "2    2000-01-05\n",
      "3    2000-01-06\n",
      "4    2000-01-07\n",
      "...         ...\n",
      "5224 2020-09-26\n",
      "5225 2020-09-27\n",
      "5226 2020-09-28\n",
      "5227 2020-09-29\n",
      "5228 2020-09-30\n",
      "\n",
      "[5229 rows x 1 columns]\n"
     ]
    }
   ],
   "source": [
    "combined_date = pd.concat([date_old,date_30],ignore_index=True)\n",
    "print(combined_date)"
   ]
  },
  {
   "cell_type": "markdown",
   "metadata": {},
   "source": [
    "### drop all column except 'Close'"
   ]
  },
  {
   "cell_type": "code",
   "execution_count": 8,
   "metadata": {},
   "outputs": [
    {
     "name": "stdout",
     "output_type": "stream",
     "text": [
      "[[28.782394]\n",
      " [27.820692]\n",
      " [27.923731]\n",
      " ...\n",
      " [ 6.91    ]\n",
      " [ 6.94    ]\n",
      " [ 6.82    ]]\n"
     ]
    }
   ],
   "source": [
    "close_all = dataset.loc[:, ['Close']].values\n",
    "visual = dataset[['Date', 'Close']].copy()\n",
    "visual['Date'] = pd.to_datetime(visual['Date'])\n",
    "visual.set_index('Date', inplace=True)\n",
    "print(close_all)"
   ]
  },
  {
   "cell_type": "markdown",
   "metadata": {},
   "source": [
    "### Visualisation"
   ]
  },
  {
   "cell_type": "code",
   "execution_count": 40,
   "metadata": {
    "scrolled": true
   },
   "outputs": [
    {
     "data": {
      "text/plain": [
       "Text(0.5, 0.98, 'Original Data')"
      ]
     },
     "execution_count": 40,
     "metadata": {},
     "output_type": "execute_result"
    },
    {
     "data": {
      "image/png": "[encoded data removed]",
      "text/plain": [
       "<Figure size 864x576 with 1 Axes>"
      ]
     },
     "metadata": {
      "needs_background": "light"
     },
     "output_type": "display_data"
    }
   ],
   "source": [
    "import numpy as np \n",
    "import matplotlib.pyplot as plt\n",
    "plt.figure(figsize=(12,8))\n",
    "plt.plot(visual)\n",
    "plt.xticks(fontsize=10)\n",
    "plt.yticks(fontsize=10)\n",
    "plt.xlabel('Date (year)', fontsize=15)\n",
    "plt.ylabel('Close', fontsize=15)\n",
    "plt.suptitle('Original Data', fontsize=20)\n"
   ]
  },
  {
   "cell_type": "markdown",
   "metadata": {},
   "source": [
    "### splitting dataset into front 80% for training and last 20% for testing"
   ]
  },
  {
   "cell_type": "code",
   "execution_count": 10,
   "metadata": {},
   "outputs": [],
   "source": [
    "training_size=int(len(close_all)*0.8)\n",
    "test_size=len(close_all)-training_size\n",
    "train_data,test_data=close_all[0:training_size,:],close_all[training_size:len(close_all),:1]"
   ]
  },
  {
   "cell_type": "code",
   "execution_count": 11,
   "metadata": {},
   "outputs": [
    {
     "data": {
      "text/plain": [
       "(4159, 1040)"
      ]
     },
     "execution_count": 11,
     "metadata": {},
     "output_type": "execute_result"
    }
   ],
   "source": [
    "training_size,test_size"
   ]
  },
  {
   "cell_type": "markdown",
   "metadata": {},
   "source": [
    "### Scale the training data within range of 0 to 1"
   ]
  },
  {
   "cell_type": "code",
   "execution_count": 12,
   "metadata": {},
   "outputs": [
    {
     "data": {
      "text/plain": [
       "array([[0.91441431],\n",
       "       [0.88246236],\n",
       "       [0.88588577],\n",
       "       ...,\n",
       "       [0.40500512],\n",
       "       [0.40600185],\n",
       "       [0.40965653]])"
      ]
     },
     "execution_count": 12,
     "metadata": {},
     "output_type": "execute_result"
    }
   ],
   "source": [
    "from sklearn.preprocessing import MinMaxScaler\n",
    "scaler = MinMaxScaler(feature_range = (0, 1))\n",
    "train_data = scaler.fit_transform(train_data)\n",
    "train_data"
   ]
  },
  {
   "cell_type": "markdown",
   "metadata": {},
   "source": [
    "### set the time step to 100 for training set and testing set"
   ]
  },
  {
   "cell_type": "code",
   "execution_count": 13,
   "metadata": {
    "scrolled": true
   },
   "outputs": [
    {
     "name": "stdout",
     "output_type": "stream",
     "text": [
      "(4058, 100)\n",
      "(4058,)\n"
     ]
    }
   ],
   "source": [
    "time_step = 100\n",
    "X_train_list, y_train_list = [], []\n",
    "for i in range(len(train_data)-time_step-1):\n",
    "    X_train_list.append(train_data[i:(i+time_step), 0])\n",
    "    y_train_list.append(train_data[i + time_step, 0])\n",
    "X_train, y_train = np.array(X_train_list),np.array(y_train_list)\n",
    "print(X_train.shape)\n",
    "print(y_train.shape)"
   ]
  },
  {
   "cell_type": "markdown",
   "metadata": {},
   "source": [
    "### reshape the data to fit in GRU model"
   ]
  },
  {
   "cell_type": "code",
   "execution_count": 14,
   "metadata": {},
   "outputs": [],
   "source": [
    "X_train =X_train.reshape(X_train.shape[0],X_train.shape[1] , 1)\n",
    "#X_test = X_test.reshape(X_test.shape[0],X_test.shape[1] , 1)"
   ]
  },
  {
   "cell_type": "markdown",
   "metadata": {},
   "source": [
    "### GRU modelling"
   ]
  },
  {
   "cell_type": "code",
   "execution_count": 15,
   "metadata": {},
   "outputs": [],
   "source": [
    "from tensorflow.keras.models import Sequential\n",
    "from tensorflow.keras.layers import Dense\n",
    "from tensorflow.keras.layers import GRU"
   ]
  },
  {
   "cell_type": "code",
   "execution_count": 16,
   "metadata": {},
   "outputs": [],
   "source": [
    "model=Sequential()\n",
    "model.add(GRU(150,return_sequences=True,input_shape=(time_step,1)))\n",
    "model.add(GRU(100,return_sequences=True))\n",
    "model.add(GRU(80))\n",
    "model.add(Dense(1))\n",
    "model.compile(loss='mean_squared_error',optimizer='adam')"
   ]
  },
  {
   "cell_type": "code",
   "execution_count": 17,
   "metadata": {
    "scrolled": false
   },
   "outputs": [
    {
     "name": "stdout",
     "output_type": "stream",
     "text": [
      "Model: \"sequential\"\n",
      "_________________________________________________________________\n",
      "Layer (type)                 Output Shape              Param #   \n",
      "=================================================================\n",
      "gru (GRU)                    (None, 100, 150)          68850     \n",
      "_________________________________________________________________\n",
      "gru_1 (GRU)                  (None, 100, 100)          75600     \n",
      "_________________________________________________________________\n",
      "gru_2 (GRU)                  (None, 80)                43680     \n",
      "_________________________________________________________________\n",
      "dense (Dense)                (None, 1)                 81        \n",
      "=================================================================\n",
      "Total params: 188,211\n",
      "Trainable params: 188,211\n",
      "Non-trainable params: 0\n",
      "_________________________________________________________________\n"
     ]
    }
   ],
   "source": [
    "model.summary()"
   ]
  },
  {
   "cell_type": "markdown",
   "metadata": {},
   "source": [
    "### fitting the training set into the model"
   ]
  },
  {
   "cell_type": "code",
   "execution_count": 18,
   "metadata": {
    "scrolled": true
   },
   "outputs": [
    {
     "name": "stdout",
     "output_type": "stream",
     "text": [
      "Epoch 1/100\n",
      "127/127 [==============================] - 12s 96ms/step - loss: 0.0051\n",
      "Epoch 2/100\n",
      "127/127 [==============================] - 12s 93ms/step - loss: 2.3099e-04\n",
      "Epoch 3/100\n",
      "127/127 [==============================] - 12s 91ms/step - loss: 2.1058e-04\n",
      "Epoch 4/100\n",
      "127/127 [==============================] - 13s 99ms/step - loss: 1.8278e-04\n",
      "Epoch 5/100\n",
      "127/127 [==============================] - 13s 101ms/step - loss: 1.7155e-04\n",
      "Epoch 6/100\n",
      "127/127 [==============================] - 13s 100ms/step - loss: 1.5673e-04\n",
      "Epoch 7/100\n",
      "127/127 [==============================] - 13s 100ms/step - loss: 1.4540e-04\n",
      "Epoch 8/100\n",
      "127/127 [==============================] - 13s 100ms/step - loss: 1.5876e-04\n",
      "Epoch 9/100\n",
      "127/127 [==============================] - 13s 101ms/step - loss: 1.4594e-04\n",
      "Epoch 10/100\n",
      "127/127 [==============================] - 13s 103ms/step - loss: 1.3773e-04\n",
      "Epoch 11/100\n",
      "127/127 [==============================] - 13s 99ms/step - loss: 1.3257e-04\n",
      "Epoch 12/100\n",
      "127/127 [==============================] - 13s 101ms/step - loss: 1.5870e-04\n",
      "Epoch 13/100\n",
      "127/127 [==============================] - 13s 100ms/step - loss: 1.4064e-04\n",
      "Epoch 14/100\n",
      "127/127 [==============================] - 13s 101ms/step - loss: 1.5304e-04\n",
      "Epoch 15/100\n",
      "127/127 [==============================] - 13s 100ms/step - loss: 1.2811e-04\n",
      "Epoch 16/100\n",
      "127/127 [==============================] - 13s 101ms/step - loss: 1.5739e-04\n",
      "Epoch 17/100\n",
      "127/127 [==============================] - 13s 102ms/step - loss: 1.4234e-04\n",
      "Epoch 18/100\n",
      "127/127 [==============================] - 13s 99ms/step - loss: 1.7237e-04\n",
      "Epoch 19/100\n",
      "127/127 [==============================] - 13s 99ms/step - loss: 1.4831e-04\n",
      "Epoch 20/100\n",
      "127/127 [==============================] - 13s 102ms/step - loss: 1.4279e-04\n",
      "Epoch 21/100\n",
      "127/127 [==============================] - 13s 99ms/step - loss: 1.6516e-04\n",
      "Epoch 22/100\n",
      "127/127 [==============================] - 13s 99ms/step - loss: 1.3770e-04\n",
      "Epoch 23/100\n",
      "127/127 [==============================] - 13s 102ms/step - loss: 1.7786e-04\n",
      "Epoch 24/100\n",
      "127/127 [==============================] - 13s 101ms/step - loss: 1.4205e-04\n",
      "Epoch 25/100\n",
      "127/127 [==============================] - 13s 99ms/step - loss: 1.2351e-04\n",
      "Epoch 26/100\n",
      "127/127 [==============================] - 13s 101ms/step - loss: 1.2949e-04\n",
      "Epoch 27/100\n",
      "127/127 [==============================] - 13s 106ms/step - loss: 1.6315e-04\n",
      "Epoch 28/100\n",
      "127/127 [==============================] - 13s 100ms/step - loss: 1.5218e-04\n",
      "Epoch 29/100\n",
      "127/127 [==============================] - 13s 100ms/step - loss: 1.3607e-04\n",
      "Epoch 30/100\n",
      "127/127 [==============================] - 13s 100ms/step - loss: 1.4466e-04\n",
      "Epoch 31/100\n",
      "127/127 [==============================] - 13s 103ms/step - loss: 1.4332e-04\n",
      "Epoch 32/100\n",
      "127/127 [==============================] - 14s 113ms/step - loss: 1.4847e-04\n",
      "Epoch 33/100\n",
      "127/127 [==============================] - 13s 106ms/step - loss: 1.2853e-04\n",
      "Epoch 34/100\n",
      "127/127 [==============================] - 14s 108ms/step - loss: 1.5418e-04\n",
      "Epoch 35/100\n",
      "127/127 [==============================] - 15s 116ms/step - loss: 1.7541e-04\n",
      "Epoch 36/100\n",
      "127/127 [==============================] - 13s 105ms/step - loss: 1.3876e-04\n",
      "Epoch 37/100\n",
      "127/127 [==============================] - 13s 103ms/step - loss: 1.4460e-04\n",
      "Epoch 38/100\n",
      "127/127 [==============================] - 13s 101ms/step - loss: 1.5709e-04\n",
      "Epoch 39/100\n",
      "127/127 [==============================] - 13s 101ms/step - loss: 1.2944e-04\n",
      "Epoch 40/100\n",
      "127/127 [==============================] - 13s 100ms/step - loss: 1.7300e-04\n",
      "Epoch 41/100\n",
      "127/127 [==============================] - 13s 103ms/step - loss: 1.7345e-04\n",
      "Epoch 42/100\n",
      "127/127 [==============================] - 13s 102ms/step - loss: 1.2824e-04\n",
      "Epoch 43/100\n",
      "127/127 [==============================] - 13s 102ms/step - loss: 1.3631e-04\n",
      "Epoch 44/100\n",
      "127/127 [==============================] - 13s 102ms/step - loss: 1.7750e-04\n",
      "Epoch 45/100\n",
      "127/127 [==============================] - 13s 104ms/step - loss: 1.2940e-04\n",
      "Epoch 46/100\n",
      "127/127 [==============================] - 13s 101ms/step - loss: 1.4058e-04\n",
      "Epoch 47/100\n",
      "127/127 [==============================] - 13s 100ms/step - loss: 1.2593e-04\n",
      "Epoch 48/100\n",
      "127/127 [==============================] - 13s 101ms/step - loss: 1.4904e-04\n",
      "Epoch 49/100\n",
      "127/127 [==============================] - 13s 101ms/step - loss: 1.2180e-04\n",
      "Epoch 50/100\n",
      "127/127 [==============================] - 13s 101ms/step - loss: 1.4785e-04\n",
      "Epoch 51/100\n",
      "127/127 [==============================] - 13s 101ms/step - loss: 1.2312e-04\n",
      "Epoch 52/100\n",
      "127/127 [==============================] - 14s 107ms/step - loss: 1.3829e-04\n",
      "Epoch 53/100\n",
      "127/127 [==============================] - 13s 105ms/step - loss: 1.2634e-04\n",
      "Epoch 54/100\n",
      "127/127 [==============================] - 13s 104ms/step - loss: 1.3244e-04\n",
      "Epoch 55/100\n",
      "127/127 [==============================] - 13s 104ms/step - loss: 1.4558e-04\n",
      "Epoch 56/100\n",
      "127/127 [==============================] - 13s 101ms/step - loss: 1.2821e-04\n",
      "Epoch 57/100\n",
      "127/127 [==============================] - 13s 102ms/step - loss: 1.4624e-04\n",
      "Epoch 58/100\n",
      "127/127 [==============================] - 13s 102ms/step - loss: 1.4053e-04\n",
      "Epoch 59/100\n",
      "127/127 [==============================] - 13s 106ms/step - loss: 1.4157e-04\n",
      "Epoch 60/100\n",
      "127/127 [==============================] - 13s 105ms/step - loss: 1.2794e-04\n",
      "Epoch 61/100\n",
      "127/127 [==============================] - 13s 104ms/step - loss: 1.6133e-04\n",
      "Epoch 62/100\n",
      "127/127 [==============================] - 15s 120ms/step - loss: 1.4087e-04\n",
      "Epoch 63/100\n",
      "127/127 [==============================] - 13s 105ms/step - loss: 1.2523e-04\n",
      "Epoch 64/100\n",
      "127/127 [==============================] - 13s 103ms/step - loss: 1.3717e-04\n",
      "Epoch 65/100\n",
      "127/127 [==============================] - 13s 104ms/step - loss: 1.2240e-04\n",
      "Epoch 66/100\n",
      "127/127 [==============================] - 13s 103ms/step - loss: 1.1990e-04\n",
      "Epoch 67/100\n",
      "127/127 [==============================] - 13s 105ms/step - loss: 1.4020e-04\n",
      "Epoch 68/100\n",
      "127/127 [==============================] - 13s 104ms/step - loss: 1.2591e-04\n",
      "Epoch 69/100\n",
      "127/127 [==============================] - 13s 102ms/step - loss: 1.3715e-04\n",
      "Epoch 70/100\n",
      "127/127 [==============================] - 13s 103ms/step - loss: 1.3454e-04\n",
      "Epoch 71/100\n",
      "127/127 [==============================] - 13s 104ms/step - loss: 1.4120e-04\n",
      "Epoch 72/100\n",
      "127/127 [==============================] - 13s 104ms/step - loss: 1.3068e-04\n",
      "Epoch 73/100\n",
      "127/127 [==============================] - 13s 104ms/step - loss: 1.2706e-04\n",
      "Epoch 74/100\n",
      "127/127 [==============================] - 13s 106ms/step - loss: 1.2222e-04\n",
      "Epoch 75/100\n",
      "127/127 [==============================] - 13s 105ms/step - loss: 1.2754e-04\n",
      "Epoch 76/100\n",
      "127/127 [==============================] - 13s 102ms/step - loss: 1.2928e-04\n",
      "Epoch 77/100\n",
      "127/127 [==============================] - 13s 102ms/step - loss: 1.2207e-04\n",
      "Epoch 78/100\n",
      "127/127 [==============================] - 13s 101ms/step - loss: 1.3422e-04\n",
      "Epoch 79/100\n",
      "127/127 [==============================] - 13s 101ms/step - loss: 1.3655e-04\n",
      "Epoch 80/100\n",
      "127/127 [==============================] - 13s 101ms/step - loss: 1.3866e-04\n",
      "Epoch 81/100\n",
      "127/127 [==============================] - 13s 101ms/step - loss: 1.1838e-04\n",
      "Epoch 82/100\n",
      "127/127 [==============================] - 13s 102ms/step - loss: 1.2435e-04\n",
      "Epoch 83/100\n",
      "127/127 [==============================] - 15s 115ms/step - loss: 1.1919e-04\n",
      "Epoch 84/100\n",
      "127/127 [==============================] - 13s 101ms/step - loss: 1.3086e-04\n",
      "Epoch 85/100\n",
      "127/127 [==============================] - 13s 101ms/step - loss: 1.2405e-04\n",
      "Epoch 86/100\n",
      "127/127 [==============================] - 13s 100ms/step - loss: 1.3284e-04\n",
      "Epoch 87/100\n",
      "127/127 [==============================] - 13s 100ms/step - loss: 1.4868e-04\n",
      "Epoch 88/100\n",
      "127/127 [==============================] - 13s 100ms/step - loss: 1.2636e-04\n",
      "Epoch 89/100\n",
      "127/127 [==============================] - 13s 100ms/step - loss: 1.2839e-04\n",
      "Epoch 90/100\n",
      "127/127 [==============================] - 13s 99ms/step - loss: 1.3203e-04\n",
      "Epoch 91/100\n",
      "127/127 [==============================] - 13s 99ms/step - loss: 1.2043e-04\n",
      "Epoch 92/100\n"
     ]
    },
    {
     "name": "stdout",
     "output_type": "stream",
     "text": [
      "127/127 [==============================] - 12s 98ms/step - loss: 1.3841e-04\n",
      "Epoch 93/100\n",
      "127/127 [==============================] - 13s 99ms/step - loss: 1.2673e-04\n",
      "Epoch 94/100\n",
      "127/127 [==============================] - 12s 98ms/step - loss: 1.1892e-04\n",
      "Epoch 95/100\n",
      "127/127 [==============================] - 12s 98ms/step - loss: 1.2445e-04\n",
      "Epoch 96/100\n",
      "127/127 [==============================] - 13s 99ms/step - loss: 1.2883e-04\n",
      "Epoch 97/100\n",
      "127/127 [==============================] - 12s 98ms/step - loss: 1.2819e-04\n",
      "Epoch 98/100\n",
      "127/127 [==============================] - 12s 98ms/step - loss: 1.2708e-04\n",
      "Epoch 99/100\n",
      "127/127 [==============================] - 12s 98ms/step - loss: 1.2146e-04\n",
      "Epoch 100/100\n",
      "127/127 [==============================] - 12s 98ms/step - loss: 1.1962e-04\n"
     ]
    },
    {
     "data": {
      "text/plain": [
       "<tensorflow.python.keras.callbacks.History at 0x1d990fb7688>"
      ]
     },
     "execution_count": 18,
     "metadata": {},
     "output_type": "execute_result"
    }
   ],
   "source": [
    "model.fit(X_train,y_train,epochs=100,batch_size=32)"
   ]
  },
  {
   "cell_type": "markdown",
   "metadata": {},
   "source": [
    "### predict the training set"
   ]
  },
  {
   "cell_type": "code",
   "execution_count": 19,
   "metadata": {},
   "outputs": [],
   "source": [
    "train_predict=model.predict(X_train)"
   ]
  },
  {
   "cell_type": "markdown",
   "metadata": {},
   "source": [
    "### calculate the mean squared error between the actual result and predicted result"
   ]
  },
  {
   "cell_type": "code",
   "execution_count": 20,
   "metadata": {},
   "outputs": [
    {
     "data": {
      "text/plain": [
       "0.01026512205348795"
      ]
     },
     "execution_count": 20,
     "metadata": {},
     "output_type": "execute_result"
    }
   ],
   "source": [
    "import math\n",
    "from sklearn.metrics import mean_squared_error\n",
    "math.sqrt(mean_squared_error(y_train,train_predict))"
   ]
  },
  {
   "cell_type": "markdown",
   "metadata": {},
   "source": [
    "### predict the testing set"
   ]
  },
  {
   "cell_type": "code",
   "execution_count": 21,
   "metadata": {},
   "outputs": [
    {
     "data": {
      "text/plain": [
       "array([[0.40899204],\n",
       "       [0.41164999],\n",
       "       [0.41164999],\n",
       "       ...,\n",
       "       [0.18771771],\n",
       "       [0.18871444],\n",
       "       [0.18472752]])"
      ]
     },
     "execution_count": 21,
     "metadata": {},
     "output_type": "execute_result"
    }
   ],
   "source": [
    "test_data = scaler.transform(test_data)\n",
    "test_data"
   ]
  },
  {
   "cell_type": "code",
   "execution_count": 22,
   "metadata": {},
   "outputs": [
    {
     "name": "stdout",
     "output_type": "stream",
     "text": [
      "(939, 100)\n",
      "(939,)\n"
     ]
    }
   ],
   "source": [
    "X_test_list, y_test_list = [], []\n",
    "for i in range(len(test_data)-time_step-1):\n",
    "    X_test_list.append(test_data[i:(i+time_step), 0])\n",
    "    y_test_list.append(test_data[i + time_step, 0])\n",
    "X_test, y_test = np.array(X_test_list),np.array(y_test_list)\n",
    "print(X_test.shape)\n",
    "print(y_test.shape)"
   ]
  },
  {
   "cell_type": "code",
   "execution_count": 23,
   "metadata": {},
   "outputs": [],
   "source": [
    "X_test = X_test.reshape(X_test.shape[0],X_test.shape[1] , 1)"
   ]
  },
  {
   "cell_type": "code",
   "execution_count": 24,
   "metadata": {},
   "outputs": [],
   "source": [
    "test_predict=model.predict(X_test)"
   ]
  },
  {
   "cell_type": "code",
   "execution_count": 25,
   "metadata": {},
   "outputs": [
    {
     "data": {
      "text/plain": [
       "0.0060958862553238445"
      ]
     },
     "execution_count": 25,
     "metadata": {},
     "output_type": "execute_result"
    }
   ],
   "source": [
    "math.sqrt(mean_squared_error(y_test,test_predict))"
   ]
  },
  {
   "cell_type": "markdown",
   "metadata": {},
   "source": [
    "### Visualisation of result of training set and testing set"
   ]
  },
  {
   "cell_type": "markdown",
   "metadata": {},
   "source": [
    "blue colour is original data\n",
    "\n",
    "orange colour is predicted value using training data\n",
    "\n",
    "green colour is predicted value using testing data"
   ]
  },
  {
   "cell_type": "code",
   "execution_count": 26,
   "metadata": {
    "scrolled": true
   },
   "outputs": [],
   "source": [
    "# visual is done at up. It shows all, so is equal to close_all\n",
    "# scale back to original form\n",
    "train_predict=scaler.inverse_transform(train_predict)\n",
    "test_predict=scaler.inverse_transform(test_predict)\n",
    "### Plotting \n",
    "# shift train predictions for plotting\n",
    "look_back=time_step\n",
    "trainPredictPlot = np.empty_like(close_all)\n",
    "trainPredictPlot[:, :] = np.nan\n",
    "trainPredictPlot[look_back:len(train_predict)+look_back, :] = train_predict\n",
    "# shift test predictions for plotting\n",
    "testPredictPlot = np.empty_like(close_all)\n",
    "testPredictPlot[:, :] = np.nan\n",
    "testPredictPlot[len(train_predict)+(look_back*2)+1:len(close_all)-1, :] = test_predict"
   ]
  },
  {
   "cell_type": "code",
   "execution_count": 27,
   "metadata": {},
   "outputs": [],
   "source": [
    "dt_train = pd.DataFrame(np.array(trainPredictPlot))\n",
    "visual_train = pd.concat([date_old,dt_train], axis=1, ignore_index=True)\n",
    "visual_train.set_index(visual_train.columns[0],inplace=True)"
   ]
  },
  {
   "cell_type": "code",
   "execution_count": 28,
   "metadata": {},
   "outputs": [],
   "source": [
    "dt_test = pd.DataFrame(np.array(testPredictPlot))\n",
    "visual_test = pd.concat([date_old,dt_test], axis=1, ignore_index=True)\n",
    "visual_test.set_index(visual_test.columns[0],inplace=True)"
   ]
  },
  {
   "cell_type": "code",
   "execution_count": 41,
   "metadata": {},
   "outputs": [
    {
     "data": {
      "text/plain": [
       "Text(0.5, 0.98, 'Original, Train and Test Data')"
      ]
     },
     "execution_count": 41,
     "metadata": {},
     "output_type": "execute_result"
    },
    {
     "data": {
      "image/png": "[encoded data removed]",
      "text/plain": [
       "<Figure size 864x576 with 1 Axes>"
      ]
     },
     "metadata": {
      "needs_background": "light"
     },
     "output_type": "display_data"
    }
   ],
   "source": [
    "# plot baseline and predictions\n",
    "plt.figure(figsize=(12,8))\n",
    "plt.plot(visual)\n",
    "plt.plot(visual_train)\n",
    "plt.plot(visual_test)\n",
    "#plt.show()\n",
    "plt.xticks(fontsize=10)\n",
    "plt.yticks(fontsize=10)\n",
    "plt.xlabel('Date (year)', fontsize=15)\n",
    "plt.ylabel('Close', fontsize=15)\n",
    "plt.suptitle('Original, Train and Test Data', fontsize=20)"
   ]
  },
  {
   "cell_type": "markdown",
   "metadata": {},
   "source": [
    "## Predict future 30 days"
   ]
  },
  {
   "cell_type": "markdown",
   "metadata": {},
   "source": [
    "### get the last 100 day for time step of the future day"
   ]
  },
  {
   "cell_type": "code",
   "execution_count": 30,
   "metadata": {},
   "outputs": [
    {
     "data": {
      "text/plain": [
       "1040"
      ]
     },
     "execution_count": 30,
     "metadata": {},
     "output_type": "execute_result"
    }
   ],
   "source": [
    "len(test_data)"
   ]
  },
  {
   "cell_type": "code",
   "execution_count": 31,
   "metadata": {},
   "outputs": [
    {
     "data": {
      "text/plain": [
       "(1, 100)"
      ]
     },
     "execution_count": 31,
     "metadata": {},
     "output_type": "execute_result"
    }
   ],
   "source": [
    "x_input=test_data[len(test_data)-time_step:].reshape(1,-1)\n",
    "x_input.shape"
   ]
  },
  {
   "cell_type": "code",
   "execution_count": 32,
   "metadata": {
    "scrolled": true
   },
   "outputs": [
    {
     "data": {
      "text/plain": [
       "[0.1365521771350855,\n",
       " 0.1295750585953366,\n",
       " 0.13389422721518116,\n",
       " 0.12525588997549206,\n",
       " 0.12226569631559966,\n",
       " 0.12824608363538442,\n",
       " 0.12359467127555185,\n",
       " 0.11661755273580293,\n",
       " 0.11661755273580293,\n",
       " 0.12060447761565943,\n",
       " 0.11993999013568338,\n",
       " 0.12990730233532463,\n",
       " 0.13688442087507352,\n",
       " 0.13289749599521702,\n",
       " 0.1272493524154203,\n",
       " 0.12160120883562359,\n",
       " 0.11960774639569532,\n",
       " 0.1232624275355638,\n",
       " 0.11993999013568338,\n",
       " 0.11993999013568338,\n",
       " 0.13223300851524095,\n",
       " 0.12824608363538442,\n",
       " 0.12359467127555185,\n",
       " 0.11495633403586272,\n",
       " 0.12060447761565943,\n",
       " 0.12093672135564751,\n",
       " 0.13455871469515723,\n",
       " 0.13422647095516918,\n",
       " 0.14053910201494202,\n",
       " 0.1451905143747746,\n",
       " 0.1458550018547507,\n",
       " 0.15216763291452348,\n",
       " 0.15848026397429632,\n",
       " 0.15249987665451153,\n",
       " 0.14784846429467893,\n",
       " 0.1531643641344876,\n",
       " 0.15416109535445177,\n",
       " 0.163796163814105,\n",
       " 0.17642142593365062,\n",
       " 0.20200419391272986,\n",
       " 0.20831682497250267,\n",
       " 0.19868175651284947,\n",
       " 0.18439527569336361,\n",
       " 0.16180270137417674,\n",
       " 0.17276674479378212,\n",
       " 0.1740957197537343,\n",
       " 0.17575693845367452,\n",
       " 0.16844757617393757,\n",
       " 0.16844757617393757,\n",
       " 0.16512513877405716,\n",
       " 0.16678635747399737,\n",
       " 0.16246718885415282,\n",
       " 0.15582231405439198,\n",
       " 0.15848026397429632,\n",
       " 0.1544933390944398,\n",
       " 0.15781577649432021,\n",
       " 0.16014148267423653,\n",
       " 0.1568190452743561,\n",
       " 0.15914475145427237,\n",
       " 0.163796163814105,\n",
       " 0.16147045763418869,\n",
       " 0.16047372641422455,\n",
       " 0.15216763291452348,\n",
       " 0.16080597015421258,\n",
       " 0.15947699519426042,\n",
       " 0.1694443073939017,\n",
       " 0.18206956951344733,\n",
       " 0.18605649439330385,\n",
       " 0.18406303195337556,\n",
       " 0.179411619593543,\n",
       " 0.18007610707351906,\n",
       " 0.18539200691332774,\n",
       " 0.19004341927316037,\n",
       " 0.18672098187327993,\n",
       " 0.18838220057322014,\n",
       " 0.19104015049312448,\n",
       " 0.18804995683323208,\n",
       " 0.18206956951344733,\n",
       " 0.17775040089360278,\n",
       " 0.18040835081350712,\n",
       " 0.18605649439330385,\n",
       " 0.18937893179318427,\n",
       " 0.18838220057322014,\n",
       " 0.18605649439330385,\n",
       " 0.19369810041302882,\n",
       " 0.19834951277286142,\n",
       " 0.19436258789300492,\n",
       " 0.19170463797310056,\n",
       " 0.1920368817130886,\n",
       " 0.19004341927316037,\n",
       " 0.18705322561326795,\n",
       " 0.18638873813329188,\n",
       " 0.18539200691332774,\n",
       " 0.179411619593543,\n",
       " 0.19004341927316037,\n",
       " 0.1887144443132082,\n",
       " 0.18472751943335167,\n",
       " 0.18771771309324406,\n",
       " 0.1887144443132082,\n",
       " 0.18472751943335167]"
      ]
     },
     "execution_count": 32,
     "metadata": {},
     "output_type": "execute_result"
    }
   ],
   "source": [
    "temp_input=list(x_input)\n",
    "temp_input=temp_input[0].tolist()\n",
    "temp_input"
   ]
  },
  {
   "cell_type": "markdown",
   "metadata": {},
   "source": [
    "### predict the future 30 days result"
   ]
  },
  {
   "cell_type": "code",
   "execution_count": 33,
   "metadata": {
    "scrolled": true
   },
   "outputs": [
    {
     "name": "stdout",
     "output_type": "stream",
     "text": [
      "[0.18592465]\n",
      "101\n",
      "1 day input [0.12957506 0.13389423 0.12525589 0.1222657  0.12824608 0.12359467\n",
      " 0.11661755 0.11661755 0.12060448 0.11993999 0.1299073  0.13688442\n",
      " 0.1328975  0.12724935 0.12160121 0.11960775 0.12326243 0.11993999\n",
      " 0.11993999 0.13223301 0.12824608 0.12359467 0.11495633 0.12060448\n",
      " 0.12093672 0.13455871 0.13422647 0.1405391  0.14519051 0.145855\n",
      " 0.15216763 0.15848026 0.15249988 0.14784846 0.15316436 0.1541611\n",
      " 0.16379616 0.17642143 0.20200419 0.20831682 0.19868176 0.18439528\n",
      " 0.1618027  0.17276674 0.17409572 0.17575694 0.16844758 0.16844758\n",
      " 0.16512514 0.16678636 0.16246719 0.15582231 0.15848026 0.15449334\n",
      " 0.15781578 0.16014148 0.15681905 0.15914475 0.16379616 0.16147046\n",
      " 0.16047373 0.15216763 0.16080597 0.159477   0.16944431 0.18206957\n",
      " 0.18605649 0.18406303 0.17941162 0.18007611 0.18539201 0.19004342\n",
      " 0.18672098 0.1883822  0.19104015 0.18804996 0.18206957 0.1777504\n",
      " 0.18040835 0.18605649 0.18937893 0.1883822  0.18605649 0.1936981\n",
      " 0.19834951 0.19436259 0.19170464 0.19203688 0.19004342 0.18705323\n",
      " 0.18638874 0.18539201 0.17941162 0.19004342 0.18871444 0.18472752\n",
      " 0.18771771 0.18871444 0.18472752 0.18592465]\n",
      "1 day output [[0.18736146]]\n",
      "2 day input [0.13389423 0.12525589 0.1222657  0.12824608 0.12359467 0.11661755\n",
      " 0.11661755 0.12060448 0.11993999 0.1299073  0.13688442 0.1328975\n",
      " 0.12724935 0.12160121 0.11960775 0.12326243 0.11993999 0.11993999\n",
      " 0.13223301 0.12824608 0.12359467 0.11495633 0.12060448 0.12093672\n",
      " 0.13455871 0.13422647 0.1405391  0.14519051 0.145855   0.15216763\n",
      " 0.15848026 0.15249988 0.14784846 0.15316436 0.1541611  0.16379616\n",
      " 0.17642143 0.20200419 0.20831682 0.19868176 0.18439528 0.1618027\n",
      " 0.17276674 0.17409572 0.17575694 0.16844758 0.16844758 0.16512514\n",
      " 0.16678636 0.16246719 0.15582231 0.15848026 0.15449334 0.15781578\n",
      " 0.16014148 0.15681905 0.15914475 0.16379616 0.16147046 0.16047373\n",
      " 0.15216763 0.16080597 0.159477   0.16944431 0.18206957 0.18605649\n",
      " 0.18406303 0.17941162 0.18007611 0.18539201 0.19004342 0.18672098\n",
      " 0.1883822  0.19104015 0.18804996 0.18206957 0.1777504  0.18040835\n",
      " 0.18605649 0.18937893 0.1883822  0.18605649 0.1936981  0.19834951\n",
      " 0.19436259 0.19170464 0.19203688 0.19004342 0.18705323 0.18638874\n",
      " 0.18539201 0.17941162 0.19004342 0.18871444 0.18472752 0.18771771\n",
      " 0.18871444 0.18472752 0.18592465 0.18736146]\n",
      "2 day output [[0.18884802]]\n",
      "3 day input [0.12525589 0.1222657  0.12824608 0.12359467 0.11661755 0.11661755\n",
      " 0.12060448 0.11993999 0.1299073  0.13688442 0.1328975  0.12724935\n",
      " 0.12160121 0.11960775 0.12326243 0.11993999 0.11993999 0.13223301\n",
      " 0.12824608 0.12359467 0.11495633 0.12060448 0.12093672 0.13455871\n",
      " 0.13422647 0.1405391  0.14519051 0.145855   0.15216763 0.15848026\n",
      " 0.15249988 0.14784846 0.15316436 0.1541611  0.16379616 0.17642143\n",
      " 0.20200419 0.20831682 0.19868176 0.18439528 0.1618027  0.17276674\n",
      " 0.17409572 0.17575694 0.16844758 0.16844758 0.16512514 0.16678636\n",
      " 0.16246719 0.15582231 0.15848026 0.15449334 0.15781578 0.16014148\n",
      " 0.15681905 0.15914475 0.16379616 0.16147046 0.16047373 0.15216763\n",
      " 0.16080597 0.159477   0.16944431 0.18206957 0.18605649 0.18406303\n",
      " 0.17941162 0.18007611 0.18539201 0.19004342 0.18672098 0.1883822\n",
      " 0.19104015 0.18804996 0.18206957 0.1777504  0.18040835 0.18605649\n",
      " 0.18937893 0.1883822  0.18605649 0.1936981  0.19834951 0.19436259\n",
      " 0.19170464 0.19203688 0.19004342 0.18705323 0.18638874 0.18539201\n",
      " 0.17941162 0.19004342 0.18871444 0.18472752 0.18771771 0.18871444\n",
      " 0.18472752 0.18592465 0.18736146 0.18884802]\n",
      "3 day output [[0.19041085]]\n",
      "4 day input [0.1222657  0.12824608 0.12359467 0.11661755 0.11661755 0.12060448\n",
      " 0.11993999 0.1299073  0.13688442 0.1328975  0.12724935 0.12160121\n",
      " 0.11960775 0.12326243 0.11993999 0.11993999 0.13223301 0.12824608\n",
      " 0.12359467 0.11495633 0.12060448 0.12093672 0.13455871 0.13422647\n",
      " 0.1405391  0.14519051 0.145855   0.15216763 0.15848026 0.15249988\n",
      " 0.14784846 0.15316436 0.1541611  0.16379616 0.17642143 0.20200419\n",
      " 0.20831682 0.19868176 0.18439528 0.1618027  0.17276674 0.17409572\n",
      " 0.17575694 0.16844758 0.16844758 0.16512514 0.16678636 0.16246719\n",
      " 0.15582231 0.15848026 0.15449334 0.15781578 0.16014148 0.15681905\n",
      " 0.15914475 0.16379616 0.16147046 0.16047373 0.15216763 0.16080597\n",
      " 0.159477   0.16944431 0.18206957 0.18605649 0.18406303 0.17941162\n",
      " 0.18007611 0.18539201 0.19004342 0.18672098 0.1883822  0.19104015\n",
      " 0.18804996 0.18206957 0.1777504  0.18040835 0.18605649 0.18937893\n",
      " 0.1883822  0.18605649 0.1936981  0.19834951 0.19436259 0.19170464\n",
      " 0.19203688 0.19004342 0.18705323 0.18638874 0.18539201 0.17941162\n",
      " 0.19004342 0.18871444 0.18472752 0.18771771 0.18871444 0.18472752\n",
      " 0.18592465 0.18736146 0.18884802 0.19041085]\n",
      "4 day output [[0.19205719]]\n",
      "5 day input [0.12824608 0.12359467 0.11661755 0.11661755 0.12060448 0.11993999\n",
      " 0.1299073  0.13688442 0.1328975  0.12724935 0.12160121 0.11960775\n",
      " 0.12326243 0.11993999 0.11993999 0.13223301 0.12824608 0.12359467\n",
      " 0.11495633 0.12060448 0.12093672 0.13455871 0.13422647 0.1405391\n",
      " 0.14519051 0.145855   0.15216763 0.15848026 0.15249988 0.14784846\n",
      " 0.15316436 0.1541611  0.16379616 0.17642143 0.20200419 0.20831682\n",
      " 0.19868176 0.18439528 0.1618027  0.17276674 0.17409572 0.17575694\n",
      " 0.16844758 0.16844758 0.16512514 0.16678636 0.16246719 0.15582231\n",
      " 0.15848026 0.15449334 0.15781578 0.16014148 0.15681905 0.15914475\n",
      " 0.16379616 0.16147046 0.16047373 0.15216763 0.16080597 0.159477\n",
      " 0.16944431 0.18206957 0.18605649 0.18406303 0.17941162 0.18007611\n",
      " 0.18539201 0.19004342 0.18672098 0.1883822  0.19104015 0.18804996\n",
      " 0.18206957 0.1777504  0.18040835 0.18605649 0.18937893 0.1883822\n",
      " 0.18605649 0.1936981  0.19834951 0.19436259 0.19170464 0.19203688\n",
      " 0.19004342 0.18705323 0.18638874 0.18539201 0.17941162 0.19004342\n",
      " 0.18871444 0.18472752 0.18771771 0.18871444 0.18472752 0.18592465\n",
      " 0.18736146 0.18884802 0.19041085 0.19205719]\n",
      "5 day output [[0.19369958]]\n",
      "6 day input [0.12359467 0.11661755 0.11661755 0.12060448 0.11993999 0.1299073\n",
      " 0.13688442 0.1328975  0.12724935 0.12160121 0.11960775 0.12326243\n",
      " 0.11993999 0.11993999 0.13223301 0.12824608 0.12359467 0.11495633\n",
      " 0.12060448 0.12093672 0.13455871 0.13422647 0.1405391  0.14519051\n",
      " 0.145855   0.15216763 0.15848026 0.15249988 0.14784846 0.15316436\n",
      " 0.1541611  0.16379616 0.17642143 0.20200419 0.20831682 0.19868176\n",
      " 0.18439528 0.1618027  0.17276674 0.17409572 0.17575694 0.16844758\n",
      " 0.16844758 0.16512514 0.16678636 0.16246719 0.15582231 0.15848026\n",
      " 0.15449334 0.15781578 0.16014148 0.15681905 0.15914475 0.16379616\n",
      " 0.16147046 0.16047373 0.15216763 0.16080597 0.159477   0.16944431\n",
      " 0.18206957 0.18605649 0.18406303 0.17941162 0.18007611 0.18539201\n",
      " 0.19004342 0.18672098 0.1883822  0.19104015 0.18804996 0.18206957\n",
      " 0.1777504  0.18040835 0.18605649 0.18937893 0.1883822  0.18605649\n",
      " 0.1936981  0.19834951 0.19436259 0.19170464 0.19203688 0.19004342\n",
      " 0.18705323 0.18638874 0.18539201 0.17941162 0.19004342 0.18871444\n",
      " 0.18472752 0.18771771 0.18871444 0.18472752 0.18592465 0.18736146\n",
      " 0.18884802 0.19041085 0.19205719 0.19369958]\n",
      "6 day output [[0.19531603]]\n",
      "7 day input [0.11661755 0.11661755 0.12060448 0.11993999 0.1299073  0.13688442\n",
      " 0.1328975  0.12724935 0.12160121 0.11960775 0.12326243 0.11993999\n",
      " 0.11993999 0.13223301 0.12824608 0.12359467 0.11495633 0.12060448\n",
      " 0.12093672 0.13455871 0.13422647 0.1405391  0.14519051 0.145855\n",
      " 0.15216763 0.15848026 0.15249988 0.14784846 0.15316436 0.1541611\n",
      " 0.16379616 0.17642143 0.20200419 0.20831682 0.19868176 0.18439528\n",
      " 0.1618027  0.17276674 0.17409572 0.17575694 0.16844758 0.16844758\n",
      " 0.16512514 0.16678636 0.16246719 0.15582231 0.15848026 0.15449334\n",
      " 0.15781578 0.16014148 0.15681905 0.15914475 0.16379616 0.16147046\n",
      " 0.16047373 0.15216763 0.16080597 0.159477   0.16944431 0.18206957\n",
      " 0.18605649 0.18406303 0.17941162 0.18007611 0.18539201 0.19004342\n",
      " 0.18672098 0.1883822  0.19104015 0.18804996 0.18206957 0.1777504\n",
      " 0.18040835 0.18605649 0.18937893 0.1883822  0.18605649 0.1936981\n",
      " 0.19834951 0.19436259 0.19170464 0.19203688 0.19004342 0.18705323\n",
      " 0.18638874 0.18539201 0.17941162 0.19004342 0.18871444 0.18472752\n",
      " 0.18771771 0.18871444 0.18472752 0.18592465 0.18736146 0.18884802\n",
      " 0.19041085 0.19205719 0.19369958 0.19531603]\n",
      "7 day output [[0.19691034]]\n",
      "8 day input [0.11661755 0.12060448 0.11993999 0.1299073  0.13688442 0.1328975\n",
      " 0.12724935 0.12160121 0.11960775 0.12326243 0.11993999 0.11993999\n",
      " 0.13223301 0.12824608 0.12359467 0.11495633 0.12060448 0.12093672\n",
      " 0.13455871 0.13422647 0.1405391  0.14519051 0.145855   0.15216763\n",
      " 0.15848026 0.15249988 0.14784846 0.15316436 0.1541611  0.16379616\n",
      " 0.17642143 0.20200419 0.20831682 0.19868176 0.18439528 0.1618027\n",
      " 0.17276674 0.17409572 0.17575694 0.16844758 0.16844758 0.16512514\n",
      " 0.16678636 0.16246719 0.15582231 0.15848026 0.15449334 0.15781578\n",
      " 0.16014148 0.15681905 0.15914475 0.16379616 0.16147046 0.16047373\n",
      " 0.15216763 0.16080597 0.159477   0.16944431 0.18206957 0.18605649\n",
      " 0.18406303 0.17941162 0.18007611 0.18539201 0.19004342 0.18672098\n",
      " 0.1883822  0.19104015 0.18804996 0.18206957 0.1777504  0.18040835\n",
      " 0.18605649 0.18937893 0.1883822  0.18605649 0.1936981  0.19834951\n",
      " 0.19436259 0.19170464 0.19203688 0.19004342 0.18705323 0.18638874\n",
      " 0.18539201 0.17941162 0.19004342 0.18871444 0.18472752 0.18771771\n",
      " 0.18871444 0.18472752 0.18592465 0.18736146 0.18884802 0.19041085\n",
      " 0.19205719 0.19369958 0.19531603 0.19691034]\n",
      "8 day output [[0.19849129]]\n",
      "9 day input [0.12060448 0.11993999 0.1299073  0.13688442 0.1328975  0.12724935\n",
      " 0.12160121 0.11960775 0.12326243 0.11993999 0.11993999 0.13223301\n",
      " 0.12824608 0.12359467 0.11495633 0.12060448 0.12093672 0.13455871\n",
      " 0.13422647 0.1405391  0.14519051 0.145855   0.15216763 0.15848026\n",
      " 0.15249988 0.14784846 0.15316436 0.1541611  0.16379616 0.17642143\n",
      " 0.20200419 0.20831682 0.19868176 0.18439528 0.1618027  0.17276674\n",
      " 0.17409572 0.17575694 0.16844758 0.16844758 0.16512514 0.16678636\n",
      " 0.16246719 0.15582231 0.15848026 0.15449334 0.15781578 0.16014148\n",
      " 0.15681905 0.15914475 0.16379616 0.16147046 0.16047373 0.15216763\n",
      " 0.16080597 0.159477   0.16944431 0.18206957 0.18605649 0.18406303\n",
      " 0.17941162 0.18007611 0.18539201 0.19004342 0.18672098 0.1883822\n",
      " 0.19104015 0.18804996 0.18206957 0.1777504  0.18040835 0.18605649\n",
      " 0.18937893 0.1883822  0.18605649 0.1936981  0.19834951 0.19436259\n",
      " 0.19170464 0.19203688 0.19004342 0.18705323 0.18638874 0.18539201\n",
      " 0.17941162 0.19004342 0.18871444 0.18472752 0.18771771 0.18871444\n",
      " 0.18472752 0.18592465 0.18736146 0.18884802 0.19041085 0.19205719\n",
      " 0.19369958 0.19531603 0.19691034 0.19849129]\n",
      "9 day output [[0.20006602]]\n",
      "10 day input [0.11993999 0.1299073  0.13688442 0.1328975  0.12724935 0.12160121\n",
      " 0.11960775 0.12326243 0.11993999 0.11993999 0.13223301 0.12824608\n",
      " 0.12359467 0.11495633 0.12060448 0.12093672 0.13455871 0.13422647\n",
      " 0.1405391  0.14519051 0.145855   0.15216763 0.15848026 0.15249988\n",
      " 0.14784846 0.15316436 0.1541611  0.16379616 0.17642143 0.20200419\n",
      " 0.20831682 0.19868176 0.18439528 0.1618027  0.17276674 0.17409572\n",
      " 0.17575694 0.16844758 0.16844758 0.16512514 0.16678636 0.16246719\n",
      " 0.15582231 0.15848026 0.15449334 0.15781578 0.16014148 0.15681905\n",
      " 0.15914475 0.16379616 0.16147046 0.16047373 0.15216763 0.16080597\n",
      " 0.159477   0.16944431 0.18206957 0.18605649 0.18406303 0.17941162\n",
      " 0.18007611 0.18539201 0.19004342 0.18672098 0.1883822  0.19104015\n",
      " 0.18804996 0.18206957 0.1777504  0.18040835 0.18605649 0.18937893\n",
      " 0.1883822  0.18605649 0.1936981  0.19834951 0.19436259 0.19170464\n",
      " 0.19203688 0.19004342 0.18705323 0.18638874 0.18539201 0.17941162\n",
      " 0.19004342 0.18871444 0.18472752 0.18771771 0.18871444 0.18472752\n",
      " 0.18592465 0.18736146 0.18884802 0.19041085 0.19205719 0.19369958\n",
      " 0.19531603 0.19691034 0.19849129 0.20006602]\n",
      "10 day output [[0.20163894]]\n",
      "11 day input [0.1299073  0.13688442 0.1328975  0.12724935 0.12160121 0.11960775\n",
      " 0.12326243 0.11993999 0.11993999 0.13223301 0.12824608 0.12359467\n",
      " 0.11495633 0.12060448 0.12093672 0.13455871 0.13422647 0.1405391\n",
      " 0.14519051 0.145855   0.15216763 0.15848026 0.15249988 0.14784846\n",
      " 0.15316436 0.1541611  0.16379616 0.17642143 0.20200419 0.20831682\n",
      " 0.19868176 0.18439528 0.1618027  0.17276674 0.17409572 0.17575694\n",
      " 0.16844758 0.16844758 0.16512514 0.16678636 0.16246719 0.15582231\n",
      " 0.15848026 0.15449334 0.15781578 0.16014148 0.15681905 0.15914475\n",
      " 0.16379616 0.16147046 0.16047373 0.15216763 0.16080597 0.159477\n",
      " 0.16944431 0.18206957 0.18605649 0.18406303 0.17941162 0.18007611\n",
      " 0.18539201 0.19004342 0.18672098 0.1883822  0.19104015 0.18804996\n",
      " 0.18206957 0.1777504  0.18040835 0.18605649 0.18937893 0.1883822\n",
      " 0.18605649 0.1936981  0.19834951 0.19436259 0.19170464 0.19203688\n",
      " 0.19004342 0.18705323 0.18638874 0.18539201 0.17941162 0.19004342\n",
      " 0.18871444 0.18472752 0.18771771 0.18871444 0.18472752 0.18592465\n",
      " 0.18736146 0.18884802 0.19041085 0.19205719 0.19369958 0.19531603\n",
      " 0.19691034 0.19849129 0.20006602 0.20163894]\n",
      "11 day output [[0.20321226]]\n",
      "12 day input [0.13688442 0.1328975  0.12724935 0.12160121 0.11960775 0.12326243\n",
      " 0.11993999 0.11993999 0.13223301 0.12824608 0.12359467 0.11495633\n",
      " 0.12060448 0.12093672 0.13455871 0.13422647 0.1405391  0.14519051\n",
      " 0.145855   0.15216763 0.15848026 0.15249988 0.14784846 0.15316436\n",
      " 0.1541611  0.16379616 0.17642143 0.20200419 0.20831682 0.19868176\n",
      " 0.18439528 0.1618027  0.17276674 0.17409572 0.17575694 0.16844758\n",
      " 0.16844758 0.16512514 0.16678636 0.16246719 0.15582231 0.15848026\n",
      " 0.15449334 0.15781578 0.16014148 0.15681905 0.15914475 0.16379616\n",
      " 0.16147046 0.16047373 0.15216763 0.16080597 0.159477   0.16944431\n",
      " 0.18206957 0.18605649 0.18406303 0.17941162 0.18007611 0.18539201\n",
      " 0.19004342 0.18672098 0.1883822  0.19104015 0.18804996 0.18206957\n",
      " 0.1777504  0.18040835 0.18605649 0.18937893 0.1883822  0.18605649\n",
      " 0.1936981  0.19834951 0.19436259 0.19170464 0.19203688 0.19004342\n",
      " 0.18705323 0.18638874 0.18539201 0.17941162 0.19004342 0.18871444\n",
      " 0.18472752 0.18771771 0.18871444 0.18472752 0.18592465 0.18736146\n",
      " 0.18884802 0.19041085 0.19205719 0.19369958 0.19531603 0.19691034\n",
      " 0.19849129 0.20006602 0.20163894 0.20321226]\n",
      "12 day output [[0.20478675]]\n",
      "13 day input [0.1328975  0.12724935 0.12160121 0.11960775 0.12326243 0.11993999\n",
      " 0.11993999 0.13223301 0.12824608 0.12359467 0.11495633 0.12060448\n",
      " 0.12093672 0.13455871 0.13422647 0.1405391  0.14519051 0.145855\n",
      " 0.15216763 0.15848026 0.15249988 0.14784846 0.15316436 0.1541611\n",
      " 0.16379616 0.17642143 0.20200419 0.20831682 0.19868176 0.18439528\n",
      " 0.1618027  0.17276674 0.17409572 0.17575694 0.16844758 0.16844758\n",
      " 0.16512514 0.16678636 0.16246719 0.15582231 0.15848026 0.15449334\n",
      " 0.15781578 0.16014148 0.15681905 0.15914475 0.16379616 0.16147046\n",
      " 0.16047373 0.15216763 0.16080597 0.159477   0.16944431 0.18206957\n",
      " 0.18605649 0.18406303 0.17941162 0.18007611 0.18539201 0.19004342\n",
      " 0.18672098 0.1883822  0.19104015 0.18804996 0.18206957 0.1777504\n",
      " 0.18040835 0.18605649 0.18937893 0.1883822  0.18605649 0.1936981\n",
      " 0.19834951 0.19436259 0.19170464 0.19203688 0.19004342 0.18705323\n",
      " 0.18638874 0.18539201 0.17941162 0.19004342 0.18871444 0.18472752\n",
      " 0.18771771 0.18871444 0.18472752 0.18592465 0.18736146 0.18884802\n",
      " 0.19041085 0.19205719 0.19369958 0.19531603 0.19691034 0.19849129\n",
      " 0.20006602 0.20163894 0.20321226 0.20478675]\n"
     ]
    },
    {
     "name": "stdout",
     "output_type": "stream",
     "text": [
      "13 day output [[0.20636252]]\n",
      "14 day input [0.12724935 0.12160121 0.11960775 0.12326243 0.11993999 0.11993999\n",
      " 0.13223301 0.12824608 0.12359467 0.11495633 0.12060448 0.12093672\n",
      " 0.13455871 0.13422647 0.1405391  0.14519051 0.145855   0.15216763\n",
      " 0.15848026 0.15249988 0.14784846 0.15316436 0.1541611  0.16379616\n",
      " 0.17642143 0.20200419 0.20831682 0.19868176 0.18439528 0.1618027\n",
      " 0.17276674 0.17409572 0.17575694 0.16844758 0.16844758 0.16512514\n",
      " 0.16678636 0.16246719 0.15582231 0.15848026 0.15449334 0.15781578\n",
      " 0.16014148 0.15681905 0.15914475 0.16379616 0.16147046 0.16047373\n",
      " 0.15216763 0.16080597 0.159477   0.16944431 0.18206957 0.18605649\n",
      " 0.18406303 0.17941162 0.18007611 0.18539201 0.19004342 0.18672098\n",
      " 0.1883822  0.19104015 0.18804996 0.18206957 0.1777504  0.18040835\n",
      " 0.18605649 0.18937893 0.1883822  0.18605649 0.1936981  0.19834951\n",
      " 0.19436259 0.19170464 0.19203688 0.19004342 0.18705323 0.18638874\n",
      " 0.18539201 0.17941162 0.19004342 0.18871444 0.18472752 0.18771771\n",
      " 0.18871444 0.18472752 0.18592465 0.18736146 0.18884802 0.19041085\n",
      " 0.19205719 0.19369958 0.19531603 0.19691034 0.19849129 0.20006602\n",
      " 0.20163894 0.20321226 0.20478675 0.20636252]\n",
      "14 day output [[0.20793952]]\n",
      "15 day input [0.12160121 0.11960775 0.12326243 0.11993999 0.11993999 0.13223301\n",
      " 0.12824608 0.12359467 0.11495633 0.12060448 0.12093672 0.13455871\n",
      " 0.13422647 0.1405391  0.14519051 0.145855   0.15216763 0.15848026\n",
      " 0.15249988 0.14784846 0.15316436 0.1541611  0.16379616 0.17642143\n",
      " 0.20200419 0.20831682 0.19868176 0.18439528 0.1618027  0.17276674\n",
      " 0.17409572 0.17575694 0.16844758 0.16844758 0.16512514 0.16678636\n",
      " 0.16246719 0.15582231 0.15848026 0.15449334 0.15781578 0.16014148\n",
      " 0.15681905 0.15914475 0.16379616 0.16147046 0.16047373 0.15216763\n",
      " 0.16080597 0.159477   0.16944431 0.18206957 0.18605649 0.18406303\n",
      " 0.17941162 0.18007611 0.18539201 0.19004342 0.18672098 0.1883822\n",
      " 0.19104015 0.18804996 0.18206957 0.1777504  0.18040835 0.18605649\n",
      " 0.18937893 0.1883822  0.18605649 0.1936981  0.19834951 0.19436259\n",
      " 0.19170464 0.19203688 0.19004342 0.18705323 0.18638874 0.18539201\n",
      " 0.17941162 0.19004342 0.18871444 0.18472752 0.18771771 0.18871444\n",
      " 0.18472752 0.18592465 0.18736146 0.18884802 0.19041085 0.19205719\n",
      " 0.19369958 0.19531603 0.19691034 0.19849129 0.20006602 0.20163894\n",
      " 0.20321226 0.20478675 0.20636252 0.20793952]\n",
      "15 day output [[0.20951767]]\n",
      "16 day input [0.11960775 0.12326243 0.11993999 0.11993999 0.13223301 0.12824608\n",
      " 0.12359467 0.11495633 0.12060448 0.12093672 0.13455871 0.13422647\n",
      " 0.1405391  0.14519051 0.145855   0.15216763 0.15848026 0.15249988\n",
      " 0.14784846 0.15316436 0.1541611  0.16379616 0.17642143 0.20200419\n",
      " 0.20831682 0.19868176 0.18439528 0.1618027  0.17276674 0.17409572\n",
      " 0.17575694 0.16844758 0.16844758 0.16512514 0.16678636 0.16246719\n",
      " 0.15582231 0.15848026 0.15449334 0.15781578 0.16014148 0.15681905\n",
      " 0.15914475 0.16379616 0.16147046 0.16047373 0.15216763 0.16080597\n",
      " 0.159477   0.16944431 0.18206957 0.18605649 0.18406303 0.17941162\n",
      " 0.18007611 0.18539201 0.19004342 0.18672098 0.1883822  0.19104015\n",
      " 0.18804996 0.18206957 0.1777504  0.18040835 0.18605649 0.18937893\n",
      " 0.1883822  0.18605649 0.1936981  0.19834951 0.19436259 0.19170464\n",
      " 0.19203688 0.19004342 0.18705323 0.18638874 0.18539201 0.17941162\n",
      " 0.19004342 0.18871444 0.18472752 0.18771771 0.18871444 0.18472752\n",
      " 0.18592465 0.18736146 0.18884802 0.19041085 0.19205719 0.19369958\n",
      " 0.19531603 0.19691034 0.19849129 0.20006602 0.20163894 0.20321226\n",
      " 0.20478675 0.20636252 0.20793952 0.20951767]\n",
      "16 day output [[0.21109697]]\n",
      "17 day input [0.12326243 0.11993999 0.11993999 0.13223301 0.12824608 0.12359467\n",
      " 0.11495633 0.12060448 0.12093672 0.13455871 0.13422647 0.1405391\n",
      " 0.14519051 0.145855   0.15216763 0.15848026 0.15249988 0.14784846\n",
      " 0.15316436 0.1541611  0.16379616 0.17642143 0.20200419 0.20831682\n",
      " 0.19868176 0.18439528 0.1618027  0.17276674 0.17409572 0.17575694\n",
      " 0.16844758 0.16844758 0.16512514 0.16678636 0.16246719 0.15582231\n",
      " 0.15848026 0.15449334 0.15781578 0.16014148 0.15681905 0.15914475\n",
      " 0.16379616 0.16147046 0.16047373 0.15216763 0.16080597 0.159477\n",
      " 0.16944431 0.18206957 0.18605649 0.18406303 0.17941162 0.18007611\n",
      " 0.18539201 0.19004342 0.18672098 0.1883822  0.19104015 0.18804996\n",
      " 0.18206957 0.1777504  0.18040835 0.18605649 0.18937893 0.1883822\n",
      " 0.18605649 0.1936981  0.19834951 0.19436259 0.19170464 0.19203688\n",
      " 0.19004342 0.18705323 0.18638874 0.18539201 0.17941162 0.19004342\n",
      " 0.18871444 0.18472752 0.18771771 0.18871444 0.18472752 0.18592465\n",
      " 0.18736146 0.18884802 0.19041085 0.19205719 0.19369958 0.19531603\n",
      " 0.19691034 0.19849129 0.20006602 0.20163894 0.20321226 0.20478675\n",
      " 0.20636252 0.20793952 0.20951767 0.21109697]\n",
      "17 day output [[0.21267752]]\n",
      "18 day input [0.11993999 0.11993999 0.13223301 0.12824608 0.12359467 0.11495633\n",
      " 0.12060448 0.12093672 0.13455871 0.13422647 0.1405391  0.14519051\n",
      " 0.145855   0.15216763 0.15848026 0.15249988 0.14784846 0.15316436\n",
      " 0.1541611  0.16379616 0.17642143 0.20200419 0.20831682 0.19868176\n",
      " 0.18439528 0.1618027  0.17276674 0.17409572 0.17575694 0.16844758\n",
      " 0.16844758 0.16512514 0.16678636 0.16246719 0.15582231 0.15848026\n",
      " 0.15449334 0.15781578 0.16014148 0.15681905 0.15914475 0.16379616\n",
      " 0.16147046 0.16047373 0.15216763 0.16080597 0.159477   0.16944431\n",
      " 0.18206957 0.18605649 0.18406303 0.17941162 0.18007611 0.18539201\n",
      " 0.19004342 0.18672098 0.1883822  0.19104015 0.18804996 0.18206957\n",
      " 0.1777504  0.18040835 0.18605649 0.18937893 0.1883822  0.18605649\n",
      " 0.1936981  0.19834951 0.19436259 0.19170464 0.19203688 0.19004342\n",
      " 0.18705323 0.18638874 0.18539201 0.17941162 0.19004342 0.18871444\n",
      " 0.18472752 0.18771771 0.18871444 0.18472752 0.18592465 0.18736146\n",
      " 0.18884802 0.19041085 0.19205719 0.19369958 0.19531603 0.19691034\n",
      " 0.19849129 0.20006602 0.20163894 0.20321226 0.20478675 0.20636252\n",
      " 0.20793952 0.20951767 0.21109697 0.21267752]\n",
      "18 day output [[0.21425934]]\n",
      "19 day input [0.11993999 0.13223301 0.12824608 0.12359467 0.11495633 0.12060448\n",
      " 0.12093672 0.13455871 0.13422647 0.1405391  0.14519051 0.145855\n",
      " 0.15216763 0.15848026 0.15249988 0.14784846 0.15316436 0.1541611\n",
      " 0.16379616 0.17642143 0.20200419 0.20831682 0.19868176 0.18439528\n",
      " 0.1618027  0.17276674 0.17409572 0.17575694 0.16844758 0.16844758\n",
      " 0.16512514 0.16678636 0.16246719 0.15582231 0.15848026 0.15449334\n",
      " 0.15781578 0.16014148 0.15681905 0.15914475 0.16379616 0.16147046\n",
      " 0.16047373 0.15216763 0.16080597 0.159477   0.16944431 0.18206957\n",
      " 0.18605649 0.18406303 0.17941162 0.18007611 0.18539201 0.19004342\n",
      " 0.18672098 0.1883822  0.19104015 0.18804996 0.18206957 0.1777504\n",
      " 0.18040835 0.18605649 0.18937893 0.1883822  0.18605649 0.1936981\n",
      " 0.19834951 0.19436259 0.19170464 0.19203688 0.19004342 0.18705323\n",
      " 0.18638874 0.18539201 0.17941162 0.19004342 0.18871444 0.18472752\n",
      " 0.18771771 0.18871444 0.18472752 0.18592465 0.18736146 0.18884802\n",
      " 0.19041085 0.19205719 0.19369958 0.19531603 0.19691034 0.19849129\n",
      " 0.20006602 0.20163894 0.20321226 0.20478675 0.20636252 0.20793952\n",
      " 0.20951767 0.21109697 0.21267752 0.21425934]\n",
      "19 day output [[0.21584256]]\n",
      "20 day input [0.13223301 0.12824608 0.12359467 0.11495633 0.12060448 0.12093672\n",
      " 0.13455871 0.13422647 0.1405391  0.14519051 0.145855   0.15216763\n",
      " 0.15848026 0.15249988 0.14784846 0.15316436 0.1541611  0.16379616\n",
      " 0.17642143 0.20200419 0.20831682 0.19868176 0.18439528 0.1618027\n",
      " 0.17276674 0.17409572 0.17575694 0.16844758 0.16844758 0.16512514\n",
      " 0.16678636 0.16246719 0.15582231 0.15848026 0.15449334 0.15781578\n",
      " 0.16014148 0.15681905 0.15914475 0.16379616 0.16147046 0.16047373\n",
      " 0.15216763 0.16080597 0.159477   0.16944431 0.18206957 0.18605649\n",
      " 0.18406303 0.17941162 0.18007611 0.18539201 0.19004342 0.18672098\n",
      " 0.1883822  0.19104015 0.18804996 0.18206957 0.1777504  0.18040835\n",
      " 0.18605649 0.18937893 0.1883822  0.18605649 0.1936981  0.19834951\n",
      " 0.19436259 0.19170464 0.19203688 0.19004342 0.18705323 0.18638874\n",
      " 0.18539201 0.17941162 0.19004342 0.18871444 0.18472752 0.18771771\n",
      " 0.18871444 0.18472752 0.18592465 0.18736146 0.18884802 0.19041085\n",
      " 0.19205719 0.19369958 0.19531603 0.19691034 0.19849129 0.20006602\n",
      " 0.20163894 0.20321226 0.20478675 0.20636252 0.20793952 0.20951767\n",
      " 0.21109697 0.21267752 0.21425934 0.21584256]\n",
      "20 day output [[0.21742736]]\n",
      "21 day input [0.12824608 0.12359467 0.11495633 0.12060448 0.12093672 0.13455871\n",
      " 0.13422647 0.1405391  0.14519051 0.145855   0.15216763 0.15848026\n",
      " 0.15249988 0.14784846 0.15316436 0.1541611  0.16379616 0.17642143\n",
      " 0.20200419 0.20831682 0.19868176 0.18439528 0.1618027  0.17276674\n",
      " 0.17409572 0.17575694 0.16844758 0.16844758 0.16512514 0.16678636\n",
      " 0.16246719 0.15582231 0.15848026 0.15449334 0.15781578 0.16014148\n",
      " 0.15681905 0.15914475 0.16379616 0.16147046 0.16047373 0.15216763\n",
      " 0.16080597 0.159477   0.16944431 0.18206957 0.18605649 0.18406303\n",
      " 0.17941162 0.18007611 0.18539201 0.19004342 0.18672098 0.1883822\n",
      " 0.19104015 0.18804996 0.18206957 0.1777504  0.18040835 0.18605649\n",
      " 0.18937893 0.1883822  0.18605649 0.1936981  0.19834951 0.19436259\n",
      " 0.19170464 0.19203688 0.19004342 0.18705323 0.18638874 0.18539201\n",
      " 0.17941162 0.19004342 0.18871444 0.18472752 0.18771771 0.18871444\n",
      " 0.18472752 0.18592465 0.18736146 0.18884802 0.19041085 0.19205719\n",
      " 0.19369958 0.19531603 0.19691034 0.19849129 0.20006602 0.20163894\n",
      " 0.20321226 0.20478675 0.20636252 0.20793952 0.20951767 0.21109697\n",
      " 0.21267752 0.21425934 0.21584256 0.21742736]\n",
      "21 day output [[0.2190138]]\n",
      "22 day input [0.12359467 0.11495633 0.12060448 0.12093672 0.13455871 0.13422647\n",
      " 0.1405391  0.14519051 0.145855   0.15216763 0.15848026 0.15249988\n",
      " 0.14784846 0.15316436 0.1541611  0.16379616 0.17642143 0.20200419\n",
      " 0.20831682 0.19868176 0.18439528 0.1618027  0.17276674 0.17409572\n",
      " 0.17575694 0.16844758 0.16844758 0.16512514 0.16678636 0.16246719\n",
      " 0.15582231 0.15848026 0.15449334 0.15781578 0.16014148 0.15681905\n",
      " 0.15914475 0.16379616 0.16147046 0.16047373 0.15216763 0.16080597\n",
      " 0.159477   0.16944431 0.18206957 0.18605649 0.18406303 0.17941162\n",
      " 0.18007611 0.18539201 0.19004342 0.18672098 0.1883822  0.19104015\n",
      " 0.18804996 0.18206957 0.1777504  0.18040835 0.18605649 0.18937893\n",
      " 0.1883822  0.18605649 0.1936981  0.19834951 0.19436259 0.19170464\n",
      " 0.19203688 0.19004342 0.18705323 0.18638874 0.18539201 0.17941162\n",
      " 0.19004342 0.18871444 0.18472752 0.18771771 0.18871444 0.18472752\n",
      " 0.18592465 0.18736146 0.18884802 0.19041085 0.19205719 0.19369958\n",
      " 0.19531603 0.19691034 0.19849129 0.20006602 0.20163894 0.20321226\n",
      " 0.20478675 0.20636252 0.20793952 0.20951767 0.21109697 0.21267752\n",
      " 0.21425934 0.21584256 0.21742736 0.2190138 ]\n",
      "22 day output [[0.22060214]]\n",
      "23 day input [0.11495633 0.12060448 0.12093672 0.13455871 0.13422647 0.1405391\n",
      " 0.14519051 0.145855   0.15216763 0.15848026 0.15249988 0.14784846\n",
      " 0.15316436 0.1541611  0.16379616 0.17642143 0.20200419 0.20831682\n",
      " 0.19868176 0.18439528 0.1618027  0.17276674 0.17409572 0.17575694\n",
      " 0.16844758 0.16844758 0.16512514 0.16678636 0.16246719 0.15582231\n",
      " 0.15848026 0.15449334 0.15781578 0.16014148 0.15681905 0.15914475\n",
      " 0.16379616 0.16147046 0.16047373 0.15216763 0.16080597 0.159477\n",
      " 0.16944431 0.18206957 0.18605649 0.18406303 0.17941162 0.18007611\n",
      " 0.18539201 0.19004342 0.18672098 0.1883822  0.19104015 0.18804996\n",
      " 0.18206957 0.1777504  0.18040835 0.18605649 0.18937893 0.1883822\n",
      " 0.18605649 0.1936981  0.19834951 0.19436259 0.19170464 0.19203688\n",
      " 0.19004342 0.18705323 0.18638874 0.18539201 0.17941162 0.19004342\n",
      " 0.18871444 0.18472752 0.18771771 0.18871444 0.18472752 0.18592465\n",
      " 0.18736146 0.18884802 0.19041085 0.19205719 0.19369958 0.19531603\n",
      " 0.19691034 0.19849129 0.20006602 0.20163894 0.20321226 0.20478675\n",
      " 0.20636252 0.20793952 0.20951767 0.21109697 0.21267752 0.21425934\n",
      " 0.21584256 0.21742736 0.2190138  0.22060214]\n",
      "23 day output [[0.2221923]]\n",
      "24 day input [0.12060448 0.12093672 0.13455871 0.13422647 0.1405391  0.14519051\n",
      " 0.145855   0.15216763 0.15848026 0.15249988 0.14784846 0.15316436\n",
      " 0.1541611  0.16379616 0.17642143 0.20200419 0.20831682 0.19868176\n",
      " 0.18439528 0.1618027  0.17276674 0.17409572 0.17575694 0.16844758\n",
      " 0.16844758 0.16512514 0.16678636 0.16246719 0.15582231 0.15848026\n",
      " 0.15449334 0.15781578 0.16014148 0.15681905 0.15914475 0.16379616\n",
      " 0.16147046 0.16047373 0.15216763 0.16080597 0.159477   0.16944431\n",
      " 0.18206957 0.18605649 0.18406303 0.17941162 0.18007611 0.18539201\n",
      " 0.19004342 0.18672098 0.1883822  0.19104015 0.18804996 0.18206957\n",
      " 0.1777504  0.18040835 0.18605649 0.18937893 0.1883822  0.18605649\n",
      " 0.1936981  0.19834951 0.19436259 0.19170464 0.19203688 0.19004342\n",
      " 0.18705323 0.18638874 0.18539201 0.17941162 0.19004342 0.18871444\n",
      " 0.18472752 0.18771771 0.18871444 0.18472752 0.18592465 0.18736146\n",
      " 0.18884802 0.19041085 0.19205719 0.19369958 0.19531603 0.19691034\n",
      " 0.19849129 0.20006602 0.20163894 0.20321226 0.20478675 0.20636252\n",
      " 0.20793952 0.20951767 0.21109697 0.21267752 0.21425934 0.21584256\n",
      " 0.21742736 0.2190138  0.22060214 0.2221923 ]\n",
      "24 day output [[0.22378455]]\n",
      "25 day input [0.12093672 0.13455871 0.13422647 0.1405391  0.14519051 0.145855\n",
      " 0.15216763 0.15848026 0.15249988 0.14784846 0.15316436 0.1541611\n",
      " 0.16379616 0.17642143 0.20200419 0.20831682 0.19868176 0.18439528\n",
      " 0.1618027  0.17276674 0.17409572 0.17575694 0.16844758 0.16844758\n",
      " 0.16512514 0.16678636 0.16246719 0.15582231 0.15848026 0.15449334\n",
      " 0.15781578 0.16014148 0.15681905 0.15914475 0.16379616 0.16147046\n",
      " 0.16047373 0.15216763 0.16080597 0.159477   0.16944431 0.18206957\n",
      " 0.18605649 0.18406303 0.17941162 0.18007611 0.18539201 0.19004342\n",
      " 0.18672098 0.1883822  0.19104015 0.18804996 0.18206957 0.1777504\n",
      " 0.18040835 0.18605649 0.18937893 0.1883822  0.18605649 0.1936981\n",
      " 0.19834951 0.19436259 0.19170464 0.19203688 0.19004342 0.18705323\n",
      " 0.18638874 0.18539201 0.17941162 0.19004342 0.18871444 0.18472752\n",
      " 0.18771771 0.18871444 0.18472752 0.18592465 0.18736146 0.18884802\n",
      " 0.19041085 0.19205719 0.19369958 0.19531603 0.19691034 0.19849129\n",
      " 0.20006602 0.20163894 0.20321226 0.20478675 0.20636252 0.20793952\n",
      " 0.20951767 0.21109697 0.21267752 0.21425934 0.21584256 0.21742736\n",
      " 0.2190138  0.22060214 0.2221923  0.22378455]\n",
      "25 day output [[0.22537895]]\n",
      "26 day input [0.13455871 0.13422647 0.1405391  0.14519051 0.145855   0.15216763\n",
      " 0.15848026 0.15249988 0.14784846 0.15316436 0.1541611  0.16379616\n",
      " 0.17642143 0.20200419 0.20831682 0.19868176 0.18439528 0.1618027\n",
      " 0.17276674 0.17409572 0.17575694 0.16844758 0.16844758 0.16512514\n",
      " 0.16678636 0.16246719 0.15582231 0.15848026 0.15449334 0.15781578\n",
      " 0.16014148 0.15681905 0.15914475 0.16379616 0.16147046 0.16047373\n",
      " 0.15216763 0.16080597 0.159477   0.16944431 0.18206957 0.18605649\n",
      " 0.18406303 0.17941162 0.18007611 0.18539201 0.19004342 0.18672098\n",
      " 0.1883822  0.19104015 0.18804996 0.18206957 0.1777504  0.18040835\n",
      " 0.18605649 0.18937893 0.1883822  0.18605649 0.1936981  0.19834951\n",
      " 0.19436259 0.19170464 0.19203688 0.19004342 0.18705323 0.18638874\n",
      " 0.18539201 0.17941162 0.19004342 0.18871444 0.18472752 0.18771771\n",
      " 0.18871444 0.18472752 0.18592465 0.18736146 0.18884802 0.19041085\n",
      " 0.19205719 0.19369958 0.19531603 0.19691034 0.19849129 0.20006602\n",
      " 0.20163894 0.20321226 0.20478675 0.20636252 0.20793952 0.20951767\n",
      " 0.21109697 0.21267752 0.21425934 0.21584256 0.21742736 0.2190138\n",
      " 0.22060214 0.2221923  0.22378455 0.22537895]\n",
      "26 day output [[0.22697562]]\n",
      "27 day input [0.13422647 0.1405391  0.14519051 0.145855   0.15216763 0.15848026\n",
      " 0.15249988 0.14784846 0.15316436 0.1541611  0.16379616 0.17642143\n",
      " 0.20200419 0.20831682 0.19868176 0.18439528 0.1618027  0.17276674\n",
      " 0.17409572 0.17575694 0.16844758 0.16844758 0.16512514 0.16678636\n",
      " 0.16246719 0.15582231 0.15848026 0.15449334 0.15781578 0.16014148\n",
      " 0.15681905 0.15914475 0.16379616 0.16147046 0.16047373 0.15216763\n",
      " 0.16080597 0.159477   0.16944431 0.18206957 0.18605649 0.18406303\n",
      " 0.17941162 0.18007611 0.18539201 0.19004342 0.18672098 0.1883822\n",
      " 0.19104015 0.18804996 0.18206957 0.1777504  0.18040835 0.18605649\n",
      " 0.18937893 0.1883822  0.18605649 0.1936981  0.19834951 0.19436259\n",
      " 0.19170464 0.19203688 0.19004342 0.18705323 0.18638874 0.18539201\n",
      " 0.17941162 0.19004342 0.18871444 0.18472752 0.18771771 0.18871444\n",
      " 0.18472752 0.18592465 0.18736146 0.18884802 0.19041085 0.19205719\n",
      " 0.19369958 0.19531603 0.19691034 0.19849129 0.20006602 0.20163894\n",
      " 0.20321226 0.20478675 0.20636252 0.20793952 0.20951767 0.21109697\n",
      " 0.21267752 0.21425934 0.21584256 0.21742736 0.2190138  0.22060214\n",
      " 0.2221923  0.22378455 0.22537895 0.22697562]\n"
     ]
    },
    {
     "name": "stdout",
     "output_type": "stream",
     "text": [
      "27 day output [[0.22857468]]\n",
      "28 day input [0.1405391  0.14519051 0.145855   0.15216763 0.15848026 0.15249988\n",
      " 0.14784846 0.15316436 0.1541611  0.16379616 0.17642143 0.20200419\n",
      " 0.20831682 0.19868176 0.18439528 0.1618027  0.17276674 0.17409572\n",
      " 0.17575694 0.16844758 0.16844758 0.16512514 0.16678636 0.16246719\n",
      " 0.15582231 0.15848026 0.15449334 0.15781578 0.16014148 0.15681905\n",
      " 0.15914475 0.16379616 0.16147046 0.16047373 0.15216763 0.16080597\n",
      " 0.159477   0.16944431 0.18206957 0.18605649 0.18406303 0.17941162\n",
      " 0.18007611 0.18539201 0.19004342 0.18672098 0.1883822  0.19104015\n",
      " 0.18804996 0.18206957 0.1777504  0.18040835 0.18605649 0.18937893\n",
      " 0.1883822  0.18605649 0.1936981  0.19834951 0.19436259 0.19170464\n",
      " 0.19203688 0.19004342 0.18705323 0.18638874 0.18539201 0.17941162\n",
      " 0.19004342 0.18871444 0.18472752 0.18771771 0.18871444 0.18472752\n",
      " 0.18592465 0.18736146 0.18884802 0.19041085 0.19205719 0.19369958\n",
      " 0.19531603 0.19691034 0.19849129 0.20006602 0.20163894 0.20321226\n",
      " 0.20478675 0.20636252 0.20793952 0.20951767 0.21109697 0.21267752\n",
      " 0.21425934 0.21584256 0.21742736 0.2190138  0.22060214 0.2221923\n",
      " 0.22378455 0.22537895 0.22697562 0.22857468]\n",
      "28 day output [[0.23017626]]\n",
      "29 day input [0.14519051 0.145855   0.15216763 0.15848026 0.15249988 0.14784846\n",
      " 0.15316436 0.1541611  0.16379616 0.17642143 0.20200419 0.20831682\n",
      " 0.19868176 0.18439528 0.1618027  0.17276674 0.17409572 0.17575694\n",
      " 0.16844758 0.16844758 0.16512514 0.16678636 0.16246719 0.15582231\n",
      " 0.15848026 0.15449334 0.15781578 0.16014148 0.15681905 0.15914475\n",
      " 0.16379616 0.16147046 0.16047373 0.15216763 0.16080597 0.159477\n",
      " 0.16944431 0.18206957 0.18605649 0.18406303 0.17941162 0.18007611\n",
      " 0.18539201 0.19004342 0.18672098 0.1883822  0.19104015 0.18804996\n",
      " 0.18206957 0.1777504  0.18040835 0.18605649 0.18937893 0.1883822\n",
      " 0.18605649 0.1936981  0.19834951 0.19436259 0.19170464 0.19203688\n",
      " 0.19004342 0.18705323 0.18638874 0.18539201 0.17941162 0.19004342\n",
      " 0.18871444 0.18472752 0.18771771 0.18871444 0.18472752 0.18592465\n",
      " 0.18736146 0.18884802 0.19041085 0.19205719 0.19369958 0.19531603\n",
      " 0.19691034 0.19849129 0.20006602 0.20163894 0.20321226 0.20478675\n",
      " 0.20636252 0.20793952 0.20951767 0.21109697 0.21267752 0.21425934\n",
      " 0.21584256 0.21742736 0.2190138  0.22060214 0.2221923  0.22378455\n",
      " 0.22537895 0.22697562 0.22857468 0.23017626]\n",
      "29 day output [[0.23178041]]\n",
      "[[0.18592464923858643], [0.1873614639043808], [0.18884801864624023], [0.19041085243225098], [0.19205719232559204], [0.19369958341121674], [0.19531603157520294], [0.1969103366136551], [0.19849129021167755], [0.20006601512432098], [0.20163893699645996], [0.20321226119995117], [0.2047867476940155], [0.2063625156879425], [0.2079395204782486], [0.2095176726579666], [0.21109697222709656], [0.21267752349376678], [0.2142593413591385], [0.21584255993366241], [0.2174273580312729], [0.21901379525661469], [0.2206021398305893], [0.22219230234622955], [0.22378455102443695], [0.22537894546985626], [0.22697561979293823], [0.22857467830181122], [0.23017625510692596], [0.23178040981292725]]\n"
     ]
    }
   ],
   "source": [
    "from numpy import array\n",
    "\n",
    "lst_output=[]\n",
    "n_steps=time_step\n",
    "i=0\n",
    "while(i<30):\n",
    "    \n",
    "    if(len(temp_input)>time_step):\n",
    "        #print(temp_input)\n",
    "        x_input=np.array(temp_input[1:])\n",
    "        print(\"{} day input {}\".format(i,x_input))\n",
    "        x_input=x_input.reshape(1,-1)\n",
    "        x_input = x_input.reshape((1, n_steps, 1))\n",
    "        #print(x_input)\n",
    "        yhat = model.predict(x_input, verbose=0)\n",
    "        print(\"{} day output {}\".format(i,yhat))\n",
    "        temp_input.extend(yhat[0].tolist())\n",
    "        temp_input=temp_input[1:]\n",
    "        #print(temp_input)\n",
    "        lst_output.extend(yhat.tolist())\n",
    "        i=i+1\n",
    "    else:\n",
    "        x_input = x_input.reshape((1, n_steps,1))\n",
    "        yhat = model.predict(x_input, verbose=0)\n",
    "        print(yhat[0])\n",
    "        temp_input.extend(yhat[0].tolist())\n",
    "        print(len(temp_input))\n",
    "        lst_output.extend(yhat.tolist())\n",
    "        i=i+1\n",
    "    \n",
    "\n",
    "print(lst_output)"
   ]
  },
  {
   "cell_type": "markdown",
   "metadata": {},
   "source": [
    "###  visualise the predicted result"
   ]
  },
  {
   "cell_type": "code",
   "execution_count": 34,
   "metadata": {
    "scrolled": true
   },
   "outputs": [],
   "source": [
    "day_new=np.arange(1,time_step+1)\n",
    "day_pred=np.arange(time_step+1,time_step+31)"
   ]
  },
  {
   "cell_type": "markdown",
   "metadata": {},
   "source": [
    "### before combine into original data"
   ]
  },
  {
   "cell_type": "code",
   "execution_count": 42,
   "metadata": {},
   "outputs": [
    {
     "data": {
      "text/plain": [
       "Text(0.5, 0.98, 'Previous N day List and Preticted 30 Days List')"
      ]
     },
     "execution_count": 42,
     "metadata": {},
     "output_type": "execute_result"
    },
    {
     "data": {
      "image/png": "[encoded data removed]",
      "text/plain": [
       "<Figure size 864x576 with 1 Axes>"
      ]
     },
     "metadata": {
      "needs_background": "light"
     },
     "output_type": "display_data"
    }
   ],
   "source": [
    "plt.figure(figsize=(12,8))\n",
    "plt.plot(day_new,close_all[len(close_all)-time_step:])\n",
    "plt.plot(day_pred,scaler.inverse_transform(lst_output))\n",
    "plt.xticks(fontsize=10)\n",
    "plt.yticks(fontsize=10)\n",
    "plt.xlabel('Day', fontsize=15)\n",
    "plt.ylabel('Close', fontsize=15)\n",
    "plt.suptitle('Previous N day List and Preticted 30 Days List', fontsize=20)"
   ]
  },
  {
   "cell_type": "markdown",
   "metadata": {},
   "source": [
    "### after combine into original data"
   ]
  },
  {
   "cell_type": "code",
   "execution_count": 43,
   "metadata": {},
   "outputs": [
    {
     "data": {
      "text/plain": [
       "Text(0.5, 0.98, 'Combined Previous N day and Preticted 30 Days')"
      ]
     },
     "execution_count": 43,
     "metadata": {},
     "output_type": "execute_result"
    },
    {
     "data": {
      "image/png": "[encoded data removed]",
      "text/plain": [
       "<Figure size 864x576 with 1 Axes>"
      ]
     },
     "metadata": {
      "needs_background": "light"
     },
     "output_type": "display_data"
    }
   ],
   "source": [
    "df=close_all.tolist()\n",
    "df.extend(scaler.inverse_transform(lst_output))\n",
    "plt.figure(figsize=(12,8))\n",
    "plt.plot(df[5000:])\n",
    "plt.xticks(fontsize=10)\n",
    "plt.yticks(fontsize=10)\n",
    "plt.xlabel('Day', fontsize=15)\n",
    "plt.ylabel('Close', fontsize=15)\n",
    "plt.suptitle('Combined Previous N day and Preticted 30 Days', fontsize=20)"
   ]
  },
  {
   "cell_type": "code",
   "execution_count": 37,
   "metadata": {},
   "outputs": [],
   "source": [
    "df=scaler.inverse_transform(df).tolist()"
   ]
  },
  {
   "cell_type": "code",
   "execution_count": 38,
   "metadata": {
    "scrolled": true
   },
   "outputs": [
    {
     "data": {
      "text/html": [
       "<div>\n",
       "<style scoped>\n",
       "    .dataframe tbody tr th:only-of-type {\n",
       "        vertical-align: middle;\n",
       "    }\n",
       "\n",
       "    .dataframe tbody tr th {\n",
       "        vertical-align: top;\n",
       "    }\n",
       "\n",
       "    .dataframe thead th {\n",
       "        text-align: right;\n",
       "    }\n",
       "</style>\n",
       "<table border=\"1\" class=\"dataframe\">\n",
       "  <thead>\n",
       "    <tr style=\"text-align: right;\">\n",
       "      <th></th>\n",
       "      <th>1</th>\n",
       "    </tr>\n",
       "    <tr>\n",
       "      <th>0</th>\n",
       "      <th></th>\n",
       "    </tr>\n",
       "  </thead>\n",
       "  <tbody>\n",
       "    <tr>\n",
       "      <th>2000-01-03</th>\n",
       "      <td>867.563576</td>\n",
       "    </tr>\n",
       "    <tr>\n",
       "      <th>2000-01-04</th>\n",
       "      <td>838.617899</td>\n",
       "    </tr>\n",
       "    <tr>\n",
       "      <th>2000-01-05</th>\n",
       "      <td>841.719206</td>\n",
       "    </tr>\n",
       "    <tr>\n",
       "      <th>2000-01-06</th>\n",
       "      <td>842.752996</td>\n",
       "    </tr>\n",
       "    <tr>\n",
       "      <th>2000-01-07</th>\n",
       "      <td>904.779476</td>\n",
       "    </tr>\n",
       "  </tbody>\n",
       "</table>\n",
       "</div>"
      ],
      "text/plain": [
       "                     1\n",
       "0                     \n",
       "2000-01-03  867.563576\n",
       "2000-01-04  838.617899\n",
       "2000-01-05  841.719206\n",
       "2000-01-06  842.752996\n",
       "2000-01-07  904.779476"
      ]
     },
     "execution_count": 38,
     "metadata": {},
     "output_type": "execute_result"
    }
   ],
   "source": [
    "from pandas import DataFrame\n",
    "df_data_all = DataFrame (df)\n",
    "visual_add30 = pd.concat([combined_date,df_data_all], axis=1, ignore_index=True)\n",
    "visual_add30.set_index(visual_add30.columns[0],inplace=True)\n",
    "visual_add30.head(5)"
   ]
  },
  {
   "cell_type": "markdown",
   "metadata": {},
   "source": [
    "### all the data included predited 30 days"
   ]
  },
  {
   "cell_type": "code",
   "execution_count": 44,
   "metadata": {},
   "outputs": [
    {
     "data": {
      "text/plain": [
       "Text(0.5, 0.98, 'Combined with preticted 30 days')"
      ]
     },
     "execution_count": 44,
     "metadata": {},
     "output_type": "execute_result"
    },
    {
     "data": {
      "image/png": "[encoded data removed]",
      "text/plain": [
       "<Figure size 864x576 with 1 Axes>"
      ]
     },
     "metadata": {
      "needs_background": "light"
     },
     "output_type": "display_data"
    }
   ],
   "source": [
    "plt.figure(figsize=(12,8))\n",
    "plt.plot(visual_add30)\n",
    "plt.xticks(fontsize=10)\n",
    "plt.yticks(fontsize=10)\n",
    "plt.xlabel('Date (year)', fontsize=15)\n",
    "plt.ylabel('Close', fontsize=15)\n",
    "plt.suptitle('Combined with preticted 30 days', fontsize=20)"
   ]
  },
  {
   "cell_type": "code",
   "execution_count": null,
   "metadata": {},
   "outputs": [],
   "source": []
  }
 ],
 "metadata": {
  "kernelspec": {
   "display_name": "Python 3",
   "language": "python",
   "name": "python3"
  },
  "language_info": {
   "codemirror_mode": {
    "name": "ipython",
    "version": 3
   },
   "file_extension": ".py",
   "mimetype": "text/x-python",
   "name": "python",
   "nbconvert_exporter": "python",
   "pygments_lexer": "ipython3",
   "version": "3.7.6"
  }
 },
 "nbformat": 4,
 "nbformat_minor": 4
}
